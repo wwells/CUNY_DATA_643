{
 "cells": [
  {
   "cell_type": "markdown",
   "metadata": {},
   "source": [
    "# DATA 643: Recommender Systems\n",
    "Final Project:  Book Crossing RecSys | Walt Wells, Summer 2017"
   ]
  },
  {
   "cell_type": "markdown",
   "metadata": {},
   "source": [
    "# Notebook P2 - Data Preparation"
   ]
  },
  {
   "cell_type": "markdown",
   "metadata": {},
   "source": [
    "# Environment Prep"
   ]
  },
  {
   "cell_type": "code",
   "execution_count": 1,
   "metadata": {
    "collapsed": true
   },
   "outputs": [],
   "source": [
    "suppressMessages(library(dplyr))\n",
    "suppressMessages(library(stringr))\n",
    "suppressMessages(library(Matrix))\n",
    "suppressMessages(library(recommenderlab))\n",
    "suppressMessages(library(ggplot2))\n",
    "source('helper.R')"
   ]
  },
  {
   "cell_type": "markdown",
   "metadata": {},
   "source": [
    "# Data Prep"
   ]
  },
  {
   "cell_type": "code",
   "execution_count": 2,
   "metadata": {
    "collapsed": true
   },
   "outputs": [],
   "source": [
    "#rawBook <- read.csv('~/CUNY_DATA_643/FinalProject/BX-CSV-Dump/BX-Book-Ratings.csv', sep = ';')\n",
    "#indexBook <- read.csv('~/CUNY_DATA_643/FinalProject/BX-CSV-Dump/BX-Books.csv', sep = ';')\n",
    "\n",
    "# These were used as intermediary steps during the prep phase\n",
    "#saveRDS(rawBook, 'rawBook.rds')\n",
    "#saveRDS(indexBook, 'indexBook.rds')\n",
    "#rm(rawBook, indexBook)"
   ]
  },
  {
   "cell_type": "code",
   "execution_count": 3,
   "metadata": {
    "collapsed": true
   },
   "outputs": [],
   "source": [
    "rawBook <- readRDS('rawBook.rds')\n",
    "indexBook <- readRDS(\"indexBook.rds\")"
   ]
  },
  {
   "cell_type": "code",
   "execution_count": 4,
   "metadata": {},
   "outputs": [
    {
     "name": "stdout",
     "output_type": "stream",
     "text": [
      "'data.frame':\t493813 obs. of  3 variables:\n",
      " $ User.ID    : int  276725 276726 276727 276729 276729 276733 276736 276737 276744 276745 ...\n",
      " $ ISBN       : Factor w/ 204680 levels \" 0330299891\",..: 35318 18174 69599 83091 83104 175647 179196 97576 53592 180508 ...\n",
      " $ Book.Rating: int  0 5 0 3 6 0 8 6 7 10 ...\n"
     ]
    },
    {
     "data": {
      "text/html": [
       "<table>\n",
       "<thead><tr><th scope=col>User.ID</th><th scope=col>ISBN</th><th scope=col>Book.Rating</th></tr></thead>\n",
       "<tbody>\n",
       "\t<tr><td>276725    </td><td>034545104X</td><td>0         </td></tr>\n",
       "\t<tr><td>276726    </td><td>0155061224</td><td>5         </td></tr>\n",
       "\t<tr><td>276727    </td><td>0446520802</td><td>0         </td></tr>\n",
       "\t<tr><td>276729    </td><td>052165615X</td><td>3         </td></tr>\n",
       "\t<tr><td>276729    </td><td>0521795028</td><td>6         </td></tr>\n",
       "\t<tr><td>276733    </td><td>2080674722</td><td>0         </td></tr>\n",
       "</tbody>\n",
       "</table>\n"
      ],
      "text/latex": [
       "\\begin{tabular}{r|lll}\n",
       " User.ID & ISBN & Book.Rating\\\\\n",
       "\\hline\n",
       "\t 276725     & 034545104X & 0         \\\\\n",
       "\t 276726     & 0155061224 & 5         \\\\\n",
       "\t 276727     & 0446520802 & 0         \\\\\n",
       "\t 276729     & 052165615X & 3         \\\\\n",
       "\t 276729     & 0521795028 & 6         \\\\\n",
       "\t 276733     & 2080674722 & 0         \\\\\n",
       "\\end{tabular}\n"
      ],
      "text/markdown": [
       "\n",
       "User.ID | ISBN | Book.Rating | \n",
       "|---|---|---|---|---|---|\n",
       "| 276725     | 034545104X | 0          | \n",
       "| 276726     | 0155061224 | 5          | \n",
       "| 276727     | 0446520802 | 0          | \n",
       "| 276729     | 052165615X | 3          | \n",
       "| 276729     | 0521795028 | 6          | \n",
       "| 276733     | 2080674722 | 0          | \n",
       "\n",
       "\n"
      ],
      "text/plain": [
       "  User.ID ISBN       Book.Rating\n",
       "1 276725  034545104X 0          \n",
       "2 276726  0155061224 5          \n",
       "3 276727  0446520802 0          \n",
       "4 276729  052165615X 3          \n",
       "5 276729  0521795028 6          \n",
       "6 276733  2080674722 0          "
      ]
     },
     "metadata": {},
     "output_type": "display_data"
    },
    {
     "data": {
      "text/html": [
       "<table>\n",
       "<thead><tr><th scope=col>ISBN</th><th scope=col>Book.Title</th><th scope=col>Book.Author</th><th scope=col>Year.Of.Publication</th><th scope=col>Publisher</th><th scope=col>Image.URL.S</th><th scope=col>Image.URL.M</th><th scope=col>Image.URL.L</th></tr></thead>\n",
       "<tbody>\n",
       "\t<tr><td>0195153448                                                                                        </td><td>Classical Mythology                                                                               </td><td>Mark P. O. Morford                                                                                </td><td>2002                                                                                              </td><td>Oxford University Press                                                                           </td><td>http://images.amazon.com/images/P/0195153448.01.THUMBZZZ.jpg                                      </td><td>http://images.amazon.com/images/P/0195153448.01.MZZZZZZZ.jpg                                      </td><td>http://images.amazon.com/images/P/0195153448.01.LZZZZZZZ.jpg                                      </td></tr>\n",
       "\t<tr><td>0002005018                                                                                        </td><td>Clara Callan                                                                                      </td><td>Richard Bruce Wright                                                                              </td><td>2001                                                                                              </td><td>HarperFlamingo Canada                                                                             </td><td>http://images.amazon.com/images/P/0002005018.01.THUMBZZZ.jpg                                      </td><td>http://images.amazon.com/images/P/0002005018.01.MZZZZZZZ.jpg                                      </td><td>http://images.amazon.com/images/P/0002005018.01.LZZZZZZZ.jpg                                      </td></tr>\n",
       "\t<tr><td>0060973129                                                                                        </td><td>Decision in Normandy                                                                              </td><td>Carlo D'Este                                                                                      </td><td>1991                                                                                              </td><td>HarperPerennial                                                                                   </td><td>http://images.amazon.com/images/P/0060973129.01.THUMBZZZ.jpg                                      </td><td>http://images.amazon.com/images/P/0060973129.01.MZZZZZZZ.jpg                                      </td><td>http://images.amazon.com/images/P/0060973129.01.LZZZZZZZ.jpg                                      </td></tr>\n",
       "\t<tr><td>0374157065                                                                                        </td><td>Flu: The Story of the Great Influenza Pandemic of 1918 and the Search for the Virus That Caused It</td><td>Gina Bari Kolata                                                                                  </td><td>1999                                                                                              </td><td>Farrar Straus Giroux                                                                              </td><td>http://images.amazon.com/images/P/0374157065.01.THUMBZZZ.jpg                                      </td><td>http://images.amazon.com/images/P/0374157065.01.MZZZZZZZ.jpg                                      </td><td>http://images.amazon.com/images/P/0374157065.01.LZZZZZZZ.jpg                                      </td></tr>\n",
       "\t<tr><td>0393045218                                                                                                                                </td><td><span style=white-space:pre-wrap>The Mummies of Urumchi                                                                            </span></td><td><span style=white-space:pre-wrap>E. J. W. Barber     </span>                                                                              </td><td>1999                                                                                                                                      </td><td>W. W. Norton &amp;amp; Company                                                                                                            </td><td>http://images.amazon.com/images/P/0393045218.01.THUMBZZZ.jpg                                                                              </td><td>http://images.amazon.com/images/P/0393045218.01.MZZZZZZZ.jpg                                                                              </td><td>http://images.amazon.com/images/P/0393045218.01.LZZZZZZZ.jpg                                                                              </td></tr>\n",
       "\t<tr><td>0399135782                                                                                        </td><td>The Kitchen God's Wife                                                                            </td><td>Amy Tan                                                                                           </td><td>1991                                                                                              </td><td>Putnam Pub Group                                                                                  </td><td>http://images.amazon.com/images/P/0399135782.01.THUMBZZZ.jpg                                      </td><td>http://images.amazon.com/images/P/0399135782.01.MZZZZZZZ.jpg                                      </td><td>http://images.amazon.com/images/P/0399135782.01.LZZZZZZZ.jpg                                      </td></tr>\n",
       "</tbody>\n",
       "</table>\n"
      ],
      "text/latex": [
       "\\begin{tabular}{r|llllllll}\n",
       " ISBN & Book.Title & Book.Author & Year.Of.Publication & Publisher & Image.URL.S & Image.URL.M & Image.URL.L\\\\\n",
       "\\hline\n",
       "\t 0195153448                                                                                         & Classical Mythology                                                                                & Mark P. O. Morford                                                                                 & 2002                                                                                               & Oxford University Press                                                                            & http://images.amazon.com/images/P/0195153448.01.THUMBZZZ.jpg                                       & http://images.amazon.com/images/P/0195153448.01.MZZZZZZZ.jpg                                       & http://images.amazon.com/images/P/0195153448.01.LZZZZZZZ.jpg                                      \\\\\n",
       "\t 0002005018                                                                                         & Clara Callan                                                                                       & Richard Bruce Wright                                                                               & 2001                                                                                               & HarperFlamingo Canada                                                                              & http://images.amazon.com/images/P/0002005018.01.THUMBZZZ.jpg                                       & http://images.amazon.com/images/P/0002005018.01.MZZZZZZZ.jpg                                       & http://images.amazon.com/images/P/0002005018.01.LZZZZZZZ.jpg                                      \\\\\n",
       "\t 0060973129                                                                                         & Decision in Normandy                                                                               & Carlo D'Este                                                                                       & 1991                                                                                               & HarperPerennial                                                                                    & http://images.amazon.com/images/P/0060973129.01.THUMBZZZ.jpg                                       & http://images.amazon.com/images/P/0060973129.01.MZZZZZZZ.jpg                                       & http://images.amazon.com/images/P/0060973129.01.LZZZZZZZ.jpg                                      \\\\\n",
       "\t 0374157065                                                                                         & Flu: The Story of the Great Influenza Pandemic of 1918 and the Search for the Virus That Caused It & Gina Bari Kolata                                                                                   & 1999                                                                                               & Farrar Straus Giroux                                                                               & http://images.amazon.com/images/P/0374157065.01.THUMBZZZ.jpg                                       & http://images.amazon.com/images/P/0374157065.01.MZZZZZZZ.jpg                                       & http://images.amazon.com/images/P/0374157065.01.LZZZZZZZ.jpg                                      \\\\\n",
       "\t 0393045218                                                                                         & The Mummies of Urumchi                                                                             & E. J. W. Barber                                                                                    & 1999                                                                                               & W. W. Norton \\&amp; Company                                                                       & http://images.amazon.com/images/P/0393045218.01.THUMBZZZ.jpg                                       & http://images.amazon.com/images/P/0393045218.01.MZZZZZZZ.jpg                                       & http://images.amazon.com/images/P/0393045218.01.LZZZZZZZ.jpg                                      \\\\\n",
       "\t 0399135782                                                                                         & The Kitchen God's Wife                                                                             & Amy Tan                                                                                            & 1991                                                                                               & Putnam Pub Group                                                                                   & http://images.amazon.com/images/P/0399135782.01.THUMBZZZ.jpg                                       & http://images.amazon.com/images/P/0399135782.01.MZZZZZZZ.jpg                                       & http://images.amazon.com/images/P/0399135782.01.LZZZZZZZ.jpg                                      \\\\\n",
       "\\end{tabular}\n"
      ],
      "text/markdown": [
       "\n",
       "ISBN | Book.Title | Book.Author | Year.Of.Publication | Publisher | Image.URL.S | Image.URL.M | Image.URL.L | \n",
       "|---|---|---|---|---|---|\n",
       "| 0195153448                                                                                         | Classical Mythology                                                                                | Mark P. O. Morford                                                                                 | 2002                                                                                               | Oxford University Press                                                                            | http://images.amazon.com/images/P/0195153448.01.THUMBZZZ.jpg                                       | http://images.amazon.com/images/P/0195153448.01.MZZZZZZZ.jpg                                       | http://images.amazon.com/images/P/0195153448.01.LZZZZZZZ.jpg                                       | \n",
       "| 0002005018                                                                                         | Clara Callan                                                                                       | Richard Bruce Wright                                                                               | 2001                                                                                               | HarperFlamingo Canada                                                                              | http://images.amazon.com/images/P/0002005018.01.THUMBZZZ.jpg                                       | http://images.amazon.com/images/P/0002005018.01.MZZZZZZZ.jpg                                       | http://images.amazon.com/images/P/0002005018.01.LZZZZZZZ.jpg                                       | \n",
       "| 0060973129                                                                                         | Decision in Normandy                                                                               | Carlo D'Este                                                                                       | 1991                                                                                               | HarperPerennial                                                                                    | http://images.amazon.com/images/P/0060973129.01.THUMBZZZ.jpg                                       | http://images.amazon.com/images/P/0060973129.01.MZZZZZZZ.jpg                                       | http://images.amazon.com/images/P/0060973129.01.LZZZZZZZ.jpg                                       | \n",
       "| 0374157065                                                                                         | Flu: The Story of the Great Influenza Pandemic of 1918 and the Search for the Virus That Caused It | Gina Bari Kolata                                                                                   | 1999                                                                                               | Farrar Straus Giroux                                                                               | http://images.amazon.com/images/P/0374157065.01.THUMBZZZ.jpg                                       | http://images.amazon.com/images/P/0374157065.01.MZZZZZZZ.jpg                                       | http://images.amazon.com/images/P/0374157065.01.LZZZZZZZ.jpg                                       | \n",
       "| 0393045218                                                                                         | The Mummies of Urumchi                                                                             | E. J. W. Barber                                                                                    | 1999                                                                                               | W. W. Norton &amp; Company                                                                         | http://images.amazon.com/images/P/0393045218.01.THUMBZZZ.jpg                                       | http://images.amazon.com/images/P/0393045218.01.MZZZZZZZ.jpg                                       | http://images.amazon.com/images/P/0393045218.01.LZZZZZZZ.jpg                                       | \n",
       "| 0399135782                                                                                         | The Kitchen God's Wife                                                                             | Amy Tan                                                                                            | 1991                                                                                               | Putnam Pub Group                                                                                   | http://images.amazon.com/images/P/0399135782.01.THUMBZZZ.jpg                                       | http://images.amazon.com/images/P/0399135782.01.MZZZZZZZ.jpg                                       | http://images.amazon.com/images/P/0399135782.01.LZZZZZZZ.jpg                                       | \n",
       "\n",
       "\n"
      ],
      "text/plain": [
       "  ISBN      \n",
       "1 0195153448\n",
       "2 0002005018\n",
       "3 0060973129\n",
       "4 0374157065\n",
       "5 0393045218\n",
       "6 0399135782\n",
       "  Book.Title                                                                                        \n",
       "1 Classical Mythology                                                                               \n",
       "2 Clara Callan                                                                                      \n",
       "3 Decision in Normandy                                                                              \n",
       "4 Flu: The Story of the Great Influenza Pandemic of 1918 and the Search for the Virus That Caused It\n",
       "5 The Mummies of Urumchi                                                                            \n",
       "6 The Kitchen God's Wife                                                                            \n",
       "  Book.Author          Year.Of.Publication Publisher                 \n",
       "1 Mark P. O. Morford   2002                Oxford University Press   \n",
       "2 Richard Bruce Wright 2001                HarperFlamingo Canada     \n",
       "3 Carlo D'Este         1991                HarperPerennial           \n",
       "4 Gina Bari Kolata     1999                Farrar Straus Giroux      \n",
       "5 E. J. W. Barber      1999                W. W. Norton &amp; Company\n",
       "6 Amy Tan              1991                Putnam Pub Group          \n",
       "  Image.URL.S                                                 \n",
       "1 http://images.amazon.com/images/P/0195153448.01.THUMBZZZ.jpg\n",
       "2 http://images.amazon.com/images/P/0002005018.01.THUMBZZZ.jpg\n",
       "3 http://images.amazon.com/images/P/0060973129.01.THUMBZZZ.jpg\n",
       "4 http://images.amazon.com/images/P/0374157065.01.THUMBZZZ.jpg\n",
       "5 http://images.amazon.com/images/P/0393045218.01.THUMBZZZ.jpg\n",
       "6 http://images.amazon.com/images/P/0399135782.01.THUMBZZZ.jpg\n",
       "  Image.URL.M                                                 \n",
       "1 http://images.amazon.com/images/P/0195153448.01.MZZZZZZZ.jpg\n",
       "2 http://images.amazon.com/images/P/0002005018.01.MZZZZZZZ.jpg\n",
       "3 http://images.amazon.com/images/P/0060973129.01.MZZZZZZZ.jpg\n",
       "4 http://images.amazon.com/images/P/0374157065.01.MZZZZZZZ.jpg\n",
       "5 http://images.amazon.com/images/P/0393045218.01.MZZZZZZZ.jpg\n",
       "6 http://images.amazon.com/images/P/0399135782.01.MZZZZZZZ.jpg\n",
       "  Image.URL.L                                                 \n",
       "1 http://images.amazon.com/images/P/0195153448.01.LZZZZZZZ.jpg\n",
       "2 http://images.amazon.com/images/P/0002005018.01.LZZZZZZZ.jpg\n",
       "3 http://images.amazon.com/images/P/0060973129.01.LZZZZZZZ.jpg\n",
       "4 http://images.amazon.com/images/P/0374157065.01.LZZZZZZZ.jpg\n",
       "5 http://images.amazon.com/images/P/0393045218.01.LZZZZZZZ.jpg\n",
       "6 http://images.amazon.com/images/P/0399135782.01.LZZZZZZZ.jpg"
      ]
     },
     "metadata": {},
     "output_type": "display_data"
    }
   ],
   "source": [
    "str(rawBook)\n",
    "head(rawBook)\n",
    "head(indexBook)"
   ]
  },
  {
   "cell_type": "markdown",
   "metadata": {},
   "source": [
    "### Remove 0s\n",
    "\n",
    "From the data page - \"Ratings (`Book-Rating`) are either explicit, expressed on a scale from 1-10 (higher values denoting higher appreciation), or implicit, expressed by 0.\"\n",
    "\n",
    "However, not all ratings and users have a 0.   We will remove these rows, as when constructed as a binarized utility matrix later, they will all become 0s again (along with the NAs)"
   ]
  },
  {
   "cell_type": "code",
   "execution_count": 5,
   "metadata": {},
   "outputs": [
    {
     "data": {
      "text/plain": [
       "\n",
       "     0      1      2      3      4      5      6      7      8      9     10 \n",
       "317794    658   1184   2622   3802  21546  15222  31300  42046  26549  31090 "
      ]
     },
     "metadata": {},
     "output_type": "display_data"
    },
    {
     "data": {
      "text/plain": [
       "\n",
       "    1     2     3     4     5     6     7     8     9    10 \n",
       "  658  1184  2622  3802 21546 15222 31300 42046 26549 31090 "
      ]
     },
     "metadata": {},
     "output_type": "display_data"
    }
   ],
   "source": [
    "table(rawBook$Book.Rating)\n",
    "rawBook <- rawBook[!rawBook$Book.Rating ==0, ]\n",
    "table(rawBook$Book.Rating)"
   ]
  },
  {
   "cell_type": "markdown",
   "metadata": {},
   "source": [
    "### Clean Up ISBN Field\n",
    "\n",
    "There is some noisy punctuation left over in the ISBN field.   Let's remove it in both our datasets. "
   ]
  },
  {
   "cell_type": "code",
   "execution_count": 6,
   "metadata": {},
   "outputs": [
    {
     "name": "stdout",
     "output_type": "stream",
     "text": [
      "'data.frame':\t176019 obs. of  3 variables:\n",
      " $ User.ID    : Factor w/ 33095 levels \"8\",\"9\",\"10\",\"12\",..: 32471 32472 32472 32473 32474 32475 32476 32477 32477 32477 ...\n",
      " $ ISBN       : Factor w/ 95795 levels \"0 671 74251 5\",..: 9105 38383 38391 82655 44529 24566 83268 2177 46856 50240 ...\n",
      " $ Book.Rating: int  5 3 6 8 6 7 10 9 9 8 ...\n"
     ]
    }
   ],
   "source": [
    "cleanISBN <- function(vec) {\n",
    "    # takes a vector, performs string transformation on it\n",
    "    newvec <- str_replace_all(as.character(vec),\"[[:punct:]]\",\"\")\n",
    "    newvec <- str_replace_all(as.character(newvec),\"[+|=|`]\",\"\")\n",
    "    #newvec <- gsub(\" \", \"\", newvec)\n",
    "    str_trim(newvec)\n",
    "}\n",
    "rawBook$ISBN <- cleanISBN(rawBook$ISBN)\n",
    "indexBook$ISBN <- cleanISBN(indexBook$ISBN)\n",
    "\n",
    "saveRDS(indexBook, 'indexBook.rds')\n",
    "\n",
    "## deal with ISBN Outliers\n",
    "rawBook <- subset(rawBook, !(ISBN == \"(THEWINDMILLP\"))\n",
    "\n",
    "## Factorize\n",
    "rawBook$ISBN <- as.factor(rawBook$ISBN)\n",
    "rawBook$User.ID <- as.factor(rawBook$User.ID)\n",
    "str(rawBook)"
   ]
  },
  {
   "cell_type": "markdown",
   "metadata": {},
   "source": [
    "### Store as Sparse Matrix\n",
    "\n",
    "We're just going to rename our users sequentially, since we won't be using the user content data.  "
   ]
  },
  {
   "cell_type": "code",
   "execution_count": 7,
   "metadata": {},
   "outputs": [],
   "source": [
    "BookSparse <- sparseMatrix(i = as.integer(rawBook$User.ID),\n",
    "                           j = as.integer(rawBook$ISBN),\n",
    "                           x = rawBook$Book.Rating)\n",
    "\n",
    "colnames(BookSparse) <- levels(rawBook$ISBN)\n",
    "rownames(BookSparse) <- 1:nlevels(rawBook$User.ID)"
   ]
  },
  {
   "cell_type": "markdown",
   "metadata": {},
   "source": [
    "### Save as Recommender Lab Objects\n",
    "\n",
    "We'll save two objects to import in our modelling notebook.   One with explicit and one with implicit ratings. "
   ]
  },
  {
   "cell_type": "code",
   "execution_count": 8,
   "metadata": {
    "collapsed": true
   },
   "outputs": [],
   "source": [
    "BookM <- new(\"realRatingMatrix\", data=BookSparse)\n",
    "\n",
    "BinBookM <- new('binaryRatingMatrix', binarize(BookM, minRating=1))"
   ]
  },
  {
   "cell_type": "markdown",
   "metadata": {},
   "source": [
    "### Normalize"
   ]
  },
  {
   "cell_type": "code",
   "execution_count": 9,
   "metadata": {
    "collapsed": true
   },
   "outputs": [],
   "source": [
    "BookM <- normalize(BookM, method=\"center\")"
   ]
  },
  {
   "cell_type": "markdown",
   "metadata": {},
   "source": [
    "### Review Object Sizes\n",
    "\n",
    "Using function defined in helper.R"
   ]
  },
  {
   "cell_type": "code",
   "execution_count": 10,
   "metadata": {},
   "outputs": [
    {
     "name": "stdout",
     "output_type": "stream",
     "text": [
      "[1] \"Object rawBook size: 21.212 MB |  Dim: 176019 3\"\n",
      "[1] \"Object BookSparse size: 20.905 MB |  Dim: 33095 95795\"\n",
      "[1] \"Object BookM size: 22.927 MB |  Dim: 33095 95795\"\n",
      "[1] \"Object BinBookM size: 19.326 MB |  Dim: 33095 95795\"\n",
      "[1] \"Object indexBook size: 101.42 MB |  Dim: 115253 8\"\n"
     ]
    }
   ],
   "source": [
    "getSizeDim(rawBook)\n",
    "getSizeDim(BookSparse)\n",
    "getSizeDim(BookM)\n",
    "getSizeDim(BinBookM)\n",
    "getSizeDim(indexBook)"
   ]
  },
  {
   "cell_type": "markdown",
   "metadata": {},
   "source": [
    "### Review if any books or users are not represented"
   ]
  },
  {
   "cell_type": "code",
   "execution_count": 11,
   "metadata": {},
   "outputs": [
    {
     "data": {
      "text/plain": [
       "33095 x 95795 rating matrix of class ‘realRatingMatrix’ with 176017 ratings.\n",
       "Normalized using center on rows."
      ]
     },
     "metadata": {},
     "output_type": "display_data"
    },
    {
     "data": {
      "text/plain": [
       "33095 x 95795 rating matrix of class ‘realRatingMatrix’ with 176017 ratings.\n",
       "Normalized using center on rows."
      ]
     },
     "metadata": {},
     "output_type": "display_data"
    },
    {
     "data": {
      "text/plain": [
       "33095 x 95795 rating matrix of class ‘binaryRatingMatrix’ with 176017 ratings."
      ]
     },
     "metadata": {},
     "output_type": "display_data"
    }
   ],
   "source": [
    "test <- BookM[rowCounts(BookM) > 0, colCounts(BookM) > 0]\n",
    "test\n",
    "BookM\n",
    "BinBookM"
   ]
  },
  {
   "cell_type": "markdown",
   "metadata": {},
   "source": [
    "### Initial Data Exploration\n",
    "\n",
    "Let's review some summary stats on the book ratings.   "
   ]
  },
  {
   "cell_type": "code",
   "execution_count": 12,
   "metadata": {},
   "outputs": [
    {
     "data": {
      "text/html": [
       "<dl class=dl-horizontal>\n",
       "\t<dt>0%</dt>\n",
       "\t\t<dd>-8.36470588235294</dd>\n",
       "\t<dt>25%</dt>\n",
       "\t\t<dd>-0.673072460146027</dd>\n",
       "\t<dt>50%</dt>\n",
       "\t\t<dd>0</dd>\n",
       "\t<dt>75%</dt>\n",
       "\t\t<dd>0.684544555264096</dd>\n",
       "\t<dt>100%</dt>\n",
       "\t\t<dd>5.68965517241379</dd>\n",
       "</dl>\n"
      ],
      "text/latex": [
       "\\begin{description*}\n",
       "\\item[0\\textbackslash{}\\%] -8.36470588235294\n",
       "\\item[25\\textbackslash{}\\%] -0.673072460146027\n",
       "\\item[50\\textbackslash{}\\%] 0\n",
       "\\item[75\\textbackslash{}\\%] 0.684544555264096\n",
       "\\item[100\\textbackslash{}\\%] 5.68965517241379\n",
       "\\end{description*}\n"
      ],
      "text/markdown": [
       "0%\n",
       ":   -8.3647058823529425%\n",
       ":   -0.67307246014602750%\n",
       ":   075%\n",
       ":   0.684544555264096100%\n",
       ":   5.68965517241379\n",
       "\n"
      ],
      "text/plain": [
       "        0%        25%        50%        75%       100% \n",
       "-8.3647059 -0.6730725  0.0000000  0.6845446  5.6896552 "
      ]
     },
     "metadata": {},
     "output_type": "display_data"
    }
   ],
   "source": [
    "bookMeans <- colMeans(BookM)\n",
    "quantile(bookMeans)"
   ]
  },
  {
   "cell_type": "code",
   "execution_count": 13,
   "metadata": {},
   "outputs": [
    {
     "name": "stderr",
     "output_type": "stream",
     "text": [
      "`stat_bin()` using `bins = 30`. Pick better value with `binwidth`.\n"
     ]
    },
    {
     "data": {},
     "metadata": {},
     "output_type": "display_data"
    },
    {
     "data": {
      "image/png": "[encoded data removed]",
      "text/plain": [
       "plot without title"
      ]
     },
     "metadata": {},
     "output_type": "display_data"
    }
   ],
   "source": [
    "qplot(bookMeans) + \n",
    "    stat_bin(binwidth=.25) + \n",
    "    geom_vline(xintercept = mean(bookMeans), col='orange') + \n",
    "    ggtitle(\"Distribution of Normalized Book Means\") + \n",
    "    xlab(\"Book Mean\")"
   ]
  },
  {
   "cell_type": "markdown",
   "metadata": {},
   "source": [
    "## HeatMaps"
   ]
  },
  {
   "cell_type": "code",
   "execution_count": 14,
   "metadata": {
    "scrolled": true
   },
   "outputs": [
    {
     "data": {},
     "metadata": {},
     "output_type": "display_data"
    },
    {
     "data": {
      "image/png": "[encoded data removed]",
      "text/plain": [
       "plot without title"
      ]
     },
     "metadata": {},
     "output_type": "display_data"
    }
   ],
   "source": [
    "min_books <- quantile(rowCounts(BookM), 0.995)\n",
    "min_users <- quantile(colCounts(BookM), 0.999)\n",
    "image(BookM[rowCounts(BookM) > min_books, \n",
    "            colCounts(BookM) > min_users], \n",
    "      main = \"Heatmap of the most populated users and books\")"
   ]
  },
  {
   "cell_type": "code",
   "execution_count": 15,
   "metadata": {},
   "outputs": [
    {
     "data": {
      "text/plain": [
       "   0%   25%   50%   75%  100% \n",
       "    1     1     3    12 19327 "
      ]
     },
     "metadata": {},
     "output_type": "display_data"
    },
    {
     "data": {
      "text/plain": [
       "     0%     25%     50%     75%    100% \n",
       "    1.0     1.0     4.0    22.5 72617.0 "
      ]
     },
     "metadata": {},
     "output_type": "display_data"
    }
   ],
   "source": [
    "quantile(table(rowCounts(BookM)))\n",
    "quantile(table(colCounts(BookM)))"
   ]
  },
  {
   "cell_type": "markdown",
   "metadata": {},
   "source": [
    "# Export\n",
    "\n",
    "We will export our final normalized ratings matrix and our binary matrix for use in the P3 modeling notebook"
   ]
  },
  {
   "cell_type": "code",
   "execution_count": 16,
   "metadata": {
    "collapsed": true
   },
   "outputs": [],
   "source": [
    "saveRDS(BinBookM, 'binBookM.rds')\n",
    "saveRDS(BookM, 'BookM.rds')"
   ]
  }
 ],
 "metadata": {
  "kernelspec": {
   "display_name": "R",
   "language": "R",
   "name": "ir"
  },
  "language_info": {
   "codemirror_mode": "r",
   "file_extension": ".r",
   "mimetype": "text/x-r-source",
   "name": "R",
   "pygments_lexer": "r",
   "version": "3.3.2"
  }
 },
 "nbformat": 4,
 "nbformat_minor": 2
}
