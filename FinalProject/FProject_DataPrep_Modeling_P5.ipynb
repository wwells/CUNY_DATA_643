{
 "cells": [
  {
   "cell_type": "markdown",
   "metadata": {},
   "source": [
    "# DATA 643: Recommender Systems\n",
    "Final Project:  Book Crossing RecSys | Walt Wells, Summer 2017"
   ]
  },
  {
   "cell_type": "markdown",
   "metadata": {},
   "source": [
    "# Notebook P5 - Recommendations | Summary"
   ]
  },
  {
   "cell_type": "markdown",
   "metadata": {},
   "source": [
    "# Environment Prep"
   ]
  },
  {
   "cell_type": "code",
   "execution_count": 3,
   "metadata": {
    "collapsed": true
   },
   "outputs": [],
   "source": [
    "suppressMessages(library(ggplot2))\n",
    "source('helper.R')"
   ]
  },
  {
   "cell_type": "markdown",
   "metadata": {},
   "source": [
    "# Data Import"
   ]
  },
  {
   "cell_type": "code",
   "execution_count": 11,
   "metadata": {
    "collapsed": true
   },
   "outputs": [],
   "source": [
    "clustered <- readRDS(\"clusteredPreds.rds\")\n",
    "indexBook <- readRDS(\"indexBook.rds\")"
   ]
  },
  {
   "cell_type": "code",
   "execution_count": 82,
   "metadata": {
    "collapsed": true
   },
   "outputs": [],
   "source": [
    "getRec <- function(clusterNum, n) {\n",
    "    vec <- t(t(clustered$predicted[clusterNum,]))\n",
    "    sorted_vec <- vec[order(-vec),]\n",
    "    rec <- data.frame(head(sorted_vec, n))\n",
    "    rec$ISBN <- rownames(rec)\n",
    "    rownames(rec) <- NULL\n",
    "    names(rec) <- c(\"Prediction\", \"ISBN\")\n",
    "    rec\n",
    "}"
   ]
  },
  {
   "cell_type": "code",
   "execution_count": 95,
   "metadata": {},
   "outputs": [
    {
     "data": {
      "text/html": [
       "<table>\n",
       "<thead><tr><th scope=col>Prediction</th><th scope=col>ISBN</th></tr></thead>\n",
       "<tbody>\n",
       "\t<tr><td>0.009782184</td><td>0316666343 </td></tr>\n",
       "\t<tr><td>0.004458608</td><td>0345370775 </td></tr>\n",
       "\t<tr><td>0.004243754</td><td>044021145X </td></tr>\n",
       "\t<tr><td>0.004227872</td><td>0385504209 </td></tr>\n",
       "\t<tr><td>0.003981061</td><td>0440206154 </td></tr>\n",
       "\t<tr><td>0.003876995</td><td>0440213525 </td></tr>\n",
       "\t<tr><td>0.003826976</td><td>0345353145 </td></tr>\n",
       "\t<tr><td>0.003421627</td><td>0451167317 </td></tr>\n",
       "\t<tr><td>0.003407507</td><td>0553250426 </td></tr>\n",
       "\t<tr><td>0.003310988</td><td>0425147622 </td></tr>\n",
       "</tbody>\n",
       "</table>\n"
      ],
      "text/latex": [
       "\\begin{tabular}{r|ll}\n",
       " Prediction & ISBN\\\\\n",
       "\\hline\n",
       "\t 0.009782184 & 0316666343 \\\\\n",
       "\t 0.004458608 & 0345370775 \\\\\n",
       "\t 0.004243754 & 044021145X \\\\\n",
       "\t 0.004227872 & 0385504209 \\\\\n",
       "\t 0.003981061 & 0440206154 \\\\\n",
       "\t 0.003876995 & 0440213525 \\\\\n",
       "\t 0.003826976 & 0345353145 \\\\\n",
       "\t 0.003421627 & 0451167317 \\\\\n",
       "\t 0.003407507 & 0553250426 \\\\\n",
       "\t 0.003310988 & 0425147622 \\\\\n",
       "\\end{tabular}\n"
      ],
      "text/markdown": [
       "\n",
       "Prediction | ISBN | \n",
       "|---|---|---|---|---|---|---|---|---|---|\n",
       "| 0.009782184 | 0316666343  | \n",
       "| 0.004458608 | 0345370775  | \n",
       "| 0.004243754 | 044021145X  | \n",
       "| 0.004227872 | 0385504209  | \n",
       "| 0.003981061 | 0440206154  | \n",
       "| 0.003876995 | 0440213525  | \n",
       "| 0.003826976 | 0345353145  | \n",
       "| 0.003421627 | 0451167317  | \n",
       "| 0.003407507 | 0553250426  | \n",
       "| 0.003310988 | 0425147622  | \n",
       "\n",
       "\n"
      ],
      "text/plain": [
       "   Prediction  ISBN      \n",
       "1  0.009782184 0316666343\n",
       "2  0.004458608 0345370775\n",
       "3  0.004243754 044021145X\n",
       "4  0.004227872 0385504209\n",
       "5  0.003981061 0440206154\n",
       "6  0.003876995 0440213525\n",
       "7  0.003826976 0345353145\n",
       "8  0.003421627 0451167317\n",
       "9  0.003407507 0553250426\n",
       "10 0.003310988 0425147622"
      ]
     },
     "metadata": {},
     "output_type": "display_data"
    }
   ],
   "source": [
    "getRec(8, 10)"
   ]
  },
  {
   "cell_type": "code",
   "execution_count": 93,
   "metadata": {},
   "outputs": [],
   "source": [
    "getBook <- function(ISBN) {\n",
    "    vec <- indexBook[indexBook$ISBN == ISBN,]\n",
    "    vec <- vec[ , c(\"Book.Title\",\"Book.Author\", \"Image.URL.M\")]\n",
    "    vec\n",
    "}"
   ]
  },
  {
   "cell_type": "code",
   "execution_count": 113,
   "metadata": {},
   "outputs": [
    {
     "name": "stderr",
     "output_type": "stream",
     "text": [
      "Warning message in download.file(myurl, z, mode = \"wb\"):\n",
      "“cannot open URL 'http://images.amazon.com/images/P/0316666343.01.MZZZZZZZ.jpg': HTTP status was '403 Forbidden'”"
     ]
    },
    {
     "ename": "ERROR",
     "evalue": "Error in download.file(myurl, z, mode = \"wb\"): cannot open URL 'http://images.amazon.com/images/P/0316666343.01.MZZZZZZZ.jpg'\n",
     "output_type": "error",
     "traceback": [
      "Error in download.file(myurl, z, mode = \"wb\"): cannot open URL 'http://images.amazon.com/images/P/0316666343.01.MZZZZZZZ.jpg'\nTraceback:\n",
      "1. download.file(myurl, z, mode = \"wb\")"
     ]
    }
   ],
   "source": [
    "#install.packages('jpeg')\n",
    "library(jpeg)\n",
    "myurl <- \"http://images.amazon.com/images/P/0316666343.01.MZZZZZZZ.jpg\"\n",
    "z <- tempfile()\n",
    "download.file(myurl,z,mode=\"wb\")\n",
    "pic <- readJPEG(z)\n",
    "#img<-readJPEG(\"http://images.amazon.com/images/P/0316666343.01.MZZZZZZZ.jpg\")\n",
    "#now open a plot window with coordinates\n",
    "plot(1:10,ty=\"n\")\n",
    "#specify the position of the image through bottom-left and top-right coords\n",
    "rasterImage(pic,2,2,4,4)\n",
    "#plot(myjpg)"
   ]
  },
  {
   "cell_type": "code",
   "execution_count": 106,
   "metadata": {},
   "outputs": [
    {
     "data": {
      "text/html": [
       "<table>\n",
       "<thead><tr><th></th><th scope=col>Book.Title</th><th scope=col>Book.Author</th><th scope=col>Image.URL.M</th></tr></thead>\n",
       "<tbody>\n",
       "\t<tr><th scope=row>409</th><td>The Lovely Bones: A Novel                                   </td><td>Alice Sebold                                                </td><td>http://images.amazon.com/images/P/0316666343.01.MZZZZZZZ.jpg</td></tr>\n",
       "</tbody>\n",
       "</table>\n"
      ],
      "text/latex": [
       "\\begin{tabular}{r|lll}\n",
       "  & Book.Title & Book.Author & Image.URL.M\\\\\n",
       "\\hline\n",
       "\t409 & The Lovely Bones: A Novel                                    & Alice Sebold                                                 & http://images.amazon.com/images/P/0316666343.01.MZZZZZZZ.jpg\\\\\n",
       "\\end{tabular}\n"
      ],
      "text/markdown": [
       "\n",
       "| <!--/--> | Book.Title | Book.Author | Image.URL.M | \n",
       "|---|\n",
       "| 409 | The Lovely Bones: A Novel                                    | Alice Sebold                                                 | http://images.amazon.com/images/P/0316666343.01.MZZZZZZZ.jpg | \n",
       "\n",
       "\n"
      ],
      "text/plain": [
       "    Book.Title                Book.Author \n",
       "409 The Lovely Bones: A Novel Alice Sebold\n",
       "    Image.URL.M                                                 \n",
       "409 http://images.amazon.com/images/P/0316666343.01.MZZZZZZZ.jpg"
      ]
     },
     "metadata": {},
     "output_type": "display_data"
    },
    {
     "data": {
      "text/html": [
       "http://images.amazon.com/images/P/0316666343.01.MZZZZZZZ.jpg"
      ],
      "text/latex": [
       "http://images.amazon.com/images/P/0316666343.01.MZZZZZZZ.jpg"
      ],
      "text/markdown": [
       "http://images.amazon.com/images/P/0316666343.01.MZZZZZZZ.jpg"
      ],
      "text/plain": [
       "[1] http://images.amazon.com/images/P/0316666343.01.MZZZZZZZ.jpg\n",
       "115155 Levels:  ..."
      ]
     },
     "metadata": {},
     "output_type": "display_data"
    }
   ],
   "source": [
    "getBook('0316666343')"
   ]
  },
  {
   "cell_type": "markdown",
   "metadata": {},
   "source": [
    "![](http://images.amazon.com/images/P/0316666343.01.MZZZZZZZ.jpg)"
   ]
  },
  {
   "cell_type": "code",
   "execution_count": 4,
   "metadata": {},
   "outputs": [
    {
     "name": "stdout",
     "output_type": "stream",
     "text": [
      "[1] \"Object indexBook size: 101.42 MB |  Dim: 115253 8\"\n"
     ]
    },
    {
     "data": {
      "text/html": [
       "<table>\n",
       "<thead><tr><th scope=col>ISBN</th><th scope=col>Book.Title</th><th scope=col>Book.Author</th><th scope=col>Year.Of.Publication</th><th scope=col>Publisher</th><th scope=col>Image.URL.S</th><th scope=col>Image.URL.M</th><th scope=col>Image.URL.L</th></tr></thead>\n",
       "<tbody>\n",
       "\t<tr><td>0195153448                                                                                        </td><td>Classical Mythology                                                                               </td><td>Mark P. O. Morford                                                                                </td><td>2002                                                                                              </td><td>Oxford University Press                                                                           </td><td>http://images.amazon.com/images/P/0195153448.01.THUMBZZZ.jpg                                      </td><td>http://images.amazon.com/images/P/0195153448.01.MZZZZZZZ.jpg                                      </td><td>http://images.amazon.com/images/P/0195153448.01.LZZZZZZZ.jpg                                      </td></tr>\n",
       "\t<tr><td>0002005018                                                                                        </td><td>Clara Callan                                                                                      </td><td>Richard Bruce Wright                                                                              </td><td>2001                                                                                              </td><td>HarperFlamingo Canada                                                                             </td><td>http://images.amazon.com/images/P/0002005018.01.THUMBZZZ.jpg                                      </td><td>http://images.amazon.com/images/P/0002005018.01.MZZZZZZZ.jpg                                      </td><td>http://images.amazon.com/images/P/0002005018.01.LZZZZZZZ.jpg                                      </td></tr>\n",
       "\t<tr><td>0060973129                                                                                        </td><td>Decision in Normandy                                                                              </td><td>Carlo D'Este                                                                                      </td><td>1991                                                                                              </td><td>HarperPerennial                                                                                   </td><td>http://images.amazon.com/images/P/0060973129.01.THUMBZZZ.jpg                                      </td><td>http://images.amazon.com/images/P/0060973129.01.MZZZZZZZ.jpg                                      </td><td>http://images.amazon.com/images/P/0060973129.01.LZZZZZZZ.jpg                                      </td></tr>\n",
       "\t<tr><td>0374157065                                                                                        </td><td>Flu: The Story of the Great Influenza Pandemic of 1918 and the Search for the Virus That Caused It</td><td>Gina Bari Kolata                                                                                  </td><td>1999                                                                                              </td><td>Farrar Straus Giroux                                                                              </td><td>http://images.amazon.com/images/P/0374157065.01.THUMBZZZ.jpg                                      </td><td>http://images.amazon.com/images/P/0374157065.01.MZZZZZZZ.jpg                                      </td><td>http://images.amazon.com/images/P/0374157065.01.LZZZZZZZ.jpg                                      </td></tr>\n",
       "\t<tr><td>0393045218                                                                                                                                </td><td><span style=white-space:pre-wrap>The Mummies of Urumchi                                                                            </span></td><td><span style=white-space:pre-wrap>E. J. W. Barber     </span>                                                                              </td><td>1999                                                                                                                                      </td><td>W. W. Norton &amp;amp; Company                                                                                                            </td><td>http://images.amazon.com/images/P/0393045218.01.THUMBZZZ.jpg                                                                              </td><td>http://images.amazon.com/images/P/0393045218.01.MZZZZZZZ.jpg                                                                              </td><td>http://images.amazon.com/images/P/0393045218.01.LZZZZZZZ.jpg                                                                              </td></tr>\n",
       "\t<tr><td>0399135782                                                                                        </td><td>The Kitchen God's Wife                                                                            </td><td>Amy Tan                                                                                           </td><td>1991                                                                                              </td><td>Putnam Pub Group                                                                                  </td><td>http://images.amazon.com/images/P/0399135782.01.THUMBZZZ.jpg                                      </td><td>http://images.amazon.com/images/P/0399135782.01.MZZZZZZZ.jpg                                      </td><td>http://images.amazon.com/images/P/0399135782.01.LZZZZZZZ.jpg                                      </td></tr>\n",
       "</tbody>\n",
       "</table>\n"
      ],
      "text/latex": [
       "\\begin{tabular}{r|llllllll}\n",
       " ISBN & Book.Title & Book.Author & Year.Of.Publication & Publisher & Image.URL.S & Image.URL.M & Image.URL.L\\\\\n",
       "\\hline\n",
       "\t 0195153448                                                                                         & Classical Mythology                                                                                & Mark P. O. Morford                                                                                 & 2002                                                                                               & Oxford University Press                                                                            & http://images.amazon.com/images/P/0195153448.01.THUMBZZZ.jpg                                       & http://images.amazon.com/images/P/0195153448.01.MZZZZZZZ.jpg                                       & http://images.amazon.com/images/P/0195153448.01.LZZZZZZZ.jpg                                      \\\\\n",
       "\t 0002005018                                                                                         & Clara Callan                                                                                       & Richard Bruce Wright                                                                               & 2001                                                                                               & HarperFlamingo Canada                                                                              & http://images.amazon.com/images/P/0002005018.01.THUMBZZZ.jpg                                       & http://images.amazon.com/images/P/0002005018.01.MZZZZZZZ.jpg                                       & http://images.amazon.com/images/P/0002005018.01.LZZZZZZZ.jpg                                      \\\\\n",
       "\t 0060973129                                                                                         & Decision in Normandy                                                                               & Carlo D'Este                                                                                       & 1991                                                                                               & HarperPerennial                                                                                    & http://images.amazon.com/images/P/0060973129.01.THUMBZZZ.jpg                                       & http://images.amazon.com/images/P/0060973129.01.MZZZZZZZ.jpg                                       & http://images.amazon.com/images/P/0060973129.01.LZZZZZZZ.jpg                                      \\\\\n",
       "\t 0374157065                                                                                         & Flu: The Story of the Great Influenza Pandemic of 1918 and the Search for the Virus That Caused It & Gina Bari Kolata                                                                                   & 1999                                                                                               & Farrar Straus Giroux                                                                               & http://images.amazon.com/images/P/0374157065.01.THUMBZZZ.jpg                                       & http://images.amazon.com/images/P/0374157065.01.MZZZZZZZ.jpg                                       & http://images.amazon.com/images/P/0374157065.01.LZZZZZZZ.jpg                                      \\\\\n",
       "\t 0393045218                                                                                         & The Mummies of Urumchi                                                                             & E. J. W. Barber                                                                                    & 1999                                                                                               & W. W. Norton \\&amp; Company                                                                       & http://images.amazon.com/images/P/0393045218.01.THUMBZZZ.jpg                                       & http://images.amazon.com/images/P/0393045218.01.MZZZZZZZ.jpg                                       & http://images.amazon.com/images/P/0393045218.01.LZZZZZZZ.jpg                                      \\\\\n",
       "\t 0399135782                                                                                         & The Kitchen God's Wife                                                                             & Amy Tan                                                                                            & 1991                                                                                               & Putnam Pub Group                                                                                   & http://images.amazon.com/images/P/0399135782.01.THUMBZZZ.jpg                                       & http://images.amazon.com/images/P/0399135782.01.MZZZZZZZ.jpg                                       & http://images.amazon.com/images/P/0399135782.01.LZZZZZZZ.jpg                                      \\\\\n",
       "\\end{tabular}\n"
      ],
      "text/markdown": [
       "\n",
       "ISBN | Book.Title | Book.Author | Year.Of.Publication | Publisher | Image.URL.S | Image.URL.M | Image.URL.L | \n",
       "|---|---|---|---|---|---|\n",
       "| 0195153448                                                                                         | Classical Mythology                                                                                | Mark P. O. Morford                                                                                 | 2002                                                                                               | Oxford University Press                                                                            | http://images.amazon.com/images/P/0195153448.01.THUMBZZZ.jpg                                       | http://images.amazon.com/images/P/0195153448.01.MZZZZZZZ.jpg                                       | http://images.amazon.com/images/P/0195153448.01.LZZZZZZZ.jpg                                       | \n",
       "| 0002005018                                                                                         | Clara Callan                                                                                       | Richard Bruce Wright                                                                               | 2001                                                                                               | HarperFlamingo Canada                                                                              | http://images.amazon.com/images/P/0002005018.01.THUMBZZZ.jpg                                       | http://images.amazon.com/images/P/0002005018.01.MZZZZZZZ.jpg                                       | http://images.amazon.com/images/P/0002005018.01.LZZZZZZZ.jpg                                       | \n",
       "| 0060973129                                                                                         | Decision in Normandy                                                                               | Carlo D'Este                                                                                       | 1991                                                                                               | HarperPerennial                                                                                    | http://images.amazon.com/images/P/0060973129.01.THUMBZZZ.jpg                                       | http://images.amazon.com/images/P/0060973129.01.MZZZZZZZ.jpg                                       | http://images.amazon.com/images/P/0060973129.01.LZZZZZZZ.jpg                                       | \n",
       "| 0374157065                                                                                         | Flu: The Story of the Great Influenza Pandemic of 1918 and the Search for the Virus That Caused It | Gina Bari Kolata                                                                                   | 1999                                                                                               | Farrar Straus Giroux                                                                               | http://images.amazon.com/images/P/0374157065.01.THUMBZZZ.jpg                                       | http://images.amazon.com/images/P/0374157065.01.MZZZZZZZ.jpg                                       | http://images.amazon.com/images/P/0374157065.01.LZZZZZZZ.jpg                                       | \n",
       "| 0393045218                                                                                         | The Mummies of Urumchi                                                                             | E. J. W. Barber                                                                                    | 1999                                                                                               | W. W. Norton &amp; Company                                                                         | http://images.amazon.com/images/P/0393045218.01.THUMBZZZ.jpg                                       | http://images.amazon.com/images/P/0393045218.01.MZZZZZZZ.jpg                                       | http://images.amazon.com/images/P/0393045218.01.LZZZZZZZ.jpg                                       | \n",
       "| 0399135782                                                                                         | The Kitchen God's Wife                                                                             | Amy Tan                                                                                            | 1991                                                                                               | Putnam Pub Group                                                                                   | http://images.amazon.com/images/P/0399135782.01.THUMBZZZ.jpg                                       | http://images.amazon.com/images/P/0399135782.01.MZZZZZZZ.jpg                                       | http://images.amazon.com/images/P/0399135782.01.LZZZZZZZ.jpg                                       | \n",
       "\n",
       "\n"
      ],
      "text/plain": [
       "  ISBN      \n",
       "1 0195153448\n",
       "2 0002005018\n",
       "3 0060973129\n",
       "4 0374157065\n",
       "5 0393045218\n",
       "6 0399135782\n",
       "  Book.Title                                                                                        \n",
       "1 Classical Mythology                                                                               \n",
       "2 Clara Callan                                                                                      \n",
       "3 Decision in Normandy                                                                              \n",
       "4 Flu: The Story of the Great Influenza Pandemic of 1918 and the Search for the Virus That Caused It\n",
       "5 The Mummies of Urumchi                                                                            \n",
       "6 The Kitchen God's Wife                                                                            \n",
       "  Book.Author          Year.Of.Publication Publisher                 \n",
       "1 Mark P. O. Morford   2002                Oxford University Press   \n",
       "2 Richard Bruce Wright 2001                HarperFlamingo Canada     \n",
       "3 Carlo D'Este         1991                HarperPerennial           \n",
       "4 Gina Bari Kolata     1999                Farrar Straus Giroux      \n",
       "5 E. J. W. Barber      1999                W. W. Norton &amp; Company\n",
       "6 Amy Tan              1991                Putnam Pub Group          \n",
       "  Image.URL.S                                                 \n",
       "1 http://images.amazon.com/images/P/0195153448.01.THUMBZZZ.jpg\n",
       "2 http://images.amazon.com/images/P/0002005018.01.THUMBZZZ.jpg\n",
       "3 http://images.amazon.com/images/P/0060973129.01.THUMBZZZ.jpg\n",
       "4 http://images.amazon.com/images/P/0374157065.01.THUMBZZZ.jpg\n",
       "5 http://images.amazon.com/images/P/0393045218.01.THUMBZZZ.jpg\n",
       "6 http://images.amazon.com/images/P/0399135782.01.THUMBZZZ.jpg\n",
       "  Image.URL.M                                                 \n",
       "1 http://images.amazon.com/images/P/0195153448.01.MZZZZZZZ.jpg\n",
       "2 http://images.amazon.com/images/P/0002005018.01.MZZZZZZZ.jpg\n",
       "3 http://images.amazon.com/images/P/0060973129.01.MZZZZZZZ.jpg\n",
       "4 http://images.amazon.com/images/P/0374157065.01.MZZZZZZZ.jpg\n",
       "5 http://images.amazon.com/images/P/0393045218.01.MZZZZZZZ.jpg\n",
       "6 http://images.amazon.com/images/P/0399135782.01.MZZZZZZZ.jpg\n",
       "  Image.URL.L                                                 \n",
       "1 http://images.amazon.com/images/P/0195153448.01.LZZZZZZZ.jpg\n",
       "2 http://images.amazon.com/images/P/0002005018.01.LZZZZZZZ.jpg\n",
       "3 http://images.amazon.com/images/P/0060973129.01.LZZZZZZZ.jpg\n",
       "4 http://images.amazon.com/images/P/0374157065.01.LZZZZZZZ.jpg\n",
       "5 http://images.amazon.com/images/P/0393045218.01.LZZZZZZZ.jpg\n",
       "6 http://images.amazon.com/images/P/0399135782.01.LZZZZZZZ.jpg"
      ]
     },
     "metadata": {},
     "output_type": "display_data"
    }
   ],
   "source": [
    "getSizeDim(indexBook)\n",
    "head(indexBook)"
   ]
  },
  {
   "cell_type": "markdown",
   "metadata": {},
   "source": [
    "![im](http://images.amazon.com/images/P/0316666343.01.MZZZZZZZ.jpg)"
   ]
  },
  {
   "cell_type": "markdown",
   "metadata": {},
   "source": [
    "![im](http://images.amazon.com/images/P/0393045218.01.MZZZZZZZ.jpg )"
   ]
  },
  {
   "cell_type": "code",
   "execution_count": null,
   "metadata": {
    "collapsed": true
   },
   "outputs": [],
   "source": []
  }
 ],
 "metadata": {
  "kernelspec": {
   "display_name": "R",
   "language": "R",
   "name": "ir"
  },
  "language_info": {
   "codemirror_mode": "r",
   "file_extension": ".r",
   "mimetype": "text/x-r-source",
   "name": "R",
   "pygments_lexer": "r",
   "version": "3.3.2"
  }
 },
 "nbformat": 4,
 "nbformat_minor": 2
}
