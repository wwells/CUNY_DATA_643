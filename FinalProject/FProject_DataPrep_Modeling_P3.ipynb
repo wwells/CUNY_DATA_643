{
 "cells": [
  {
   "cell_type": "markdown",
   "metadata": {},
   "source": [
    "# DATA 643: Recommender Systems\n",
    "Final Project:  Book Crossing RecSys | Walt Wells, Summer 2017"
   ]
  },
  {
   "cell_type": "markdown",
   "metadata": {},
   "source": [
    "# Notebook P3 - Model | Factorization"
   ]
  },
  {
   "cell_type": "markdown",
   "metadata": {},
   "source": [
    "# Environment Prep"
   ]
  },
  {
   "cell_type": "code",
   "execution_count": 1,
   "metadata": {
    "collapsed": true
   },
   "outputs": [],
   "source": [
    "suppressMessages(library(Matrix))\n",
    "suppressMessages(library(recommenderlab))\n",
    "suppressMessages(library(ggplot2))\n",
    "suppressMessages(library(rARPACK))\n",
    "suppressMessages(library(reshape2))\n",
    "source('helper.R')"
   ]
  },
  {
   "cell_type": "markdown",
   "metadata": {},
   "source": [
    "# Data Prep"
   ]
  },
  {
   "cell_type": "code",
   "execution_count": 34,
   "metadata": {
    "collapsed": true
   },
   "outputs": [],
   "source": [
    "BinBook <- readRDS(\"binBookM.rds\")\n",
    "Book <- readRDS(\"BookM.rds\")"
   ]
  },
  {
   "cell_type": "code",
   "execution_count": 3,
   "metadata": {
    "collapsed": true
   },
   "outputs": [],
   "source": [
    "SparseM <- as(Book, \"dgCMatrix\")\n",
    "SparseMBin <- as(BinBook, \"dgCMatrix\")"
   ]
  },
  {
   "cell_type": "markdown",
   "metadata": {},
   "source": [
    "# SVD\n",
    "\n",
    "Since we are dealing with large and sparse matrices, we will use the Truncated SVD method available in the rARPACK library. \n",
    "\n",
    "## Helper:  Variability Table"
   ]
  },
  {
   "cell_type": "code",
   "execution_count": 4,
   "metadata": {
    "collapsed": true
   },
   "outputs": [],
   "source": [
    "SVDRemoveTable <- function(s) {\n",
    "    df <- data.frame()\n",
    "    for (i in seq(nrow(s))) {\n",
    "        m <- sum(s[1:i, 1:i]^2)/sum(s^2)\n",
    "        df <- rbind(df, c(i, m))\n",
    "    }\n",
    "    names(df) <- c(\"concepts\", \"variability\")\n",
    "    df\n",
    "}"
   ]
  },
  {
   "cell_type": "markdown",
   "metadata": {},
   "source": [
    "## Sample:   Test SVDs "
   ]
  },
  {
   "cell_type": "code",
   "execution_count": 5,
   "metadata": {
    "collapsed": true
   },
   "outputs": [],
   "source": [
    "k <- 25\n",
    "x <- svds(SparseM, k)"
   ]
  },
  {
   "cell_type": "code",
   "execution_count": 6,
   "metadata": {},
   "outputs": [
    {
     "name": "stdout",
     "output_type": "stream",
     "text": [
      "List of 5\n",
      " $ d    : num [1:25] 55.9 49.7 40.7 39.3 38.7 ...\n",
      " $ u    : num [1:33095, 1:25] 2.99e-09 -4.79e-19 3.06e-19 -2.99e-20 1.88e-09 ...\n",
      " $ v    : num [1:95795, 1:25] 1.01e-08 8.12e-11 -6.64e-15 0.00 5.97e-09 ...\n",
      " $ niter: int 6\n",
      " $ nops : int 269\n"
     ]
    }
   ],
   "source": [
    "str(x)\n",
    "SMat <- diag(x$d)\n",
    "U <- x$u\n",
    "V <- x$v"
   ]
  },
  {
   "cell_type": "markdown",
   "metadata": {},
   "source": [
    "### Review relationship between k and variability"
   ]
  },
  {
   "cell_type": "code",
   "execution_count": 7,
   "metadata": {
    "collapsed": true
   },
   "outputs": [],
   "source": [
    "mytable <- SVDRemoveTable(SMat)"
   ]
  },
  {
   "cell_type": "code",
   "execution_count": 9,
   "metadata": {},
   "outputs": [
    {
     "data": {},
     "metadata": {},
     "output_type": "display_data"
    },
    {
     "data": {
      "image/png": "[encoded data removed]",
      "text/plain": [
       "plot without title"
      ]
     },
     "metadata": {},
     "output_type": "display_data"
    }
   ],
   "source": [
    "ggplot(mytable, aes(concepts, variability)) + geom_point() + \n",
    "    geom_hline(yintercept = .80, color='red') + \n",
    "    ggtitle(\"Sample SVDs\")"
   ]
  },
  {
   "cell_type": "markdown",
   "metadata": {},
   "source": [
    "### Factorized Matrix"
   ]
  },
  {
   "cell_type": "code",
   "execution_count": 10,
   "metadata": {
    "collapsed": true
   },
   "outputs": [],
   "source": [
    "n <- .8 * k\n",
    "\n",
    "NewSMat <- SMat[1:n, 1:n]\n",
    "NewU <- U[,1:n]\n",
    "NewV <- V[,1:n]\n",
    "\n",
    "PreComputed <- NewSMat %*% t(NewV)"
   ]
  },
  {
   "cell_type": "code",
   "execution_count": 11,
   "metadata": {},
   "outputs": [
    {
     "name": "stdout",
     "output_type": "stream",
     "text": [
      "[1] \"Object SparseM size: 20.905 MB |  Dim: 33095 95795\"\n",
      "[1] \"Object NewSMat size: 0.003 MB |  Dim: 20 20\"\n",
      "[1] \"Object NewU size: 5.05 MB |  Dim: 33095 20\"\n",
      "[1] \"Object NewV size: 14.617 MB |  Dim: 95795 20\"\n",
      "[1] \"Object PreComputed size: 14.617 MB |  Dim: 20 95795\"\n"
     ]
    }
   ],
   "source": [
    "getSizeDim(SparseM)\n",
    "getSizeDim(NewSMat)\n",
    "getSizeDim(NewU)\n",
    "getSizeDim(NewV)\n",
    "getSizeDim(PreComputed)"
   ]
  },
  {
   "cell_type": "markdown",
   "metadata": {},
   "source": [
    "### Make Sample Prediction"
   ]
  },
  {
   "cell_type": "code",
   "execution_count": 12,
   "metadata": {
    "collapsed": true
   },
   "outputs": [],
   "source": [
    "r_bar <- colMeans(Book)\n",
    "samp <- sample(nrow(NewU),1)\n",
    "q <- NewU[samp,]\n",
    "#SampleUserActual <- Book[samp,]"
   ]
  },
  {
   "cell_type": "code",
   "execution_count": 13,
   "metadata": {
    "collapsed": true
   },
   "outputs": [],
   "source": [
    "qV <- q %*% PreComputed"
   ]
  },
  {
   "cell_type": "code",
   "execution_count": 14,
   "metadata": {
    "collapsed": true
   },
   "outputs": [],
   "source": [
    "ItemIndex <- SparseM@Dimnames[2]\n",
    "qV <- data.frame(ItemIndex, t(qV))\n",
    "colnames(qV) <- c(\"ISBN\", \"Prediction\")"
   ]
  },
  {
   "cell_type": "code",
   "execution_count": 15,
   "metadata": {},
   "outputs": [
    {
     "data": {
      "text/html": [
       "<table>\n",
       "<thead><tr><th></th><th scope=col>ISBN</th><th scope=col>Prediction</th></tr></thead>\n",
       "<tbody>\n",
       "\t<tr><th scope=row>30737</th><td>0441005667  </td><td>8.424973e-17</td></tr>\n",
       "\t<tr><th scope=row>40351</th><td>0553250426  </td><td>8.300465e-17</td></tr>\n",
       "\t<tr><th scope=row>13351</th><td>031298328X  </td><td>8.075878e-17</td></tr>\n",
       "\t<tr><th scope=row>11840</th><td>0312195516  </td><td>7.948854e-17</td></tr>\n",
       "\t<tr><th scope=row>27165</th><td>0415900522  </td><td>7.423004e-17</td></tr>\n",
       "\t<tr><th scope=row>47607</th><td>0671697994  </td><td>7.293665e-17</td></tr>\n",
       "\t<tr><th scope=row>30648</th><td>0441000916  </td><td>7.044046e-17</td></tr>\n",
       "\t<tr><th scope=row>15849</th><td>0345333926  </td><td>6.902415e-17</td></tr>\n",
       "\t<tr><th scope=row>4182</th><td>0064400557  </td><td>6.465730e-17</td></tr>\n",
       "\t<tr><th scope=row>40469</th><td>0553258524  </td><td>6.426474e-17</td></tr>\n",
       "</tbody>\n",
       "</table>\n"
      ],
      "text/latex": [
       "\\begin{tabular}{r|ll}\n",
       "  & ISBN & Prediction\\\\\n",
       "\\hline\n",
       "\t30737 & 0441005667   & 8.424973e-17\\\\\n",
       "\t40351 & 0553250426   & 8.300465e-17\\\\\n",
       "\t13351 & 031298328X   & 8.075878e-17\\\\\n",
       "\t11840 & 0312195516   & 7.948854e-17\\\\\n",
       "\t27165 & 0415900522   & 7.423004e-17\\\\\n",
       "\t47607 & 0671697994   & 7.293665e-17\\\\\n",
       "\t30648 & 0441000916   & 7.044046e-17\\\\\n",
       "\t15849 & 0345333926   & 6.902415e-17\\\\\n",
       "\t4182 & 0064400557   & 6.465730e-17\\\\\n",
       "\t40469 & 0553258524   & 6.426474e-17\\\\\n",
       "\\end{tabular}\n"
      ],
      "text/markdown": [
       "\n",
       "| <!--/--> | ISBN | Prediction | \n",
       "|---|---|---|---|---|---|---|---|---|---|\n",
       "| 30737 | 0441005667   | 8.424973e-17 | \n",
       "| 40351 | 0553250426   | 8.300465e-17 | \n",
       "| 13351 | 031298328X   | 8.075878e-17 | \n",
       "| 11840 | 0312195516   | 7.948854e-17 | \n",
       "| 27165 | 0415900522   | 7.423004e-17 | \n",
       "| 47607 | 0671697994   | 7.293665e-17 | \n",
       "| 30648 | 0441000916   | 7.044046e-17 | \n",
       "| 15849 | 0345333926   | 6.902415e-17 | \n",
       "| 4182 | 0064400557   | 6.465730e-17 | \n",
       "| 40469 | 0553258524   | 6.426474e-17 | \n",
       "\n",
       "\n"
      ],
      "text/plain": [
       "      ISBN       Prediction  \n",
       "30737 0441005667 8.424973e-17\n",
       "40351 0553250426 8.300465e-17\n",
       "13351 031298328X 8.075878e-17\n",
       "11840 0312195516 7.948854e-17\n",
       "27165 0415900522 7.423004e-17\n",
       "47607 0671697994 7.293665e-17\n",
       "30648 0441000916 7.044046e-17\n",
       "15849 0345333926 6.902415e-17\n",
       "4182  0064400557 6.465730e-17\n",
       "40469 0553258524 6.426474e-17"
      ]
     },
     "metadata": {},
     "output_type": "display_data"
    }
   ],
   "source": [
    "n <- 10\n",
    "sorted_qV <- qV[order(-qV$Prediction), ]\n",
    "head(sorted_qV, n)"
   ]
  },
  {
   "cell_type": "code",
   "execution_count": 16,
   "metadata": {
    "collapsed": true
   },
   "outputs": [],
   "source": [
    "#saveRDS(PreComputed, \"SVDOutput.rds\")"
   ]
  },
  {
   "cell_type": "markdown",
   "metadata": {
    "collapsed": true
   },
   "source": [
    "# Evaluation\n",
    "\n",
    "## Get RMSE by Reducing Matrix Size\n",
    "\n",
    "I couldn't find a good way to evalute these that wasn't too memory intensive.   As a result, we'll predict instead over a subset of books and users, and calculate the RMSE from a more manageable subset.  After going through the simple exercise of calculating RMSE based on a single sample, we will take multiple samples, calculate the RMSE for each, and choose the best methods.  "
   ]
  },
  {
   "cell_type": "code",
   "execution_count": 17,
   "metadata": {},
   "outputs": [
    {
     "name": "stdout",
     "output_type": "stream",
     "text": [
      "[1] \"Object PredSamp size: 190.735 MB |  Dim: 5000 5000\"\n"
     ]
    }
   ],
   "source": [
    "N <- 5000\n",
    "startV <- sample(1:nrow(SparseM), 50)\n",
    "startU <- sample(1:ncol(SparseM), 50)\n",
    "SubU <- NewU[1:N,]\n",
    "SubV <- NewV[1:N,]\n",
    "PredSamp <- SubU %*% NewSMat %*% t(SubV)\n",
    "getSizeDim(PredSamp)"
   ]
  },
  {
   "cell_type": "code",
   "execution_count": 18,
   "metadata": {},
   "outputs": [
    {
     "name": "stdout",
     "output_type": "stream",
     "text": [
      "[1] \"Object KnownSamp size: 191.307 MB |  Dim: 5000 5000\"\n"
     ]
    }
   ],
   "source": [
    "KnownSamp <- as(Book[1:N, 1:N], 'matrix')\n",
    "getSizeDim(KnownSamp)"
   ]
  },
  {
   "cell_type": "code",
   "execution_count": 19,
   "metadata": {
    "collapsed": true
   },
   "outputs": [],
   "source": [
    "PredSamp[is.na(KnownSamp)] <- NA"
   ]
  },
  {
   "cell_type": "code",
   "execution_count": 20,
   "metadata": {
    "collapsed": true
   },
   "outputs": [],
   "source": [
    "RMSE <- function(observed, predicted) {\n",
    "    # get RMSE\n",
    "    sqrt(mean((observed - predicted)^2, na.rm=TRUE))\n",
    "}"
   ]
  },
  {
   "cell_type": "code",
   "execution_count": 21,
   "metadata": {},
   "outputs": [
    {
     "data": {
      "text/html": [
       "1.35727741487616"
      ],
      "text/latex": [
       "1.35727741487616"
      ],
      "text/markdown": [
       "1.35727741487616"
      ],
      "text/plain": [
       "[1] 1.357277"
      ]
     },
     "metadata": {},
     "output_type": "display_data"
    }
   ],
   "source": [
    "RMSE(KnownSamp, PredSamp)"
   ]
  },
  {
   "cell_type": "markdown",
   "metadata": {},
   "source": [
    "## Helper Functions"
   ]
  },
  {
   "cell_type": "code",
   "execution_count": 22,
   "metadata": {
    "collapsed": true
   },
   "outputs": [],
   "source": [
    "GetSVDsRMSE <- function(N_subset, N_sims, SparseMatrix, k, keepVar) {\n",
    "    # Computes a list of RMSE values of the Truncated SVD to help tuning.  \n",
    "    # Uses sampling because difficult to manage calc of full RMSE\n",
    "    #\n",
    "    # Args:\n",
    "    #   N_subset:  size of final sampled | predicted matrix (sample will be square for ease)\n",
    "    #   N_sims:  number of times to sample and calc RMSE based on calculated SVD\n",
    "    #   SparseMatrix: Matrix to factorize\n",
    "    #   k:  number of features to use in svds calculation\n",
    "    #   keepVar: percent of the singular values to retain\n",
    "    #\n",
    "    # Returns:\n",
    "    #   A list of RMSE for each sample taken\n",
    "    \n",
    "    mylist <- list()\n",
    "    \n",
    "    # calculate truncated svd\n",
    "    x <- svds(SparseMatrix, k)\n",
    "    SMat <- diag(x$d)\n",
    "    U <- x$u\n",
    "    V <- x$v\n",
    "\n",
    "    # reduction\n",
    "    n <- keepVar * k\n",
    "    NewSMat <- SMat[1:n, 1:n]\n",
    "    NewU <- U[,1:n]\n",
    "    NewV <- V[,1:n]\n",
    "    \n",
    "    for (i in 1:N_sims) {\n",
    "        # sample to calc RMSE\n",
    "        startV <- sample(1:nrow(SparseMatrix), N_subset)\n",
    "        startU <- sample(1:ncol(SparseMatrix), N_subset)\n",
    "        \n",
    "        # create new mat\n",
    "        SubU <- NewU[startV,]\n",
    "        SubV <- NewV[startU,]\n",
    "        PredSamp <- SubU %*% NewSMat %*% t(SubV)\n",
    "        KnownSamp <- as(Book[startV, startU], 'matrix')\n",
    "\n",
    "        # only calc RMSE for actual observed\n",
    "        PredSamp[is.na(KnownSamp)] <- NA\n",
    "\n",
    "        rmse <- RMSE(KnownSamp, PredSamp)\n",
    "        mylist[[i]] <- rmse\n",
    "    }\n",
    "    mylist\n",
    "}"
   ]
  },
  {
   "cell_type": "code",
   "execution_count": 23,
   "metadata": {
    "collapsed": true
   },
   "outputs": [],
   "source": [
    "simMeans <- function(simresults, N_sims, klist) {\n",
    "    # takes results from GetSVDsRMSE, returns a named list of means for each k simulated\n",
    "    testfull <- matrix(as.numeric(simresults), N_sims, length(klist))\n",
    "    meansByK <- colMeans(testfull)\n",
    "    names(meansByK) <- klist\n",
    "    meansByK\n",
    "}"
   ]
  },
  {
   "cell_type": "markdown",
   "metadata": {},
   "source": [
    "## Test Function"
   ]
  },
  {
   "cell_type": "code",
   "execution_count": 24,
   "metadata": {},
   "outputs": [
    {
     "data": {
      "text/html": [
       "<ol>\n",
       "\t<li>1.26267326213968</li>\n",
       "\t<li>1.44145692579828</li>\n",
       "</ol>\n"
      ],
      "text/latex": [
       "\\begin{enumerate}\n",
       "\\item 1.26267326213968\n",
       "\\item 1.44145692579828\n",
       "\\end{enumerate}\n"
      ],
      "text/markdown": [
       "1. 1.26267326213968\n",
       "2. 1.44145692579828\n",
       "\n",
       "\n"
      ],
      "text/plain": [
       "[[1]]\n",
       "[1] 1.262673\n",
       "\n",
       "[[2]]\n",
       "[1] 1.441457\n"
      ]
     },
     "metadata": {},
     "output_type": "display_data"
    }
   ],
   "source": [
    "test <- GetSVDsRMSE(5000, 2, SparseM, 25, .8)\n",
    "test"
   ]
  },
  {
   "cell_type": "markdown",
   "metadata": {},
   "source": [
    "## Start Timer"
   ]
  },
  {
   "cell_type": "code",
   "execution_count": null,
   "metadata": {
    "collapsed": true
   },
   "outputs": [],
   "source": [
    "ptm <- proc.time()"
   ]
  },
  {
   "cell_type": "markdown",
   "metadata": {},
   "source": [
    "## Run Simulations"
   ]
  },
  {
   "cell_type": "code",
   "execution_count": 25,
   "metadata": {
    "collapsed": true
   },
   "outputs": [],
   "source": [
    "klist <- c(3,seq(5, 30, by=5), seq(40, 100, by=10))\n",
    "N_sims <- 10\n",
    "N_subset <- 10000"
   ]
  },
  {
   "cell_type": "code",
   "execution_count": 27,
   "metadata": {
    "collapsed": true
   },
   "outputs": [],
   "source": [
    "EX_70SVD <- sapply(klist,\n",
    "                    GetSVDsRMSE,\n",
    "                    N_subset = N_subset, \n",
    "                    N_sims = N_sims,\n",
    "                    SparseMatrix = SparseM, \n",
    "                    keepVar = .70)"
   ]
  },
  {
   "cell_type": "code",
   "execution_count": 26,
   "metadata": {},
   "outputs": [],
   "source": [
    "EX_80SVD <- sapply(klist,\n",
    "                    GetSVDsRMSE,\n",
    "                    N_subset = N_subset, \n",
    "                    N_sims = N_sims,\n",
    "                    SparseMatrix = SparseM, \n",
    "                    keepVar = .8)"
   ]
  },
  {
   "cell_type": "code",
   "execution_count": 28,
   "metadata": {
    "collapsed": true
   },
   "outputs": [],
   "source": [
    "EX_90SVD <- sapply(klist,\n",
    "                    GetSVDsRMSE,\n",
    "                    N_subset = N_subset, \n",
    "                    N_sims = N_sims,\n",
    "                    SparseMatrix = SparseM, \n",
    "                    keepVar = .90)"
   ]
  },
  {
   "cell_type": "code",
   "execution_count": 28,
   "metadata": {
    "collapsed": true
   },
   "outputs": [],
   "source": [
    "IM_70SVD <- sapply(klist,\n",
    "                    GetSVDsRMSE,\n",
    "                    N_subset = N_subset, \n",
    "                    N_sims = N_sims,\n",
    "                    SparseMatrix = SparseMBin, \n",
    "                    keepVar = .70)"
   ]
  },
  {
   "cell_type": "code",
   "execution_count": 28,
   "metadata": {
    "collapsed": true
   },
   "outputs": [],
   "source": [
    "IM_80SVD <- sapply(klist,\n",
    "                    GetSVDsRMSE,\n",
    "                    N_subset = N_subset, \n",
    "                    N_sims = N_sims,\n",
    "                    SparseMatrix = SparseMBin, \n",
    "                    keepVar = .80)"
   ]
  },
  {
   "cell_type": "code",
   "execution_count": 28,
   "metadata": {
    "collapsed": true
   },
   "outputs": [],
   "source": [
    "IM_90SVD <- sapply(klist,\n",
    "                    GetSVDsRMSE,\n",
    "                    N_subset = N_subset, \n",
    "                    N_sims = N_sims,\n",
    "                    SparseMatrix = SparseMBin, \n",
    "                    keepVar = .90)"
   ]
  },
  {
   "cell_type": "code",
   "execution_count": 46,
   "metadata": {},
   "outputs": [
    {
     "data": {
      "text/html": [
       "<table>\n",
       "<thead><tr><th></th><th scope=col>k</th><th scope=col>SVD_Var80</th><th scope=col>SVD_Var85</th><th scope=col>SVD_Var90</th></tr></thead>\n",
       "<tbody>\n",
       "\t<tr><th scope=row>3</th><td> 3      </td><td>1.399157</td><td>1.397059</td><td>1.369466</td></tr>\n",
       "\t<tr><th scope=row>5</th><td> 5      </td><td>1.374675</td><td>1.388618</td><td>1.401326</td></tr>\n",
       "\t<tr><th scope=row>10</th><td>10      </td><td>1.404001</td><td>1.394609</td><td>1.375379</td></tr>\n",
       "\t<tr><th scope=row>15</th><td>15      </td><td>1.372384</td><td>1.380022</td><td>1.374116</td></tr>\n",
       "\t<tr><th scope=row>20</th><td>20      </td><td>1.359805</td><td>1.361218</td><td>1.373223</td></tr>\n",
       "\t<tr><th scope=row>25</th><td>25      </td><td>1.334047</td><td>1.349118</td><td>1.353315</td></tr>\n",
       "</tbody>\n",
       "</table>\n"
      ],
      "text/latex": [
       "\\begin{tabular}{r|llll}\n",
       "  & k & SVD\\_Var80 & SVD\\_Var85 & SVD\\_Var90\\\\\n",
       "\\hline\n",
       "\t3 &  3       & 1.399157 & 1.397059 & 1.369466\\\\\n",
       "\t5 &  5       & 1.374675 & 1.388618 & 1.401326\\\\\n",
       "\t10 & 10       & 1.404001 & 1.394609 & 1.375379\\\\\n",
       "\t15 & 15       & 1.372384 & 1.380022 & 1.374116\\\\\n",
       "\t20 & 20       & 1.359805 & 1.361218 & 1.373223\\\\\n",
       "\t25 & 25       & 1.334047 & 1.349118 & 1.353315\\\\\n",
       "\\end{tabular}\n"
      ],
      "text/markdown": [
       "\n",
       "| <!--/--> | k | SVD_Var80 | SVD_Var85 | SVD_Var90 | \n",
       "|---|---|---|---|---|---|\n",
       "| 3 |  3       | 1.399157 | 1.397059 | 1.369466 | \n",
       "| 5 |  5       | 1.374675 | 1.388618 | 1.401326 | \n",
       "| 10 | 10       | 1.404001 | 1.394609 | 1.375379 | \n",
       "| 15 | 15       | 1.372384 | 1.380022 | 1.374116 | \n",
       "| 20 | 20       | 1.359805 | 1.361218 | 1.373223 | \n",
       "| 25 | 25       | 1.334047 | 1.349118 | 1.353315 | \n",
       "\n",
       "\n"
      ],
      "text/plain": [
       "   k  SVD_Var80 SVD_Var85 SVD_Var90\n",
       "3   3 1.399157  1.397059  1.369466 \n",
       "5   5 1.374675  1.388618  1.401326 \n",
       "10 10 1.404001  1.394609  1.375379 \n",
       "15 15 1.372384  1.380022  1.374116 \n",
       "20 20 1.359805  1.361218  1.373223 \n",
       "25 25 1.334047  1.349118  1.353315 "
      ]
     },
     "metadata": {},
     "output_type": "display_data"
    }
   ],
   "source": [
    "simresults <- data.frame(k = klist,\n",
    "                        Ex_Var70 = simMeans(EX_70SVD, N_sims, klist),\n",
    "                        Ex_Var80 = simMeans(EX_80SVD, N_sims, klist), \n",
    "                        Ex_Var90 = simMeans(EX_90SVD, N_sims, klist),\n",
    "                        Im_Var70 = simMeans(Im_70SVD, N_sims, klist),\n",
    "                        Im_Var80 = simMeans(Im_80SVD, N_sims, klist), \n",
    "                        Im_Var90 = simMeans(Im_90SVD, N_sims, klist))\n",
    "head(simresults)"
   ]
  },
  {
   "cell_type": "code",
   "execution_count": 48,
   "metadata": {
    "collapsed": true
   },
   "outputs": [],
   "source": [
    "longSim <- melt(simresults, id=\"k\")"
   ]
  },
  {
   "cell_type": "markdown",
   "metadata": {},
   "source": [
    "## Plot Results"
   ]
  },
  {
   "cell_type": "code",
   "execution_count": 49,
   "metadata": {},
   "outputs": [
    {
     "name": "stderr",
     "output_type": "stream",
     "text": [
      "`geom_smooth()` using method = 'loess'\n"
     ]
    },
    {
     "data": {},
     "metadata": {},
     "output_type": "display_data"
    },
    {
     "data": {
      "image/png": "[encoded data removed]",
      "text/plain": [
       "plot without title"
      ]
     },
     "metadata": {},
     "output_type": "display_data"
    }
   ],
   "source": [
    "plottext <- paste0(\"Model Sims: \", N_sims, \" Simultations\") \n",
    "ggplot(longSim, aes(x=k, y=value, colour=variable)) + geom_line() + geom_smooth(se=F) + \n",
    "    ylab(\"RMSE\") + xlab(\"k Initial Singular Values\") + \n",
    "    ggtitle(plottext)"
   ]
  },
  {
   "cell_type": "markdown",
   "metadata": {},
   "source": [
    "## Stop Timer"
   ]
  },
  {
   "cell_type": "code",
   "execution_count": null,
   "metadata": {
    "collapsed": true
   },
   "outputs": [],
   "source": [
    "finaltime <- proc.time() - ptm\n",
    "finaltime"
   ]
  }
 ],
 "metadata": {
  "kernelspec": {
   "display_name": "R",
   "language": "R",
   "name": "ir"
  },
  "language_info": {
   "codemirror_mode": "r",
   "file_extension": ".r",
   "mimetype": "text/x-r-source",
   "name": "R",
   "pygments_lexer": "r",
   "version": "3.3.2"
  }
 },
 "nbformat": 4,
 "nbformat_minor": 2
}
