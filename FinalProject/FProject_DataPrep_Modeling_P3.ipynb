{
 "cells": [
  {
   "cell_type": "markdown",
   "metadata": {},
   "source": [
    "# DATA 643: Recommender Systems\n",
    "Final Project:  Book Crossing RecSys | Walt Wells, Summer 2017"
   ]
  },
  {
   "cell_type": "markdown",
   "metadata": {},
   "source": [
    "# Notebook P3 - Model | Factorization"
   ]
  },
  {
   "cell_type": "markdown",
   "metadata": {},
   "source": [
    "# Environment Prep"
   ]
  },
  {
   "cell_type": "code",
   "execution_count": 1,
   "metadata": {},
   "outputs": [],
   "source": [
    "suppressMessages(library(Matrix))\n",
    "suppressMessages(library(recommenderlab))\n",
    "suppressMessages(library(ggplot2))\n",
    "suppressMessages(library(rARPACK))"
   ]
  },
  {
   "cell_type": "markdown",
   "metadata": {},
   "source": [
    "# Data Prep"
   ]
  },
  {
   "cell_type": "code",
   "execution_count": 2,
   "metadata": {
    "collapsed": true
   },
   "outputs": [],
   "source": [
    "BinBook <- readRDS(\"binBookM.rds\")\n",
    "Book <- readRDS(\"BookM.rds\")"
   ]
  },
  {
   "cell_type": "code",
   "execution_count": 3,
   "metadata": {},
   "outputs": [],
   "source": [
    "SparseM <- as(Book, \"dgCMatrix\")"
   ]
  },
  {
   "cell_type": "code",
   "execution_count": 4,
   "metadata": {},
   "outputs": [],
   "source": [
    "SVDRemoveTable <- function(s) {\n",
    "    df <- data.frame()\n",
    "    for (i in seq(nrow(s))) {\n",
    "        m <- sum(s[1:i, 1:i]^2)/sum(s^2)\n",
    "        df <- rbind(df, c(i, m))\n",
    "    }\n",
    "    names(df) <- c(\"concepts\", \"variability\")\n",
    "    df\n",
    "}"
   ]
  },
  {
   "cell_type": "code",
   "execution_count": 5,
   "metadata": {},
   "outputs": [],
   "source": [
    "k <- 25\n",
    "x <- svds(SparseM, k)"
   ]
  },
  {
   "cell_type": "code",
   "execution_count": 6,
   "metadata": {},
   "outputs": [
    {
     "name": "stdout",
     "output_type": "stream",
     "text": [
      "List of 5\n",
      " $ d    : num [1:25] 55.9 49.7 40.7 39.3 38.7 ...\n",
      " $ u    : num [1:33095, 1:25] 2.99e-09 -4.79e-19 3.06e-19 -2.99e-20 1.88e-09 ...\n",
      " $ v    : num [1:95795, 1:25] 1.01e-08 8.12e-11 -6.64e-15 0.00 5.97e-09 ...\n",
      " $ niter: int 6\n",
      " $ nops : int 269\n"
     ]
    }
   ],
   "source": [
    "str(x)\n",
    "SMat <- diag(x$d)\n",
    "U <- x$u\n",
    "V <- x$v"
   ]
  },
  {
   "cell_type": "code",
   "execution_count": 7,
   "metadata": {},
   "outputs": [],
   "source": [
    "mytable <- SVDRemoveTable(SMat)"
   ]
  },
  {
   "cell_type": "code",
   "execution_count": 8,
   "metadata": {},
   "outputs": [
    {
     "data": {
      "text/html": [
       "<table>\n",
       "<thead><tr><th scope=col>concepts</th><th scope=col>variability</th></tr></thead>\n",
       "<tbody>\n",
       "\t<tr><td> 1       </td><td>0.1051903</td></tr>\n",
       "\t<tr><td> 2       </td><td>0.1882037</td></tr>\n",
       "\t<tr><td> 3       </td><td>0.2440662</td></tr>\n",
       "\t<tr><td> 4       </td><td>0.2959879</td></tr>\n",
       "\t<tr><td> 5       </td><td>0.3465185</td></tr>\n",
       "\t<tr><td> 6       </td><td>0.3905282</td></tr>\n",
       "\t<tr><td> 7       </td><td>0.4333474</td></tr>\n",
       "\t<tr><td> 8       </td><td>0.4726216</td></tr>\n",
       "\t<tr><td> 9       </td><td>0.5109163</td></tr>\n",
       "\t<tr><td>10       </td><td>0.5485990</td></tr>\n",
       "</tbody>\n",
       "</table>\n"
      ],
      "text/latex": [
       "\\begin{tabular}{r|ll}\n",
       " concepts & variability\\\\\n",
       "\\hline\n",
       "\t  1        & 0.1051903\\\\\n",
       "\t  2        & 0.1882037\\\\\n",
       "\t  3        & 0.2440662\\\\\n",
       "\t  4        & 0.2959879\\\\\n",
       "\t  5        & 0.3465185\\\\\n",
       "\t  6        & 0.3905282\\\\\n",
       "\t  7        & 0.4333474\\\\\n",
       "\t  8        & 0.4726216\\\\\n",
       "\t  9        & 0.5109163\\\\\n",
       "\t 10        & 0.5485990\\\\\n",
       "\\end{tabular}\n"
      ],
      "text/markdown": [
       "\n",
       "concepts | variability | \n",
       "|---|---|---|---|---|---|---|---|---|---|\n",
       "|  1        | 0.1051903 | \n",
       "|  2        | 0.1882037 | \n",
       "|  3        | 0.2440662 | \n",
       "|  4        | 0.2959879 | \n",
       "|  5        | 0.3465185 | \n",
       "|  6        | 0.3905282 | \n",
       "|  7        | 0.4333474 | \n",
       "|  8        | 0.4726216 | \n",
       "|  9        | 0.5109163 | \n",
       "| 10        | 0.5485990 | \n",
       "\n",
       "\n"
      ],
      "text/plain": [
       "   concepts variability\n",
       "1   1       0.1051903  \n",
       "2   2       0.1882037  \n",
       "3   3       0.2440662  \n",
       "4   4       0.2959879  \n",
       "5   5       0.3465185  \n",
       "6   6       0.3905282  \n",
       "7   7       0.4333474  \n",
       "8   8       0.4726216  \n",
       "9   9       0.5109163  \n",
       "10 10       0.5485990  "
      ]
     },
     "metadata": {},
     "output_type": "display_data"
    }
   ],
   "source": [
    "head(mytable, 10)"
   ]
  },
  {
   "cell_type": "code",
   "execution_count": 9,
   "metadata": {},
   "outputs": [
    {
     "data": {},
     "metadata": {},
     "output_type": "display_data"
    },
    {
     "data": {
      "image/png": "[encoded data removed]",
      "text/plain": [
       "plot without title"
      ]
     },
     "metadata": {},
     "output_type": "display_data"
    }
   ],
   "source": [
    "ggplot(mytable, aes(concepts, variability)) + geom_point() + \n",
    "    geom_hline(yintercept = .80, color='red') + \n",
    "    ggtitle(\"Raw Data\")"
   ]
  },
  {
   "cell_type": "code",
   "execution_count": 10,
   "metadata": {},
   "outputs": [],
   "source": [
    "n <- .8 * k\n",
    "\n",
    "NewSMat <- SMat[1:n, 1:n]\n",
    "NewU <- U[,1:n]\n",
    "NewV <- V[,1:n]\n",
    "\n",
    "PreComputed <- NewSMat %*% t(NewV)"
   ]
  },
  {
   "cell_type": "code",
   "execution_count": 11,
   "metadata": {},
   "outputs": [
    {
     "name": "stdout",
     "output_type": "stream",
     "text": [
      "[1] \"Book Ratings as SparseMatrix: 20.905 MB |  Dim: 33095 95795\"\n",
      "[1] \"Book Ratings as S Matrix: 0.003 MB |  Dim: 20 20\"\n",
      "[1] \"Book Ratings as U Matrix: 5.05 MB |  Dim: 33095 20\"\n",
      "[1] \"Book Ratings as V Matrix: 14.617 MB |  Dim: 95795 20\"\n",
      "[1] \"Book Ratings as S %*% t(V): 14.617 MB |  Dim: 20 95795\"\n"
     ]
    }
   ],
   "source": [
    "print(paste0(\"Book Ratings as SparseMatrix: \", round(object.size(SparseM)/1024/1024, 3), \" MB |  Dim: \", \n",
    "             dim(SparseM)[1], ' ', dim(SparseM)[2]))\n",
    "print(paste0(\"Book Ratings as S Matrix: \", round(object.size(NewSMat)/1024/1024, 3), \" MB |  Dim: \", \n",
    "             dim(NewSMat)[1], ' ', dim(NewSMat)[2]))\n",
    "print(paste0(\"Book Ratings as U Matrix: \", round(object.size(NewU)/1024/1024, 3), \" MB |  Dim: \", \n",
    "             dim(NewU)[1], ' ', dim(NewU)[2]))\n",
    "print(paste0(\"Book Ratings as V Matrix: \", round(object.size(NewV)/1024/1024, 3), \" MB |  Dim: \", \n",
    "             dim(NewV)[1], ' ', dim(NewV)[2]))\n",
    "print(paste0(\"Book Ratings as S %*% t(V): \", round(object.size(PreComputed)/1024/1024, 3), \" MB |  Dim: \", \n",
    "             dim(PreComputed)[1], ' ', dim(PreComputed)[2]))"
   ]
  },
  {
   "cell_type": "code",
   "execution_count": 12,
   "metadata": {},
   "outputs": [],
   "source": [
    "r_bar <- colMeans(Book)\n",
    "samp <- sample(nrow(NewU),1)\n",
    "q <- NewU[samp,]\n",
    "#SampleUserActual <- Book[samp,]"
   ]
  },
  {
   "cell_type": "code",
   "execution_count": 13,
   "metadata": {},
   "outputs": [],
   "source": [
    "qV <- r_bar + q %*% PreComputed"
   ]
  },
  {
   "cell_type": "code",
   "execution_count": 14,
   "metadata": {},
   "outputs": [],
   "source": [
    "ItemIndex <- SparseM@Dimnames[2]\n",
    "qV <- data.frame(ItemIndex, t(qV))\n",
    "colnames(qV) <- c(\"ISBN\", \"Prediction\")"
   ]
  },
  {
   "cell_type": "code",
   "execution_count": 15,
   "metadata": {},
   "outputs": [
    {
     "data": {
      "text/html": [
       "<table>\n",
       "<thead><tr><th></th><th scope=col>ISBN</th><th scope=col>Prediction</th></tr></thead>\n",
       "<tbody>\n",
       "\t<tr><th scope=row>86933</th><td>3807702628</td><td>5.689655  </td></tr>\n",
       "\t<tr><th scope=row>82523</th><td>3257017308</td><td>5.600000  </td></tr>\n",
       "\t<tr><th scope=row>87308</th><td>3894053844</td><td>5.500000  </td></tr>\n",
       "\t<tr><th scope=row>87484</th><td>3932784863</td><td>5.333333  </td></tr>\n",
       "\t<tr><th scope=row>85051</th><td>3462029509</td><td>5.272727  </td></tr>\n",
       "\t<tr><th scope=row>70685</th><td>0964109964</td><td>5.250000  </td></tr>\n",
       "\t<tr><th scope=row>95370</th><td>9742280142</td><td>5.166667  </td></tr>\n",
       "\t<tr><th scope=row>30178</th><td>0440403669</td><td>5.099731  </td></tr>\n",
       "\t<tr><th scope=row>47972</th><td>0671737929</td><td>5.058814  </td></tr>\n",
       "\t<tr><th scope=row>21245</th><td>0375713042</td><td>5.000000  </td></tr>\n",
       "</tbody>\n",
       "</table>\n"
      ],
      "text/latex": [
       "\\begin{tabular}{r|ll}\n",
       "  & ISBN & Prediction\\\\\n",
       "\\hline\n",
       "\t86933 & 3807702628 & 5.689655  \\\\\n",
       "\t82523 & 3257017308 & 5.600000  \\\\\n",
       "\t87308 & 3894053844 & 5.500000  \\\\\n",
       "\t87484 & 3932784863 & 5.333333  \\\\\n",
       "\t85051 & 3462029509 & 5.272727  \\\\\n",
       "\t70685 & 0964109964 & 5.250000  \\\\\n",
       "\t95370 & 9742280142 & 5.166667  \\\\\n",
       "\t30178 & 0440403669 & 5.099731  \\\\\n",
       "\t47972 & 0671737929 & 5.058814  \\\\\n",
       "\t21245 & 0375713042 & 5.000000  \\\\\n",
       "\\end{tabular}\n"
      ],
      "text/markdown": [
       "\n",
       "| <!--/--> | ISBN | Prediction | \n",
       "|---|---|---|---|---|---|---|---|---|---|\n",
       "| 86933 | 3807702628 | 5.689655   | \n",
       "| 82523 | 3257017308 | 5.600000   | \n",
       "| 87308 | 3894053844 | 5.500000   | \n",
       "| 87484 | 3932784863 | 5.333333   | \n",
       "| 85051 | 3462029509 | 5.272727   | \n",
       "| 70685 | 0964109964 | 5.250000   | \n",
       "| 95370 | 9742280142 | 5.166667   | \n",
       "| 30178 | 0440403669 | 5.099731   | \n",
       "| 47972 | 0671737929 | 5.058814   | \n",
       "| 21245 | 0375713042 | 5.000000   | \n",
       "\n",
       "\n"
      ],
      "text/plain": [
       "      ISBN       Prediction\n",
       "86933 3807702628 5.689655  \n",
       "82523 3257017308 5.600000  \n",
       "87308 3894053844 5.500000  \n",
       "87484 3932784863 5.333333  \n",
       "85051 3462029509 5.272727  \n",
       "70685 0964109964 5.250000  \n",
       "95370 9742280142 5.166667  \n",
       "30178 0440403669 5.099731  \n",
       "47972 0671737929 5.058814  \n",
       "21245 0375713042 5.000000  "
      ]
     },
     "metadata": {},
     "output_type": "display_data"
    }
   ],
   "source": [
    "n <- 10\n",
    "sorted_qV <- qV[order(-qV$Prediction), ]\n",
    "head(sorted_qV, n)"
   ]
  },
  {
   "cell_type": "code",
   "execution_count": 16,
   "metadata": {
    "collapsed": true
   },
   "outputs": [],
   "source": [
    "saveRDS(PreComputed, \"SVDOutput.rds\")"
   ]
  },
  {
   "cell_type": "code",
   "execution_count": null,
   "metadata": {
    "collapsed": true
   },
   "outputs": [],
   "source": []
  }
 ],
 "metadata": {
  "kernelspec": {
   "display_name": "R",
   "language": "R",
   "name": "ir"
  },
  "language_info": {
   "codemirror_mode": "r",
   "file_extension": ".r",
   "mimetype": "text/x-r-source",
   "name": "R",
   "pygments_lexer": "r",
   "version": "3.3.2"
  }
 },
 "nbformat": 4,
 "nbformat_minor": 2
}
