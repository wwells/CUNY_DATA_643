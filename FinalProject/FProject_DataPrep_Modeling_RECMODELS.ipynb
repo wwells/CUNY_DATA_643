{
 "cells": [
  {
   "cell_type": "markdown",
   "metadata": {},
   "source": [
    "# DATA 643: Recommender Systems\n",
    "Final Project:  Book Crossing RecSys | Walt Wells, Summer 2017"
   ]
  },
  {
   "cell_type": "markdown",
   "metadata": {},
   "source": [
    "# Notebook P3 - Modeling"
   ]
  },
  {
   "cell_type": "markdown",
   "metadata": {},
   "source": [
    "# Environment Prep"
   ]
  },
  {
   "cell_type": "code",
   "execution_count": 1,
   "metadata": {
    "collapsed": true
   },
   "outputs": [],
   "source": [
    "suppressMessages(library(dplyr))\n",
    "suppressMessages(library(stringr))\n",
    "suppressMessages(library(Matrix))\n",
    "suppressMessages(library(recommenderlab))\n",
    "suppressMessages(library(ggplot2))"
   ]
  },
  {
   "cell_type": "markdown",
   "metadata": {},
   "source": [
    "# Data Prep"
   ]
  },
  {
   "cell_type": "code",
   "execution_count": 33,
   "metadata": {
    "collapsed": true
   },
   "outputs": [],
   "source": [
    "BinBook <- readRDS(\"binBookM.rds\")\n",
    "Book <- readRDS(\"BookM.rds\")"
   ]
  },
  {
   "cell_type": "code",
   "execution_count": 34,
   "metadata": {},
   "outputs": [
    {
     "data": {
      "text/plain": [
       "33095 x 95795 rating matrix of class ‘binaryRatingMatrix’ with 176017 ratings."
      ]
     },
     "metadata": {},
     "output_type": "display_data"
    },
    {
     "data": {
      "text/plain": [
       "33095 x 95795 rating matrix of class ‘realRatingMatrix’ with 176017 ratings."
      ]
     },
     "metadata": {},
     "output_type": "display_data"
    }
   ],
   "source": [
    "BinBook\n",
    "Book\n",
    "m <- mean(colMeans(Book))"
   ]
  },
  {
   "cell_type": "code",
   "execution_count": 60,
   "metadata": {},
   "outputs": [
    {
     "data": {
      "text/plain": [
       "5000 x 5000 rating matrix of class ‘realRatingMatrix’ with 1547 ratings."
      ]
     },
     "metadata": {},
     "output_type": "display_data"
    }
   ],
   "source": [
    "Samp <- Book[1:5000,1:5000]\n",
    "Samp"
   ]
  },
  {
   "cell_type": "code",
   "execution_count": 82,
   "metadata": {},
   "outputs": [],
   "source": [
    "which_train <- sample(x = c(TRUE, FALSE), size = nrow(Samp), \n",
    "                      replace = TRUE, prob = c(0.8, 0.2))\n",
    "recc_data_train <- Samp[which_train, ]\n",
    "recc_data_test <- Samp[-which_train, ]"
   ]
  },
  {
   "cell_type": "code",
   "execution_count": 83,
   "metadata": {},
   "outputs": [
    {
     "data": {
      "text/plain": [
       "Recommender of type ‘SVD’ for ‘realRatingMatrix’ \n",
       "learned using 4012 users."
      ]
     },
     "metadata": {},
     "output_type": "display_data"
    }
   ],
   "source": [
    "recc_model <- Recommender(data = recc_data_train, \n",
    "                          method = \"SVD\")\n",
    "recc_model"
   ]
  },
  {
   "cell_type": "code",
   "execution_count": 68,
   "metadata": {},
   "outputs": [
    {
     "data": {
      "text/plain": [
       "Recommender method: SVD for realRatingMatrix\n",
       "Description: Recommender based on SVD approximation with column-mean imputation.\n",
       "Reference: NA\n",
       "Parameters:\n",
       "   k maxiter normalize\n",
       "1 10     100  \"center\""
      ]
     },
     "metadata": {},
     "output_type": "display_data"
    }
   ],
   "source": [
    "recommenderRegistry$get_entry(\"SVD\", dataType = \"realRatingMatrix\")"
   ]
  },
  {
   "cell_type": "code",
   "execution_count": 69,
   "metadata": {},
   "outputs": [
    {
     "data": {
      "text/plain": [
       "Recommendations as ‘topNList’ with n = 3 for 4999 users. "
      ]
     },
     "metadata": {},
     "output_type": "display_data"
    }
   ],
   "source": [
    "n_recommended <- 3\n",
    "recc_predicted <- predict(object = recc_model, newdata = recc_data_test, n = n_recommended)\n",
    "recc_predicted"
   ]
  },
  {
   "cell_type": "code",
   "execution_count": 75,
   "metadata": {},
   "outputs": [
    {
     "data": {
      "text/html": [],
      "text/latex": [],
      "text/markdown": [],
      "text/plain": [
       "integer(0)"
      ]
     },
     "metadata": {},
     "output_type": "display_data"
    },
    {
     "data": {
      "text/html": [],
      "text/latex": [],
      "text/markdown": [],
      "text/plain": [
       "character(0)"
      ]
     },
     "metadata": {},
     "output_type": "display_data"
    }
   ],
   "source": [
    "recc_user_1 <- recc_predicted@items[[1]]\n",
    "recc_user_1\n",
    "books_user_1 <- recc_predicted@itemLabels[recc_user_1]\n",
    "books_user_1"
   ]
  },
  {
   "cell_type": "markdown",
   "metadata": {},
   "source": [
    "## Subset For Testing"
   ]
  },
  {
   "cell_type": "code",
   "execution_count": 84,
   "metadata": {},
   "outputs": [
    {
     "data": {
      "text/plain": [
       "13768 x 11506 rating matrix of class ‘realRatingMatrix’ with 70584 ratings."
      ]
     },
     "metadata": {},
     "output_type": "display_data"
    },
    {
     "data": {
      "text/html": [
       "0"
      ],
      "text/latex": [
       "0"
      ],
      "text/markdown": [
       "0"
      ],
      "text/plain": [
       "[1] 0"
      ]
     },
     "metadata": {},
     "output_type": "display_data"
    },
    {
     "data": {
      "text/html": [
       "0"
      ],
      "text/latex": [
       "0"
      ],
      "text/markdown": [
       "0"
      ],
      "text/plain": [
       "[1] 0"
      ]
     },
     "metadata": {},
     "output_type": "display_data"
    }
   ],
   "source": [
    "n <- 1\n",
    "BookS <- Book[rowCounts(Book) > n, colCounts(Book) > n*2]\n",
    "BookS"
   ]
  },
  {
   "cell_type": "code",
   "execution_count": 5,
   "metadata": {
    "collapsed": true
   },
   "outputs": [],
   "source": [
    "#set.seed(643)\n",
    "#eval_sets <- evaluationScheme(data=BookS, \n",
    "#                                   method=\"split\", \n",
    "#                                   train=0.8,\n",
    "#                                   given=n, \n",
    "#                                   goodRating=m)\n",
    "#eval_sets\n",
    "#getData(eval_sets, \"train\")\n",
    "#getData(eval_sets, \"known\")\n",
    "#getData(eval_sets, \"unknown\")"
   ]
  },
  {
   "cell_type": "code",
   "execution_count": 43,
   "metadata": {},
   "outputs": [
    {
     "data": {
      "text/plain": [
       "Evaluation scheme using all-but-1 items\n",
       "Method: ‘cross-validation’ with 3 run(s).\n",
       "Good ratings: >=7.441965\n",
       "Data set: 33095 x 95795 rating matrix of class ‘realRatingMatrix’ with 176017 ratings."
      ]
     },
     "metadata": {},
     "output_type": "display_data"
    },
    {
     "data": {
      "text/plain": [
       "22062 x 95795 rating matrix of class ‘realRatingMatrix’ with 120779 ratings."
      ]
     },
     "metadata": {},
     "output_type": "display_data"
    },
    {
     "data": {
      "text/plain": [
       "11033 x 95795 rating matrix of class ‘realRatingMatrix’ with 44205 ratings."
      ]
     },
     "metadata": {},
     "output_type": "display_data"
    },
    {
     "data": {
      "text/plain": [
       "11033 x 95795 rating matrix of class ‘realRatingMatrix’ with 11033 ratings."
      ]
     },
     "metadata": {},
     "output_type": "display_data"
    }
   ],
   "source": [
    "set.seed(643)\n",
    "eval_setsK <- evaluationScheme(data=Book, \n",
    "                              method = \"cross-validation\",\n",
    "                              goodRating = m, \n",
    "                              k = 3, \n",
    "                              given = -1)\n",
    "eval_setsK\n",
    "getData(eval_setsK, \"train\")\n",
    "getData(eval_setsK, \"known\")\n",
    "getData(eval_setsK, \"unknown\")"
   ]
  },
  {
   "cell_type": "code",
   "execution_count": 45,
   "metadata": {},
   "outputs": [],
   "source": [
    "models_to_evaluate <- list(\n",
    "    IBCF_cos = list(name = \"IBCF\", \n",
    "                    param = list(method = \"cosine\")),\n",
    "#    IBCF_pear = list(name = \"IBCF\", \n",
    "#                     param = list(method = \"pearson\")),\n",
    "    UBCF_cos = list(name = \"UBCF\", \n",
    "                    param = list(method = \"cosine\")),\n",
    "#    UBCF_pear = list(name = \"UBCF\", \n",
    "#                     param = list(method = \"pearson\")),\n",
    "    ALS_explicit = list(name=\"ALS\", \n",
    "                        param = list()),\n",
    "#    ALS_implicit = list(name=\"ALS_implicit\", \n",
    "#                        param = list(lambda=0.1, alpha = 0.5, n_factors=10, \n",
    "#                                   n_iterations=10, seed = 1234, verbose = TRUE)),\n",
    "#    ALS = list(name = \"ALS\", param = list(\n",
    "#        normalize=NULL, lambda=0.1, n_factors=200, \n",
    "#        n_iterations=10, seed = 643)),\n",
    "    #SVD = list(name = \"SVD\", )\n",
    "    random = list(name = \"RANDOM\", \n",
    "                  param =  NULL)\n",
    ")\n",
    "\n",
    "n_recommendations <- c(1, 3, 5, 10, 15, 20, 30)"
   ]
  },
  {
   "cell_type": "code",
   "execution_count": 46,
   "metadata": {},
   "outputs": [
    {
     "name": "stdout",
     "output_type": "stream",
     "text": [
      "IBCF run fold/sample [model time/prediction time]\n",
      "\t 1  Timing stopped at: 0.143 0 0.143 \n",
      "UBCF run fold/sample [model time/prediction time]\n",
      "\t 1  Timing stopped at: 0.082 0.001 0.081 \n",
      "ALS run fold/sample [model time/prediction time]\n",
      "\t 1  Timing stopped at: 681.951 0.043 682.159 \n",
      "RANDOM run fold/sample [model time/prediction time]\n",
      "\t 1  Timing stopped at: 1.167 0 1.167 \n"
     ]
    },
    {
     "name": "stderr",
     "output_type": "stream",
     "text": [
      "Warning message in .local(x, method, ...):\n",
      "“\n",
      "  Recommender 'IBCF_cos' has failed and has been removed from the results!\n",
      "  Recommender 'UBCF_cos' has failed and has been removed from the results!\n",
      "  Recommender 'ALS_explicit' has failed and has been removed from the results!\n",
      "  Recommender 'random' has failed and has been removed from the results!”"
     ]
    }
   ],
   "source": [
    "list_results <- evaluate(x = eval_setsK, \n",
    "                         method = models_to_evaluate, \n",
    "                         n = n_recommendations, \n",
    "                         type = \"topNList\")"
   ]
  },
  {
   "cell_type": "code",
   "execution_count": 47,
   "metadata": {},
   "outputs": [
    {
     "name": "stdout",
     "output_type": "stream",
     "text": [
      "IBCF run fold/sample [model time/prediction time]\n",
      "\t 1  Timing stopped at: 0.105 0 0.105 \n",
      "UBCF run fold/sample [model time/prediction time]\n",
      "\t 1  Timing stopped at: 0.066 0 0.066 \n",
      "ALS run fold/sample [model time/prediction time]\n",
      "\t 1  Timing stopped at: 679.066 0 679.129 \n",
      "RANDOM run fold/sample [model time/prediction time]\n",
      "\t 1  Timing stopped at: 1.155 0 1.155 \n"
     ]
    },
    {
     "name": "stderr",
     "output_type": "stream",
     "text": [
      "Warning message in .local(x, method, ...):\n",
      "“\n",
      "  Recommender 'IBCF_cos' has failed and has been removed from the results!\n",
      "  Recommender 'UBCF_cos' has failed and has been removed from the results!\n",
      "  Recommender 'ALS_explicit' has failed and has been removed from the results!\n",
      "  Recommender 'random' has failed and has been removed from the results!”"
     ]
    }
   ],
   "source": [
    "evalNums <- evaluate(x = eval_setsK, \n",
    "               method = models_to_evaluate, \n",
    "               type=\"ratings\")"
   ]
  },
  {
   "cell_type": "code",
   "execution_count": 48,
   "metadata": {},
   "outputs": [
    {
     "ename": "ERROR",
     "evalue": "Error in a[[1]]: subscript out of bounds\n",
     "output_type": "error",
     "traceback": [
      "Error in a[[1]]: subscript out of bounds\nTraceback:\n",
      "1. plot(list_results, annotate = 1, legend = \"bottomright\")",
      "2. plot(list_results, annotate = 1, legend = \"bottomright\")",
      "3. .local(x, y, ...)",
      "4. \"TPR\" %in% colnames(a[[1]])",
      "5. match(x, table, nomatch = 0L)",
      "6. colnames(a[[1]])",
      "7. is.data.frame(x)"
     ]
    }
   ],
   "source": [
    "plot(list_results, annotate=1, legend = \"bottomright\") \n",
    "title(\"ROC curve\")"
   ]
  },
  {
   "cell_type": "code",
   "execution_count": 49,
   "metadata": {},
   "outputs": [
    {
     "ename": "ERROR",
     "evalue": "Error in a[[1]]: subscript out of bounds\n",
     "output_type": "error",
     "traceback": [
      "Error in a[[1]]: subscript out of bounds\nTraceback:\n",
      "1. plot(list_results, \"prec/rec\", annotate = 1, legend = \"topright\")",
      "2. plot(list_results, \"prec/rec\", annotate = 1, legend = \"topright\")",
      "3. .local(x, y, ...)",
      "4. \"TPR\" %in% colnames(a[[1]])",
      "5. match(x, table, nomatch = 0L)",
      "6. colnames(a[[1]])",
      "7. is.data.frame(x)"
     ]
    }
   ],
   "source": [
    "plot(list_results, \"prec/rec\", annotate = 1, legend = \"topright\")\n",
    "title(\"Precision-recall\")"
   ]
  },
  {
   "cell_type": "code",
   "execution_count": 50,
   "metadata": {},
   "outputs": [
    {
     "ename": "ERROR",
     "evalue": "Error in `colnames<-`(`*tmp*`, value = c(\"RMSE\", \"MSE\", \"MAE\")): length of 'dimnames' [2] not equal to array extent\n",
     "output_type": "error",
     "traceback": [
      "Error in `colnames<-`(`*tmp*`, value = c(\"RMSE\", \"MSE\", \"MAE\")): length of 'dimnames' [2] not equal to array extent\nTraceback:\n",
      "1. `colnames<-`(`*tmp*`, value = c(\"RMSE\", \"MSE\", \"MAE\"))"
     ]
    }
   ],
   "source": [
    "evalTable <- avg(evalNums)\n",
    "evalTable <- t(sapply(evalTable, rbind))\n",
    "colnames(evalTable) <- c(\"RMSE\", \"MSE\", \"MAE\")\n",
    "knitr::kable(evalTable)"
   ]
  },
  {
   "cell_type": "code",
   "execution_count": 51,
   "metadata": {},
   "outputs": [
    {
     "data": {
      "text/html": [],
      "text/latex": [],
      "text/markdown": [],
      "text/plain": [
       "    \n",
       "[1,]"
      ]
     },
     "metadata": {},
     "output_type": "display_data"
    }
   ],
   "source": []
  },
  {
   "cell_type": "code",
   "execution_count": null,
   "metadata": {
    "collapsed": true
   },
   "outputs": [],
   "source": []
  }
 ],
 "metadata": {
  "kernelspec": {
   "display_name": "R",
   "language": "R",
   "name": "ir"
  },
  "language_info": {
   "codemirror_mode": "r",
   "file_extension": ".r",
   "mimetype": "text/x-r-source",
   "name": "R",
   "pygments_lexer": "r",
   "version": "3.3.2"
  }
 },
 "nbformat": 4,
 "nbformat_minor": 2
}
