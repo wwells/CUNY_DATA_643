{
 "cells": [
  {
   "cell_type": "markdown",
   "metadata": {},
   "source": [
    "# DATA 643: Recommender Systems\n",
    "## Walt Wells, Summer 2017\n",
    "Project 5: Implementing a Recommender System on Spark"
   ]
  },
  {
   "cell_type": "markdown",
   "metadata": {},
   "source": [
    "# Assignment Requirements\n",
    "\n",
    "_The goal of this project is give you practice beginning to work with a distributed recommender system. It is sufficient for this assignment to build out your application on a single node._\n",
    "\n",
    "Adapt one of your recommendation systems to work with Apache Spark and compare the performance with your previous iteration. Consider the efficiency of the system and the added complexity of using Spark. You may complete the assignment using PySpark (Python), SparkR (R) , sparklyr (R), or Scala.\n",
    "\n",
    "Please include in your conclusion: For your given recommender system’s data, algorithm(s), and (envisioned) implementation, at what point would you see moving to a distributed platform such as Spark becoming necessary?\n",
    "\n",
    "You may work on any platform of your choosing, including Databricks Community Edition or in local mode. You are encouraged but not required to work in a small group on this project."
   ]
  },
  {
   "cell_type": "markdown",
   "metadata": {},
   "source": [
    "# Environment Prep"
   ]
  },
  {
   "cell_type": "code",
   "execution_count": 27,
   "metadata": {},
   "outputs": [],
   "source": [
    "if (!require('sparklyr')) install.packages('sparklyr')\n",
    "if (!require('dplyr')) install.packages('dplyr')\n",
    "if (!require('reshape2')) install.packages('reshape2')\n",
    "if (!require('ggplot2')) install.packages('ggplot2')\n",
    "if (!require('XML')) install.packages('XML')"
   ]
  },
  {
   "cell_type": "markdown",
   "metadata": {},
   "source": [
    "# Resources \n",
    "\n",
    "This Jupyter notebook is set up on a VM as part of an allocation grant from the [Open Science Data Cloud](https://www.opensciencedatacloud.org/). The OSDC offers services similar to commercial cloud providers like AWS, Azure and Google Compute, but is designed to serve the 'long tail' of the data science community by providing allocation grants to researchers in need of resources. I help manage the operations of the OSDC as part of my work with the [Open Commons Consortium](http://www.occ-data.org/).\n",
    "\n",
    "Our full Jester Dataset is not too large and can be managed in the VM using ephemeral storage. I port forward the jupyter notebook through a proxy server and work in a browser on my local machine. Github is used to manage the code.\n",
    "\n",
    "See the Spark section for more details on the specifics of this project. "
   ]
  },
  {
   "cell_type": "markdown",
   "metadata": {},
   "source": [
    "# Data Import\n",
    "\n",
    "For this project we will use a subset of Dataset 2+ of the [Jester dataset](http://eigentaste.berkeley.edu/dataset/). \n",
    "\n",
    "This dataset is used courtesy of Dr. Ken Goldberg.  \n",
    "\n",
    "__Publication Citation:__\n",
    "Eigentaste: A Constant Time Collaborative Filtering Algorithm. Ken Goldberg, Theresa Roeder, Dhruv Gupta, and Chris Perkins. Information Retrieval, 4(2), 133-151. July 2001. \n",
    "\n",
    "To make it easier to import, the .zip file has been downloaded and the resulting .xls converted to a simple csv.  We also utilize the [joke .zip](http://eigentaste.berkeley.edu/dataset/jester_dataset_1_joke_texts.zip) in the final step. "
   ]
  },
  {
   "cell_type": "code",
   "execution_count": 2,
   "metadata": {
    "collapsed": true
   },
   "outputs": [],
   "source": [
    "jester <- read.csv(\"https://raw.githubusercontent.com/wwells/CUNY_DATA_643/master/Project2/jesterfinal151cols.csv\", header=F)\n",
    "jester <- jester[,2:101]# remove last 50 so it matches with our available joke text"
   ]
  },
  {
   "cell_type": "markdown",
   "metadata": {},
   "source": [
    "# Data Prep\n",
    "\n",
    "## Subset\n",
    "\n",
    "Even though we'll be using Spark for this project, let's subset our data a bit to make it more managable, since we are just using Spark local instead of building a full cluster."
   ]
  },
  {
   "cell_type": "code",
   "execution_count": 3,
   "metadata": {},
   "outputs": [
    {
     "name": "stdout",
     "output_type": "stream",
     "text": [
      "[1] \"BeforeSubset: \"\n"
     ]
    },
    {
     "data": {
      "text/html": [
       "<ol class=list-inline>\n",
       "\t<li>50692</li>\n",
       "\t<li>100</li>\n",
       "</ol>\n"
      ],
      "text/latex": [
       "\\begin{enumerate*}\n",
       "\\item 50692\n",
       "\\item 100\n",
       "\\end{enumerate*}\n"
      ],
      "text/markdown": [
       "1. 50692\n",
       "2. 100\n",
       "\n",
       "\n"
      ],
      "text/plain": [
       "[1] 50692   100"
      ]
     },
     "metadata": {},
     "output_type": "display_data"
    },
    {
     "name": "stdout",
     "output_type": "stream",
     "text": [
      "[1] \"AfterSubset: \"\n"
     ]
    },
    {
     "data": {
      "text/html": [
       "<ol class=list-inline>\n",
       "\t<li>10000</li>\n",
       "\t<li>100</li>\n",
       "</ol>\n"
      ],
      "text/latex": [
       "\\begin{enumerate*}\n",
       "\\item 10000\n",
       "\\item 100\n",
       "\\end{enumerate*}\n"
      ],
      "text/markdown": [
       "1. 10000\n",
       "2. 100\n",
       "\n",
       "\n"
      ],
      "text/plain": [
       "[1] 10000   100"
      ]
     },
     "metadata": {},
     "output_type": "display_data"
    }
   ],
   "source": [
    "print(\"BeforeSubset: \")\n",
    "dim(jester)\n",
    "jester <- jester[1:10000,]\n",
    "print(\"AfterSubset: \")\n",
    "dim(jester)"
   ]
  },
  {
   "cell_type": "markdown",
   "metadata": {},
   "source": [
    "## NA Removal"
   ]
  },
  {
   "cell_type": "code",
   "execution_count": 4,
   "metadata": {},
   "outputs": [
    {
     "data": {
      "text/plain": [
       "allNAs\n",
       "FALSE  TRUE \n",
       "   90    10 "
      ]
     },
     "metadata": {},
     "output_type": "display_data"
    }
   ],
   "source": [
    "jester[jester==99] <- NA\n",
    "allNAs <- sapply(jester, function(x) all(is.na(x))) # remove cols with all NAs\n",
    "table(allNAs)\n",
    "jester <- jester[,!allNAs] \n",
    "#for this exercise we will leave the columns where every user ranked an item "
   ]
  },
  {
   "cell_type": "markdown",
   "metadata": {},
   "source": [
    "## Distribution Review 1:  Mean Joke Rating"
   ]
  },
  {
   "cell_type": "code",
   "execution_count": 5,
   "metadata": {},
   "outputs": [
    {
     "data": {
      "text/html": [
       "<dl class=dl-horizontal>\n",
       "\t<dt>0%</dt>\n",
       "\t\t<dd>-2.829659375</dd>\n",
       "\t<dt>25%</dt>\n",
       "\t\t<dd>0.28124825934933</dd>\n",
       "\t<dt>50%</dt>\n",
       "\t\t<dd>1.84408638709697</dd>\n",
       "\t<dt>75%</dt>\n",
       "\t\t<dd>2.49361076332615</dd>\n",
       "\t<dt>100%</dt>\n",
       "\t\t<dd>3.70598843254484</dd>\n",
       "</dl>\n"
      ],
      "text/latex": [
       "\\begin{description*}\n",
       "\\item[0\\textbackslash{}\\%] -2.829659375\n",
       "\\item[25\\textbackslash{}\\%] 0.28124825934933\n",
       "\\item[50\\textbackslash{}\\%] 1.84408638709697\n",
       "\\item[75\\textbackslash{}\\%] 2.49361076332615\n",
       "\\item[100\\textbackslash{}\\%] 3.70598843254484\n",
       "\\end{description*}\n"
      ],
      "text/markdown": [
       "0%\n",
       ":   -2.82965937525%\n",
       ":   0.2812482593493350%\n",
       ":   1.8440863870969775%\n",
       ":   2.49361076332615100%\n",
       ":   3.70598843254484\n",
       "\n"
      ],
      "text/plain": [
       "        0%        25%        50%        75%       100% \n",
       "-2.8296594  0.2812483  1.8440864  2.4936108  3.7059884 "
      ]
     },
     "metadata": {},
     "output_type": "display_data"
    },
    {
     "name": "stderr",
     "output_type": "stream",
     "text": [
      "`stat_bin()` using `bins = 30`. Pick better value with `binwidth`.\n"
     ]
    },
    {
     "data": {},
     "metadata": {},
     "output_type": "display_data"
    },
    {
     "data": {
      "image/png": "[encoded data removed]",
      "text/plain": [
       "plot without title"
      ]
     },
     "metadata": {},
     "output_type": "display_data"
    }
   ],
   "source": [
    "mean_rating <- colMeans(jester, na.rm=T)\n",
    "quantile(mean_rating)\n",
    "goodrating <- quantile(mean_rating, .5)\n",
    "qplot(mean_rating) + ggtitle(\"Distribution of Joke Rating - Initial Subset\") + \n",
    "    geom_vline(xintercept = goodrating, col='orange')"
   ]
  },
  {
   "cell_type": "markdown",
   "metadata": {},
   "source": [
    "## Center and Scale"
   ]
  },
  {
   "cell_type": "code",
   "execution_count": 6,
   "metadata": {
    "collapsed": true
   },
   "outputs": [],
   "source": [
    "jesterScaled <- data.frame(scale(jester, \n",
    "                                center=T, \n",
    "                                scale=T))\n",
    "\n",
    "#we'll also save our matrix names for later\n",
    "ItemIndex <- names(jesterScaled)"
   ]
  },
  {
   "cell_type": "markdown",
   "metadata": {},
   "source": [
    "## Distribution Review 2:  Mean Joke Rating, Center + Scaled"
   ]
  },
  {
   "cell_type": "code",
   "execution_count": 7,
   "metadata": {},
   "outputs": [
    {
     "data": {
      "text/html": [
       "<dl class=dl-horizontal>\n",
       "\t<dt>0%</dt>\n",
       "\t\t<dd>-8.08190819423835e-17</dd>\n",
       "\t<dt>25%</dt>\n",
       "\t\t<dd>-2.73387073669584e-17</dd>\n",
       "\t<dt>50%</dt>\n",
       "\t\t<dd>-4.33856436662926e-19</dd>\n",
       "\t<dt>75%</dt>\n",
       "\t\t<dd>2.0793515872479e-17</dd>\n",
       "\t<dt>100%</dt>\n",
       "\t\t<dd>7.08523339713707e-17</dd>\n",
       "</dl>\n"
      ],
      "text/latex": [
       "\\begin{description*}\n",
       "\\item[0\\textbackslash{}\\%] -8.08190819423835e-17\n",
       "\\item[25\\textbackslash{}\\%] -2.73387073669584e-17\n",
       "\\item[50\\textbackslash{}\\%] -4.33856436662926e-19\n",
       "\\item[75\\textbackslash{}\\%] 2.0793515872479e-17\n",
       "\\item[100\\textbackslash{}\\%] 7.08523339713707e-17\n",
       "\\end{description*}\n"
      ],
      "text/markdown": [
       "0%\n",
       ":   -8.08190819423835e-1725%\n",
       ":   -2.73387073669584e-1750%\n",
       ":   -4.33856436662926e-1975%\n",
       ":   2.0793515872479e-17100%\n",
       ":   7.08523339713707e-17\n",
       "\n"
      ],
      "text/plain": [
       "           0%           25%           50%           75%          100% \n",
       "-8.081908e-17 -2.733871e-17 -4.338564e-19  2.079352e-17  7.085233e-17 "
      ]
     },
     "metadata": {},
     "output_type": "display_data"
    },
    {
     "name": "stderr",
     "output_type": "stream",
     "text": [
      "`stat_bin()` using `bins = 30`. Pick better value with `binwidth`.\n"
     ]
    },
    {
     "data": {},
     "metadata": {},
     "output_type": "display_data"
    },
    {
     "data": {
      "image/png": "[encoded data removed]",
      "text/plain": [
       "plot without title"
      ]
     },
     "metadata": {},
     "output_type": "display_data"
    }
   ],
   "source": [
    "mean_rating <- colMeans(jesterScaled, na.rm=T)\n",
    "quantile(mean_rating)\n",
    "goodrating <- quantile(mean_rating, .5)\n",
    "qplot(mean_rating) + ggtitle(\"Distribution of Joke Rating - Center & Scaled\") + \n",
    "    geom_vline(xintercept = goodrating, col='orange')"
   ]
  },
  {
   "cell_type": "markdown",
   "metadata": {},
   "source": [
    "## NA Review:  % Sparseness"
   ]
  },
  {
   "cell_type": "code",
   "execution_count": 8,
   "metadata": {},
   "outputs": [
    {
     "data": {
      "text/html": [
       "0.747733333333333"
      ],
      "text/latex": [
       "0.747733333333333"
      ],
      "text/markdown": [
       "0.747733333333333"
      ],
      "text/plain": [
       "[1] 0.7477333"
      ]
     },
     "metadata": {},
     "output_type": "display_data"
    }
   ],
   "source": [
    "sum(is.na(jesterScaled))/prod(dim(jesterScaled))"
   ]
  },
  {
   "cell_type": "markdown",
   "metadata": {},
   "source": [
    "## NA Handling - ColMean Imputation"
   ]
  },
  {
   "cell_type": "code",
   "execution_count": 9,
   "metadata": {},
   "outputs": [
    {
     "data": {
      "text/html": [
       "<table>\n",
       "<thead><tr><th scope=col>V6</th><th scope=col>V8</th><th scope=col>V9</th><th scope=col>V14</th><th scope=col>V16</th><th scope=col>V17</th><th scope=col>V18</th><th scope=col>V19</th><th scope=col>V20</th><th scope=col>V21</th><th scope=col>⋯</th><th scope=col>V92</th><th scope=col>V93</th><th scope=col>V94</th><th scope=col>V95</th><th scope=col>V96</th><th scope=col>V97</th><th scope=col>V98</th><th scope=col>V99</th><th scope=col>V100</th><th scope=col>V101</th></tr></thead>\n",
       "<tbody>\n",
       "\t<tr><td> 0.4154984   </td><td>-1.17992871  </td><td>-1.4462855   </td><td>-1.01275974  </td><td> 0.4801107   </td><td>-1.339563    </td><td>-1.74536923  </td><td>-1.2962743   </td><td>-1.783526336 </td><td>-1.489419    </td><td>⋯            </td><td> 1.247052e+00</td><td>2.778971e-01 </td><td> 1.388627e+00</td><td>2.222633e-17 </td><td>4.655672e-17 </td><td> 8.955273e-18</td><td> 7.085233e-17</td><td>-5.550237e-18</td><td>-3.264701e-17</td><td> 3.758568e-17</td></tr>\n",
       "\t<tr><td>-1.4111146   </td><td> 2.33498043  </td><td> 1.9820015   </td><td> 1.93684339  </td><td> 0.3948244   </td><td> 1.011809    </td><td> 1.51571067  </td><td>-0.4306253   </td><td>-1.932131148 </td><td>-1.483913    </td><td>⋯            </td><td> 3.243232e-18</td><td>1.787740e-17 </td><td>-1.710016e-17</td><td>2.222633e-17 </td><td>4.655672e-17 </td><td> 8.955273e-18</td><td> 7.085233e-17</td><td>-5.550237e-18</td><td>-3.264701e-17</td><td> 3.758568e-17</td></tr>\n",
       "\t<tr><td>-1.4399255   </td><td>-1.28280410  </td><td>-1.0704268   </td><td>-0.17474166  </td><td>-1.4871600   </td><td>-1.394502    </td><td>-1.89260862  </td><td>-1.7206121   </td><td>-1.970658321 </td><td>-1.081977    </td><td>⋯            </td><td> 3.243232e-18</td><td>1.787740e-17 </td><td>-1.710016e-17</td><td>2.222633e-17 </td><td>4.655672e-17 </td><td> 8.955273e-18</td><td> 7.085233e-17</td><td>-5.550237e-18</td><td>-3.264701e-17</td><td> 3.758568e-17</td></tr>\n",
       "\t<tr><td> 1.6486063   </td><td> 1.38624073  </td><td>-0.8312440   </td><td> 0.11194874  </td><td>-0.4125526   </td><td> 1.039279    </td><td> 0.91584648  </td><td> 1.0800171   </td><td> 0.825313700 </td><td> 1.076363    </td><td>⋯            </td><td> 2.596330e-01</td><td>7.437882e-01 </td><td> 3.438061e-01</td><td>1.148643e-01 </td><td>7.501635e-01 </td><td> 1.095785e+00</td><td> 2.827096e-01</td><td>-2.576014e-01</td><td>-2.825814e-01</td><td>-8.223640e-02</td></tr>\n",
       "\t<tr><td> 0.3694009   </td><td>-1.14563691  </td><td> 0.1710459   </td><td> 1.50680779  </td><td>-0.9924994   </td><td>-1.301106    </td><td>-0.14754914  </td><td>-1.6017975   </td><td> 0.396010910 </td><td>-1.538973    </td><td>⋯            </td><td> 3.243232e-18</td><td>1.787740e-17 </td><td>-1.710016e-17</td><td>2.222633e-17 </td><td>4.655672e-17 </td><td> 8.955273e-18</td><td> 7.085233e-17</td><td>-5.550237e-18</td><td>-3.264701e-17</td><td> 3.758568e-17</td></tr>\n",
       "\t<tr><td>-0.1607202   </td><td> 0.08886776  </td><td> 0.1539614   </td><td> 0.01270976  </td><td> 0.7302839   </td><td> 0.429460    </td><td>-0.01666968  </td><td> 0.1295005   </td><td> 0.005235292 </td><td> 0.118324    </td><td>⋯            </td><td>-1.779059e-01</td><td>1.787740e-17 </td><td>-6.618698e-02</td><td>2.222633e-17 </td><td>4.655672e-17 </td><td>-3.306340e-01</td><td>-2.162044e-02</td><td>-5.550237e-18</td><td>-3.264701e-17</td><td> 3.758568e-17</td></tr>\n",
       "</tbody>\n",
       "</table>\n"
      ],
      "text/latex": [
       "\\begin{tabular}{r|llllllllllllllllllllllllllllllllllllllllllllllllllllllllllllllllllllllllllllllllllllllllll}\n",
       " V6 & V8 & V9 & V14 & V16 & V17 & V18 & V19 & V20 & V21 & ⋯ & V92 & V93 & V94 & V95 & V96 & V97 & V98 & V99 & V100 & V101\\\\\n",
       "\\hline\n",
       "\t  0.4154984    & -1.17992871   & -1.4462855    & -1.01275974   &  0.4801107    & -1.339563     & -1.74536923   & -1.2962743    & -1.783526336  & -1.489419     & ⋯             &  1.247052e+00 & 2.778971e-01  &  1.388627e+00 & 2.222633e-17  & 4.655672e-17  &  8.955273e-18 &  7.085233e-17 & -5.550237e-18 & -3.264701e-17 &  3.758568e-17\\\\\n",
       "\t -1.4111146    &  2.33498043   &  1.9820015    &  1.93684339   &  0.3948244    &  1.011809     &  1.51571067   & -0.4306253    & -1.932131148  & -1.483913     & ⋯             &  3.243232e-18 & 1.787740e-17  & -1.710016e-17 & 2.222633e-17  & 4.655672e-17  &  8.955273e-18 &  7.085233e-17 & -5.550237e-18 & -3.264701e-17 &  3.758568e-17\\\\\n",
       "\t -1.4399255    & -1.28280410   & -1.0704268    & -0.17474166   & -1.4871600    & -1.394502     & -1.89260862   & -1.7206121    & -1.970658321  & -1.081977     & ⋯             &  3.243232e-18 & 1.787740e-17  & -1.710016e-17 & 2.222633e-17  & 4.655672e-17  &  8.955273e-18 &  7.085233e-17 & -5.550237e-18 & -3.264701e-17 &  3.758568e-17\\\\\n",
       "\t  1.6486063    &  1.38624073   & -0.8312440    &  0.11194874   & -0.4125526    &  1.039279     &  0.91584648   &  1.0800171    &  0.825313700  &  1.076363     & ⋯             &  2.596330e-01 & 7.437882e-01  &  3.438061e-01 & 1.148643e-01  & 7.501635e-01  &  1.095785e+00 &  2.827096e-01 & -2.576014e-01 & -2.825814e-01 & -8.223640e-02\\\\\n",
       "\t  0.3694009    & -1.14563691   &  0.1710459    &  1.50680779   & -0.9924994    & -1.301106     & -0.14754914   & -1.6017975    &  0.396010910  & -1.538973     & ⋯             &  3.243232e-18 & 1.787740e-17  & -1.710016e-17 & 2.222633e-17  & 4.655672e-17  &  8.955273e-18 &  7.085233e-17 & -5.550237e-18 & -3.264701e-17 &  3.758568e-17\\\\\n",
       "\t -0.1607202    &  0.08886776   &  0.1539614    &  0.01270976   &  0.7302839    &  0.429460     & -0.01666968   &  0.1295005    &  0.005235292  &  0.118324     & ⋯             & -1.779059e-01 & 1.787740e-17  & -6.618698e-02 & 2.222633e-17  & 4.655672e-17  & -3.306340e-01 & -2.162044e-02 & -5.550237e-18 & -3.264701e-17 &  3.758568e-17\\\\\n",
       "\\end{tabular}\n"
      ],
      "text/markdown": [
       "\n",
       "V6 | V8 | V9 | V14 | V16 | V17 | V18 | V19 | V20 | V21 | ⋯ | V92 | V93 | V94 | V95 | V96 | V97 | V98 | V99 | V100 | V101 | \n",
       "|---|---|---|---|---|---|\n",
       "|  0.4154984    | -1.17992871   | -1.4462855    | -1.01275974   |  0.4801107    | -1.339563     | -1.74536923   | -1.2962743    | -1.783526336  | -1.489419     | ⋯             |  1.247052e+00 | 2.778971e-01  |  1.388627e+00 | 2.222633e-17  | 4.655672e-17  |  8.955273e-18 |  7.085233e-17 | -5.550237e-18 | -3.264701e-17 |  3.758568e-17 | \n",
       "| -1.4111146    |  2.33498043   |  1.9820015    |  1.93684339   |  0.3948244    |  1.011809     |  1.51571067   | -0.4306253    | -1.932131148  | -1.483913     | ⋯             |  3.243232e-18 | 1.787740e-17  | -1.710016e-17 | 2.222633e-17  | 4.655672e-17  |  8.955273e-18 |  7.085233e-17 | -5.550237e-18 | -3.264701e-17 |  3.758568e-17 | \n",
       "| -1.4399255    | -1.28280410   | -1.0704268    | -0.17474166   | -1.4871600    | -1.394502     | -1.89260862   | -1.7206121    | -1.970658321  | -1.081977     | ⋯             |  3.243232e-18 | 1.787740e-17  | -1.710016e-17 | 2.222633e-17  | 4.655672e-17  |  8.955273e-18 |  7.085233e-17 | -5.550237e-18 | -3.264701e-17 |  3.758568e-17 | \n",
       "|  1.6486063    |  1.38624073   | -0.8312440    |  0.11194874   | -0.4125526    |  1.039279     |  0.91584648   |  1.0800171    |  0.825313700  |  1.076363     | ⋯             |  2.596330e-01 | 7.437882e-01  |  3.438061e-01 | 1.148643e-01  | 7.501635e-01  |  1.095785e+00 |  2.827096e-01 | -2.576014e-01 | -2.825814e-01 | -8.223640e-02 | \n",
       "|  0.3694009    | -1.14563691   |  0.1710459    |  1.50680779   | -0.9924994    | -1.301106     | -0.14754914   | -1.6017975    |  0.396010910  | -1.538973     | ⋯             |  3.243232e-18 | 1.787740e-17  | -1.710016e-17 | 2.222633e-17  | 4.655672e-17  |  8.955273e-18 |  7.085233e-17 | -5.550237e-18 | -3.264701e-17 |  3.758568e-17 | \n",
       "| -0.1607202    |  0.08886776   |  0.1539614    |  0.01270976   |  0.7302839    |  0.429460     | -0.01666968   |  0.1295005    |  0.005235292  |  0.118324     | ⋯             | -1.779059e-01 | 1.787740e-17  | -6.618698e-02 | 2.222633e-17  | 4.655672e-17  | -3.306340e-01 | -2.162044e-02 | -5.550237e-18 | -3.264701e-17 |  3.758568e-17 | \n",
       "\n",
       "\n"
      ],
      "text/plain": [
       "  V6         V8          V9         V14         V16        V17      \n",
       "1  0.4154984 -1.17992871 -1.4462855 -1.01275974  0.4801107 -1.339563\n",
       "2 -1.4111146  2.33498043  1.9820015  1.93684339  0.3948244  1.011809\n",
       "3 -1.4399255 -1.28280410 -1.0704268 -0.17474166 -1.4871600 -1.394502\n",
       "4  1.6486063  1.38624073 -0.8312440  0.11194874 -0.4125526  1.039279\n",
       "5  0.3694009 -1.14563691  0.1710459  1.50680779 -0.9924994 -1.301106\n",
       "6 -0.1607202  0.08886776  0.1539614  0.01270976  0.7302839  0.429460\n",
       "  V18         V19        V20          V21       ⋯ V92           V93         \n",
       "1 -1.74536923 -1.2962743 -1.783526336 -1.489419 ⋯  1.247052e+00 2.778971e-01\n",
       "2  1.51571067 -0.4306253 -1.932131148 -1.483913 ⋯  3.243232e-18 1.787740e-17\n",
       "3 -1.89260862 -1.7206121 -1.970658321 -1.081977 ⋯  3.243232e-18 1.787740e-17\n",
       "4  0.91584648  1.0800171  0.825313700  1.076363 ⋯  2.596330e-01 7.437882e-01\n",
       "5 -0.14754914 -1.6017975  0.396010910 -1.538973 ⋯  3.243232e-18 1.787740e-17\n",
       "6 -0.01666968  0.1295005  0.005235292  0.118324 ⋯ -1.779059e-01 1.787740e-17\n",
       "  V94           V95          V96          V97           V98          \n",
       "1  1.388627e+00 2.222633e-17 4.655672e-17  8.955273e-18  7.085233e-17\n",
       "2 -1.710016e-17 2.222633e-17 4.655672e-17  8.955273e-18  7.085233e-17\n",
       "3 -1.710016e-17 2.222633e-17 4.655672e-17  8.955273e-18  7.085233e-17\n",
       "4  3.438061e-01 1.148643e-01 7.501635e-01  1.095785e+00  2.827096e-01\n",
       "5 -1.710016e-17 2.222633e-17 4.655672e-17  8.955273e-18  7.085233e-17\n",
       "6 -6.618698e-02 2.222633e-17 4.655672e-17 -3.306340e-01 -2.162044e-02\n",
       "  V99           V100          V101         \n",
       "1 -5.550237e-18 -3.264701e-17  3.758568e-17\n",
       "2 -5.550237e-18 -3.264701e-17  3.758568e-17\n",
       "3 -5.550237e-18 -3.264701e-17  3.758568e-17\n",
       "4 -2.576014e-01 -2.825814e-01 -8.223640e-02\n",
       "5 -5.550237e-18 -3.264701e-17  3.758568e-17\n",
       "6 -5.550237e-18 -3.264701e-17  3.758568e-17"
      ]
     },
     "metadata": {},
     "output_type": "display_data"
    }
   ],
   "source": [
    "jMeans <- colMeans(jesterScaled, na.rm=TRUE)\n",
    "indx <- which(is.na(jesterScaled), arr.ind=TRUE)\n",
    "jesterScaled[indx] <- jMeans[indx[,2]]\n",
    "head(jesterScaled)"
   ]
  },
  {
   "cell_type": "markdown",
   "metadata": {},
   "source": [
    "## Distribution Review 3:  Mean Joke Rating, Imputed Values"
   ]
  },
  {
   "cell_type": "code",
   "execution_count": 10,
   "metadata": {},
   "outputs": [
    {
     "data": {
      "text/html": [
       "<dl class=dl-horizontal>\n",
       "\t<dt>0%</dt>\n",
       "\t\t<dd>-8.1358520036259e-17</dd>\n",
       "\t<dt>25%</dt>\n",
       "\t\t<dd>-2.75844905111854e-17</dd>\n",
       "\t<dt>50%</dt>\n",
       "\t\t<dd>-2.1416257802843e-19</dd>\n",
       "\t<dt>75%</dt>\n",
       "\t\t<dd>2.08649912327546e-17</dd>\n",
       "\t<dt>100%</dt>\n",
       "\t\t<dd>7.07835102352641e-17</dd>\n",
       "</dl>\n"
      ],
      "text/latex": [
       "\\begin{description*}\n",
       "\\item[0\\textbackslash{}\\%] -8.1358520036259e-17\n",
       "\\item[25\\textbackslash{}\\%] -2.75844905111854e-17\n",
       "\\item[50\\textbackslash{}\\%] -2.1416257802843e-19\n",
       "\\item[75\\textbackslash{}\\%] 2.08649912327546e-17\n",
       "\\item[100\\textbackslash{}\\%] 7.07835102352641e-17\n",
       "\\end{description*}\n"
      ],
      "text/markdown": [
       "0%\n",
       ":   -8.1358520036259e-1725%\n",
       ":   -2.75844905111854e-1750%\n",
       ":   -2.1416257802843e-1975%\n",
       ":   2.08649912327546e-17100%\n",
       ":   7.07835102352641e-17\n",
       "\n"
      ],
      "text/plain": [
       "           0%           25%           50%           75%          100% \n",
       "-8.135852e-17 -2.758449e-17 -2.141626e-19  2.086499e-17  7.078351e-17 "
      ]
     },
     "metadata": {},
     "output_type": "display_data"
    },
    {
     "name": "stderr",
     "output_type": "stream",
     "text": [
      "`stat_bin()` using `bins = 30`. Pick better value with `binwidth`.\n"
     ]
    },
    {
     "data": {},
     "metadata": {},
     "output_type": "display_data"
    },
    {
     "data": {
      "image/png": "[encoded data removed]",
      "text/plain": [
       "plot without title"
      ]
     },
     "metadata": {},
     "output_type": "display_data"
    }
   ],
   "source": [
    "mean_rating <- colMeans(jesterScaled)\n",
    "quantile(mean_rating)\n",
    "goodrating <- quantile(mean_rating, .5)\n",
    "qplot(mean_rating) + ggtitle(\"Distribution of Joke Rating - Initial Subset\") + \n",
    "    geom_vline(xintercept = goodrating, col='orange')"
   ]
  },
  {
   "cell_type": "markdown",
   "metadata": {},
   "source": [
    "## Update Col and Row Names\n",
    "\n",
    "In order to use the Spark ML libraries, these need to be nums.   We will convert them now."
   ]
  },
  {
   "cell_type": "code",
   "execution_count": 11,
   "metadata": {},
   "outputs": [
    {
     "data": {
      "text/html": [
       "<table>\n",
       "<thead><tr><th scope=col>6</th><th scope=col>8</th><th scope=col>9</th><th scope=col>14</th><th scope=col>16</th><th scope=col>17</th><th scope=col>18</th><th scope=col>19</th><th scope=col>20</th><th scope=col>21</th><th scope=col>⋯</th><th scope=col>92</th><th scope=col>93</th><th scope=col>94</th><th scope=col>95</th><th scope=col>96</th><th scope=col>97</th><th scope=col>98</th><th scope=col>99</th><th scope=col>100</th><th scope=col>101</th></tr></thead>\n",
       "<tbody>\n",
       "\t<tr><td> 0.4154984   </td><td>-1.17992871  </td><td>-1.4462855   </td><td>-1.01275974  </td><td> 0.4801107   </td><td>-1.339563    </td><td>-1.74536923  </td><td>-1.2962743   </td><td>-1.783526336 </td><td>-1.489419    </td><td>⋯            </td><td> 1.247052e+00</td><td>2.778971e-01 </td><td> 1.388627e+00</td><td>2.222633e-17 </td><td>4.655672e-17 </td><td> 8.955273e-18</td><td> 7.085233e-17</td><td>-5.550237e-18</td><td>-3.264701e-17</td><td> 3.758568e-17</td></tr>\n",
       "\t<tr><td>-1.4111146   </td><td> 2.33498043  </td><td> 1.9820015   </td><td> 1.93684339  </td><td> 0.3948244   </td><td> 1.011809    </td><td> 1.51571067  </td><td>-0.4306253   </td><td>-1.932131148 </td><td>-1.483913    </td><td>⋯            </td><td> 3.243232e-18</td><td>1.787740e-17 </td><td>-1.710016e-17</td><td>2.222633e-17 </td><td>4.655672e-17 </td><td> 8.955273e-18</td><td> 7.085233e-17</td><td>-5.550237e-18</td><td>-3.264701e-17</td><td> 3.758568e-17</td></tr>\n",
       "\t<tr><td>-1.4399255   </td><td>-1.28280410  </td><td>-1.0704268   </td><td>-0.17474166  </td><td>-1.4871600   </td><td>-1.394502    </td><td>-1.89260862  </td><td>-1.7206121   </td><td>-1.970658321 </td><td>-1.081977    </td><td>⋯            </td><td> 3.243232e-18</td><td>1.787740e-17 </td><td>-1.710016e-17</td><td>2.222633e-17 </td><td>4.655672e-17 </td><td> 8.955273e-18</td><td> 7.085233e-17</td><td>-5.550237e-18</td><td>-3.264701e-17</td><td> 3.758568e-17</td></tr>\n",
       "\t<tr><td> 1.6486063   </td><td> 1.38624073  </td><td>-0.8312440   </td><td> 0.11194874  </td><td>-0.4125526   </td><td> 1.039279    </td><td> 0.91584648  </td><td> 1.0800171   </td><td> 0.825313700 </td><td> 1.076363    </td><td>⋯            </td><td> 2.596330e-01</td><td>7.437882e-01 </td><td> 3.438061e-01</td><td>1.148643e-01 </td><td>7.501635e-01 </td><td> 1.095785e+00</td><td> 2.827096e-01</td><td>-2.576014e-01</td><td>-2.825814e-01</td><td>-8.223640e-02</td></tr>\n",
       "\t<tr><td> 0.3694009   </td><td>-1.14563691  </td><td> 0.1710459   </td><td> 1.50680779  </td><td>-0.9924994   </td><td>-1.301106    </td><td>-0.14754914  </td><td>-1.6017975   </td><td> 0.396010910 </td><td>-1.538973    </td><td>⋯            </td><td> 3.243232e-18</td><td>1.787740e-17 </td><td>-1.710016e-17</td><td>2.222633e-17 </td><td>4.655672e-17 </td><td> 8.955273e-18</td><td> 7.085233e-17</td><td>-5.550237e-18</td><td>-3.264701e-17</td><td> 3.758568e-17</td></tr>\n",
       "\t<tr><td>-0.1607202   </td><td> 0.08886776  </td><td> 0.1539614   </td><td> 0.01270976  </td><td> 0.7302839   </td><td> 0.429460    </td><td>-0.01666968  </td><td> 0.1295005   </td><td> 0.005235292 </td><td> 0.118324    </td><td>⋯            </td><td>-1.779059e-01</td><td>1.787740e-17 </td><td>-6.618698e-02</td><td>2.222633e-17 </td><td>4.655672e-17 </td><td>-3.306340e-01</td><td>-2.162044e-02</td><td>-5.550237e-18</td><td>-3.264701e-17</td><td> 3.758568e-17</td></tr>\n",
       "</tbody>\n",
       "</table>\n"
      ],
      "text/latex": [
       "\\begin{tabular}{r|llllllllllllllllllllllllllllllllllllllllllllllllllllllllllllllllllllllllllllllllllllllllll}\n",
       " 6 & 8 & 9 & 14 & 16 & 17 & 18 & 19 & 20 & 21 & ⋯ & 92 & 93 & 94 & 95 & 96 & 97 & 98 & 99 & 100 & 101\\\\\n",
       "\\hline\n",
       "\t  0.4154984    & -1.17992871   & -1.4462855    & -1.01275974   &  0.4801107    & -1.339563     & -1.74536923   & -1.2962743    & -1.783526336  & -1.489419     & ⋯             &  1.247052e+00 & 2.778971e-01  &  1.388627e+00 & 2.222633e-17  & 4.655672e-17  &  8.955273e-18 &  7.085233e-17 & -5.550237e-18 & -3.264701e-17 &  3.758568e-17\\\\\n",
       "\t -1.4111146    &  2.33498043   &  1.9820015    &  1.93684339   &  0.3948244    &  1.011809     &  1.51571067   & -0.4306253    & -1.932131148  & -1.483913     & ⋯             &  3.243232e-18 & 1.787740e-17  & -1.710016e-17 & 2.222633e-17  & 4.655672e-17  &  8.955273e-18 &  7.085233e-17 & -5.550237e-18 & -3.264701e-17 &  3.758568e-17\\\\\n",
       "\t -1.4399255    & -1.28280410   & -1.0704268    & -0.17474166   & -1.4871600    & -1.394502     & -1.89260862   & -1.7206121    & -1.970658321  & -1.081977     & ⋯             &  3.243232e-18 & 1.787740e-17  & -1.710016e-17 & 2.222633e-17  & 4.655672e-17  &  8.955273e-18 &  7.085233e-17 & -5.550237e-18 & -3.264701e-17 &  3.758568e-17\\\\\n",
       "\t  1.6486063    &  1.38624073   & -0.8312440    &  0.11194874   & -0.4125526    &  1.039279     &  0.91584648   &  1.0800171    &  0.825313700  &  1.076363     & ⋯             &  2.596330e-01 & 7.437882e-01  &  3.438061e-01 & 1.148643e-01  & 7.501635e-01  &  1.095785e+00 &  2.827096e-01 & -2.576014e-01 & -2.825814e-01 & -8.223640e-02\\\\\n",
       "\t  0.3694009    & -1.14563691   &  0.1710459    &  1.50680779   & -0.9924994    & -1.301106     & -0.14754914   & -1.6017975    &  0.396010910  & -1.538973     & ⋯             &  3.243232e-18 & 1.787740e-17  & -1.710016e-17 & 2.222633e-17  & 4.655672e-17  &  8.955273e-18 &  7.085233e-17 & -5.550237e-18 & -3.264701e-17 &  3.758568e-17\\\\\n",
       "\t -0.1607202    &  0.08886776   &  0.1539614    &  0.01270976   &  0.7302839    &  0.429460     & -0.01666968   &  0.1295005    &  0.005235292  &  0.118324     & ⋯             & -1.779059e-01 & 1.787740e-17  & -6.618698e-02 & 2.222633e-17  & 4.655672e-17  & -3.306340e-01 & -2.162044e-02 & -5.550237e-18 & -3.264701e-17 &  3.758568e-17\\\\\n",
       "\\end{tabular}\n"
      ],
      "text/markdown": [
       "\n",
       "6 | 8 | 9 | 14 | 16 | 17 | 18 | 19 | 20 | 21 | ⋯ | 92 | 93 | 94 | 95 | 96 | 97 | 98 | 99 | 100 | 101 | \n",
       "|---|---|---|---|---|---|\n",
       "|  0.4154984    | -1.17992871   | -1.4462855    | -1.01275974   |  0.4801107    | -1.339563     | -1.74536923   | -1.2962743    | -1.783526336  | -1.489419     | ⋯             |  1.247052e+00 | 2.778971e-01  |  1.388627e+00 | 2.222633e-17  | 4.655672e-17  |  8.955273e-18 |  7.085233e-17 | -5.550237e-18 | -3.264701e-17 |  3.758568e-17 | \n",
       "| -1.4111146    |  2.33498043   |  1.9820015    |  1.93684339   |  0.3948244    |  1.011809     |  1.51571067   | -0.4306253    | -1.932131148  | -1.483913     | ⋯             |  3.243232e-18 | 1.787740e-17  | -1.710016e-17 | 2.222633e-17  | 4.655672e-17  |  8.955273e-18 |  7.085233e-17 | -5.550237e-18 | -3.264701e-17 |  3.758568e-17 | \n",
       "| -1.4399255    | -1.28280410   | -1.0704268    | -0.17474166   | -1.4871600    | -1.394502     | -1.89260862   | -1.7206121    | -1.970658321  | -1.081977     | ⋯             |  3.243232e-18 | 1.787740e-17  | -1.710016e-17 | 2.222633e-17  | 4.655672e-17  |  8.955273e-18 |  7.085233e-17 | -5.550237e-18 | -3.264701e-17 |  3.758568e-17 | \n",
       "|  1.6486063    |  1.38624073   | -0.8312440    |  0.11194874   | -0.4125526    |  1.039279     |  0.91584648   |  1.0800171    |  0.825313700  |  1.076363     | ⋯             |  2.596330e-01 | 7.437882e-01  |  3.438061e-01 | 1.148643e-01  | 7.501635e-01  |  1.095785e+00 |  2.827096e-01 | -2.576014e-01 | -2.825814e-01 | -8.223640e-02 | \n",
       "|  0.3694009    | -1.14563691   |  0.1710459    |  1.50680779   | -0.9924994    | -1.301106     | -0.14754914   | -1.6017975    |  0.396010910  | -1.538973     | ⋯             |  3.243232e-18 | 1.787740e-17  | -1.710016e-17 | 2.222633e-17  | 4.655672e-17  |  8.955273e-18 |  7.085233e-17 | -5.550237e-18 | -3.264701e-17 |  3.758568e-17 | \n",
       "| -0.1607202    |  0.08886776   |  0.1539614    |  0.01270976   |  0.7302839    |  0.429460     | -0.01666968   |  0.1295005    |  0.005235292  |  0.118324     | ⋯             | -1.779059e-01 | 1.787740e-17  | -6.618698e-02 | 2.222633e-17  | 4.655672e-17  | -3.306340e-01 | -2.162044e-02 | -5.550237e-18 | -3.264701e-17 |  3.758568e-17 | \n",
       "\n",
       "\n"
      ],
      "text/plain": [
       "  6          8           9          14          16         17       \n",
       "1  0.4154984 -1.17992871 -1.4462855 -1.01275974  0.4801107 -1.339563\n",
       "2 -1.4111146  2.33498043  1.9820015  1.93684339  0.3948244  1.011809\n",
       "3 -1.4399255 -1.28280410 -1.0704268 -0.17474166 -1.4871600 -1.394502\n",
       "4  1.6486063  1.38624073 -0.8312440  0.11194874 -0.4125526  1.039279\n",
       "5  0.3694009 -1.14563691  0.1710459  1.50680779 -0.9924994 -1.301106\n",
       "6 -0.1607202  0.08886776  0.1539614  0.01270976  0.7302839  0.429460\n",
       "  18          19         20           21        ⋯ 92            93          \n",
       "1 -1.74536923 -1.2962743 -1.783526336 -1.489419 ⋯  1.247052e+00 2.778971e-01\n",
       "2  1.51571067 -0.4306253 -1.932131148 -1.483913 ⋯  3.243232e-18 1.787740e-17\n",
       "3 -1.89260862 -1.7206121 -1.970658321 -1.081977 ⋯  3.243232e-18 1.787740e-17\n",
       "4  0.91584648  1.0800171  0.825313700  1.076363 ⋯  2.596330e-01 7.437882e-01\n",
       "5 -0.14754914 -1.6017975  0.396010910 -1.538973 ⋯  3.243232e-18 1.787740e-17\n",
       "6 -0.01666968  0.1295005  0.005235292  0.118324 ⋯ -1.779059e-01 1.787740e-17\n",
       "  94            95           96           97            98           \n",
       "1  1.388627e+00 2.222633e-17 4.655672e-17  8.955273e-18  7.085233e-17\n",
       "2 -1.710016e-17 2.222633e-17 4.655672e-17  8.955273e-18  7.085233e-17\n",
       "3 -1.710016e-17 2.222633e-17 4.655672e-17  8.955273e-18  7.085233e-17\n",
       "4  3.438061e-01 1.148643e-01 7.501635e-01  1.095785e+00  2.827096e-01\n",
       "5 -1.710016e-17 2.222633e-17 4.655672e-17  8.955273e-18  7.085233e-17\n",
       "6 -6.618698e-02 2.222633e-17 4.655672e-17 -3.306340e-01 -2.162044e-02\n",
       "  99            100           101          \n",
       "1 -5.550237e-18 -3.264701e-17  3.758568e-17\n",
       "2 -5.550237e-18 -3.264701e-17  3.758568e-17\n",
       "3 -5.550237e-18 -3.264701e-17  3.758568e-17\n",
       "4 -2.576014e-01 -2.825814e-01 -8.223640e-02\n",
       "5 -5.550237e-18 -3.264701e-17  3.758568e-17\n",
       "6 -5.550237e-18 -3.264701e-17  3.758568e-17"
      ]
     },
     "metadata": {},
     "output_type": "display_data"
    }
   ],
   "source": [
    "rownames(jesterScaled) <- 1:nrow(jesterScaled)\n",
    "ItemIndex <- as.numeric(sub(\"V\", \"\", ItemIndex))\n",
    "colnames(jesterScaled) <- ItemIndex\n",
    "head(jesterScaled)"
   ]
  },
  {
   "cell_type": "markdown",
   "metadata": {},
   "source": [
    "## Convert from Wide to Long"
   ]
  },
  {
   "cell_type": "code",
   "execution_count": 12,
   "metadata": {},
   "outputs": [
    {
     "data": {
      "text/html": [
       "<table>\n",
       "<thead><tr><th scope=col>user</th><th scope=col>item</th><th scope=col>rating</th></tr></thead>\n",
       "<tbody>\n",
       "\t<tr><td>1         </td><td>6         </td><td> 0.4154984</td></tr>\n",
       "\t<tr><td>2         </td><td>6         </td><td>-1.4111146</td></tr>\n",
       "\t<tr><td>3         </td><td>6         </td><td>-1.4399255</td></tr>\n",
       "\t<tr><td>4         </td><td>6         </td><td> 1.6486063</td></tr>\n",
       "\t<tr><td>5         </td><td>6         </td><td> 0.3694009</td></tr>\n",
       "\t<tr><td>6         </td><td>6         </td><td>-0.1607202</td></tr>\n",
       "</tbody>\n",
       "</table>\n"
      ],
      "text/latex": [
       "\\begin{tabular}{r|lll}\n",
       " user & item & rating\\\\\n",
       "\\hline\n",
       "\t 1          & 6          &  0.4154984\\\\\n",
       "\t 2          & 6          & -1.4111146\\\\\n",
       "\t 3          & 6          & -1.4399255\\\\\n",
       "\t 4          & 6          &  1.6486063\\\\\n",
       "\t 5          & 6          &  0.3694009\\\\\n",
       "\t 6          & 6          & -0.1607202\\\\\n",
       "\\end{tabular}\n"
      ],
      "text/markdown": [
       "\n",
       "user | item | rating | \n",
       "|---|---|---|---|---|---|\n",
       "| 1          | 6          |  0.4154984 | \n",
       "| 2          | 6          | -1.4111146 | \n",
       "| 3          | 6          | -1.4399255 | \n",
       "| 4          | 6          |  1.6486063 | \n",
       "| 5          | 6          |  0.3694009 | \n",
       "| 6          | 6          | -0.1607202 | \n",
       "\n",
       "\n"
      ],
      "text/plain": [
       "  user item rating    \n",
       "1 1    6     0.4154984\n",
       "2 2    6    -1.4111146\n",
       "3 3    6    -1.4399255\n",
       "4 4    6     1.6486063\n",
       "5 5    6     0.3694009\n",
       "6 6    6    -0.1607202"
      ]
     },
     "metadata": {},
     "output_type": "display_data"
    },
    {
     "data": {
      "text/html": [
       "<ol class=list-inline>\n",
       "\t<li>900000</li>\n",
       "\t<li>3</li>\n",
       "</ol>\n"
      ],
      "text/latex": [
       "\\begin{enumerate*}\n",
       "\\item 900000\n",
       "\\item 3\n",
       "\\end{enumerate*}\n"
      ],
      "text/markdown": [
       "1. 900000\n",
       "2. 3\n",
       "\n",
       "\n"
      ],
      "text/plain": [
       "[1] 900000      3"
      ]
     },
     "metadata": {},
     "output_type": "display_data"
    }
   ],
   "source": [
    "jesterLong <- melt(as.matrix(jesterScaled))\n",
    "names(jesterLong) <- c(\"user\", \"item\", \"rating\")\n",
    "head(jesterLong)\n",
    "dim(jesterLong)"
   ]
  },
  {
   "cell_type": "markdown",
   "metadata": {},
   "source": [
    "# Spark \n",
    "\n",
    "For the purposes of this exercise, we will use a large VM, tell spark to use all the cores, and treat this as a baby development environment for managing Spark.   Future projects may include bringing up a full spark cluster instead of a single machine with the necessary tools."
   ]
  },
  {
   "cell_type": "markdown",
   "metadata": {},
   "source": [
    "## Start Timer"
   ]
  },
  {
   "cell_type": "code",
   "execution_count": 13,
   "metadata": {
    "collapsed": true
   },
   "outputs": [],
   "source": [
    "ptm <- proc.time()"
   ]
  },
  {
   "cell_type": "markdown",
   "metadata": {},
   "source": [
    "## Config and Connect"
   ]
  },
  {
   "cell_type": "code",
   "execution_count": 14,
   "metadata": {},
   "outputs": [],
   "source": [
    "Sys.setenv(JAVA_HOME = \"/usr/lib/jvm/java-7-openjdk-amd64/jre\")\n",
    "#Sys.getenv(\"JAVA_HOME\")\n",
    "Sys.setenv(SPARK_HOME = \"/home/ubuntu/.cache/spark/spark-1.6.2-bin-hadoop2.6\")\n",
    "#spark_home_dir()\n",
    "#spark_installed_versions()\n",
    "\n",
    "config <- spark_config()\n",
    "#config$sparklyr.shell.driver.memory <- \"4G\"\n",
    "#config$sparklyr.shell.executor.memory <- \"4G\"\n",
    "#config$sparklyr.cores.local <- 8\n",
    "#config$spark.sql.shuffle.partitions.local <- 2001\n",
    "#config$spark.yarn.executor.memoryOverhead <- \"1g\"\n",
    "\n",
    "sc <- spark_connect(master = \"local[*]\", config = config)"
   ]
  },
  {
   "cell_type": "markdown",
   "metadata": {},
   "source": [
    "## Load Data"
   ]
  },
  {
   "cell_type": "code",
   "execution_count": 15,
   "metadata": {},
   "outputs": [
    {
     "data": {
      "text/plain": [
       "# Source:   table<jester_tbl> [?? x 3]\n",
       "# Database: spark_connection\n",
       "    user  item     rating\n",
       "   <int> <int>      <dbl>\n",
       " 1     1     6  0.4154984\n",
       " 2     2     6 -1.4111146\n",
       " 3     3     6 -1.4399255\n",
       " 4     4     6  1.6486063\n",
       " 5     5     6  0.3694009\n",
       " 6     6     6 -0.1607202\n",
       " 7     7     6  1.5218382\n",
       " 8     8     6  1.8963803\n",
       " 9     9     6 -0.6850791\n",
       "10    10     6 -0.9443775\n",
       "# ... with 9e+05 more rows"
      ]
     },
     "metadata": {},
     "output_type": "display_data"
    }
   ],
   "source": [
    "jester_tbl <- sdf_copy_to(sc, jesterLong, 'jester_tbl', overwrite=TRUE)\n",
    "jester_tbl"
   ]
  },
  {
   "cell_type": "markdown",
   "metadata": {},
   "source": [
    "# Model\n",
    "\n",
    "## ALS Factorization"
   ]
  },
  {
   "cell_type": "code",
   "execution_count": 16,
   "metadata": {
    "scrolled": true
   },
   "outputs": [
    {
     "data": {
      "text/plain": [
       "                 Length Class      Mode       \n",
       "item.factors     11     data.frame list       \n",
       "user.factors     11     data.frame list       \n",
       "data              2     spark_jobj environment\n",
       "ml.options        6     ml_options list       \n",
       "model.parameters  2     -none-     list       \n",
       ".call             5     -none-     call       \n",
       ".model            2     spark_jobj environment"
      ]
     },
     "metadata": {},
     "output_type": "display_data"
    }
   ],
   "source": [
    "explicit_model <- ml_als_factorization(jester_tbl, \n",
    "                                       rating.column = \"rating\", \n",
    "                                       user.column = \"user\",\n",
    "                                       item.column = \"item\")\n",
    "summary(explicit_model)"
   ]
  },
  {
   "cell_type": "markdown",
   "metadata": {},
   "source": [
    "## Make Predictions"
   ]
  },
  {
   "cell_type": "code",
   "execution_count": 17,
   "metadata": {},
   "outputs": [
    {
     "data": {
      "text/html": [
       "<table>\n",
       "<thead><tr><th scope=col>user</th><th scope=col>item</th><th scope=col>rating</th><th scope=col>prediction</th></tr></thead>\n",
       "<tbody>\n",
       "\t<tr><td> 7          </td><td>23          </td><td>1.057460e+00</td><td> 0.013365468</td></tr>\n",
       "\t<tr><td>15          </td><td>23          </td><td>4.759148e-18</td><td> 0.085968822</td></tr>\n",
       "\t<tr><td>23          </td><td>23          </td><td>4.759148e-18</td><td>-0.001698845</td></tr>\n",
       "\t<tr><td>31          </td><td>23          </td><td>4.759148e-18</td><td> 0.051732630</td></tr>\n",
       "\t<tr><td>39          </td><td>23          </td><td>4.759148e-18</td><td> 0.070192829</td></tr>\n",
       "\t<tr><td>47          </td><td>23          </td><td>4.759148e-18</td><td>-0.003583969</td></tr>\n",
       "\t<tr><td>55          </td><td>23          </td><td>4.759148e-18</td><td> 0.007726795</td></tr>\n",
       "\t<tr><td>63          </td><td>23          </td><td>4.759148e-18</td><td> 0.025028076</td></tr>\n",
       "\t<tr><td>71          </td><td>23          </td><td>4.759148e-18</td><td> 0.019135986</td></tr>\n",
       "\t<tr><td>79          </td><td>23          </td><td>4.759148e-18</td><td> 0.008001506</td></tr>\n",
       "</tbody>\n",
       "</table>\n"
      ],
      "text/latex": [
       "\\begin{tabular}{r|llll}\n",
       " user & item & rating & prediction\\\\\n",
       "\\hline\n",
       "\t  7           & 23           & 1.057460e+00 &  0.013365468\\\\\n",
       "\t 15           & 23           & 4.759148e-18 &  0.085968822\\\\\n",
       "\t 23           & 23           & 4.759148e-18 & -0.001698845\\\\\n",
       "\t 31           & 23           & 4.759148e-18 &  0.051732630\\\\\n",
       "\t 39           & 23           & 4.759148e-18 &  0.070192829\\\\\n",
       "\t 47           & 23           & 4.759148e-18 & -0.003583969\\\\\n",
       "\t 55           & 23           & 4.759148e-18 &  0.007726795\\\\\n",
       "\t 63           & 23           & 4.759148e-18 &  0.025028076\\\\\n",
       "\t 71           & 23           & 4.759148e-18 &  0.019135986\\\\\n",
       "\t 79           & 23           & 4.759148e-18 &  0.008001506\\\\\n",
       "\\end{tabular}\n"
      ],
      "text/markdown": [
       "\n",
       "user | item | rating | prediction | \n",
       "|---|---|---|---|---|---|---|---|---|---|\n",
       "|  7           | 23           | 1.057460e+00 |  0.013365468 | \n",
       "| 15           | 23           | 4.759148e-18 |  0.085968822 | \n",
       "| 23           | 23           | 4.759148e-18 | -0.001698845 | \n",
       "| 31           | 23           | 4.759148e-18 |  0.051732630 | \n",
       "| 39           | 23           | 4.759148e-18 |  0.070192829 | \n",
       "| 47           | 23           | 4.759148e-18 | -0.003583969 | \n",
       "| 55           | 23           | 4.759148e-18 |  0.007726795 | \n",
       "| 63           | 23           | 4.759148e-18 |  0.025028076 | \n",
       "| 71           | 23           | 4.759148e-18 |  0.019135986 | \n",
       "| 79           | 23           | 4.759148e-18 |  0.008001506 | \n",
       "\n",
       "\n"
      ],
      "text/plain": [
       "   user item rating       prediction  \n",
       "1   7   23   1.057460e+00  0.013365468\n",
       "2  15   23   4.759148e-18  0.085968822\n",
       "3  23   23   4.759148e-18 -0.001698845\n",
       "4  31   23   4.759148e-18  0.051732630\n",
       "5  39   23   4.759148e-18  0.070192829\n",
       "6  47   23   4.759148e-18 -0.003583969\n",
       "7  55   23   4.759148e-18  0.007726795\n",
       "8  63   23   4.759148e-18  0.025028076\n",
       "9  71   23   4.759148e-18  0.019135986\n",
       "10 79   23   4.759148e-18  0.008001506"
      ]
     },
     "metadata": {},
     "output_type": "display_data"
    }
   ],
   "source": [
    "predictions <- explicit_model$.model %>%\n",
    "    invoke(\"transform\", spark_dataframe(jester_tbl)) %>%\n",
    "    collect()\n",
    "\n",
    "mypred <- data.frame(predictions)\n",
    "mypred[1:10,]"
   ]
  },
  {
   "cell_type": "code",
   "execution_count": 18,
   "metadata": {},
   "outputs": [
    {
     "data": {
      "text/html": [
       "<table>\n",
       "<thead><tr><th></th><th scope=col>id</th><th scope=col>V1</th><th scope=col>V2</th><th scope=col>V3</th><th scope=col>V4</th><th scope=col>V5</th><th scope=col>V6</th><th scope=col>V7</th><th scope=col>V8</th><th scope=col>V9</th><th scope=col>V10</th></tr></thead>\n",
       "<tbody>\n",
       "\t<tr><th scope=row>8209</th><td>8209        </td><td>-0.004788418</td><td>-0.1040003  </td><td>0.002085974 </td><td>0.06414935  </td><td>0.09893     </td><td>-0.007285535</td><td>0.007995718 </td><td>0.1057781   </td><td>-0.03151909 </td><td>0.03412427  </td></tr>\n",
       "</tbody>\n",
       "</table>\n"
      ],
      "text/latex": [
       "\\begin{tabular}{r|lllllllllll}\n",
       "  & id & V1 & V2 & V3 & V4 & V5 & V6 & V7 & V8 & V9 & V10\\\\\n",
       "\\hline\n",
       "\t8209 & 8209         & -0.004788418 & -0.1040003   & 0.002085974  & 0.06414935   & 0.09893      & -0.007285535 & 0.007995718  & 0.1057781    & -0.03151909  & 0.03412427  \\\\\n",
       "\\end{tabular}\n"
      ],
      "text/markdown": [
       "\n",
       "| <!--/--> | id | V1 | V2 | V3 | V4 | V5 | V6 | V7 | V8 | V9 | V10 | \n",
       "|---|\n",
       "| 8209 | 8209         | -0.004788418 | -0.1040003   | 0.002085974  | 0.06414935   | 0.09893      | -0.007285535 | 0.007995718  | 0.1057781    | -0.03151909  | 0.03412427   | \n",
       "\n",
       "\n"
      ],
      "text/plain": [
       "     id   V1           V2         V3          V4         V5      V6          \n",
       "8209 8209 -0.004788418 -0.1040003 0.002085974 0.06414935 0.09893 -0.007285535\n",
       "     V7          V8        V9          V10       \n",
       "8209 0.007995718 0.1057781 -0.03151909 0.03412427"
      ]
     },
     "metadata": {},
     "output_type": "display_data"
    }
   ],
   "source": [
    "item.factors <- explicit_model$item.factors\n",
    "user.factors <- explicit_model$user.factors\n",
    "usertopredict <- user.factors[sample(1:nrow(jesterScaled),1), ]\n",
    "usertopredict"
   ]
  },
  {
   "cell_type": "markdown",
   "metadata": {},
   "source": [
    "## RMSE"
   ]
  },
  {
   "cell_type": "code",
   "execution_count": 19,
   "metadata": {},
   "outputs": [
    {
     "data": {
      "text/html": [
       "0.445332972033776"
      ],
      "text/latex": [
       "0.445332972033776"
      ],
      "text/markdown": [
       "0.445332972033776"
      ],
      "text/plain": [
       "[1] 0.445333"
      ]
     },
     "metadata": {},
     "output_type": "display_data"
    }
   ],
   "source": [
    "sqrt(mean((mypred$rating-mypred$prediction)^2))"
   ]
  },
  {
   "cell_type": "markdown",
   "metadata": {},
   "source": [
    "# Recommend\n",
    "\n",
    "## Long to Wide"
   ]
  },
  {
   "cell_type": "code",
   "execution_count": 20,
   "metadata": {},
   "outputs": [
    {
     "data": {
      "text/html": [
       "<ol class=list-inline>\n",
       "\t<li>10000</li>\n",
       "\t<li>90</li>\n",
       "</ol>\n"
      ],
      "text/latex": [
       "\\begin{enumerate*}\n",
       "\\item 10000\n",
       "\\item 90\n",
       "\\end{enumerate*}\n"
      ],
      "text/markdown": [
       "1. 10000\n",
       "2. 90\n",
       "\n",
       "\n"
      ],
      "text/plain": [
       "[1] 10000    90"
      ]
     },
     "metadata": {},
     "output_type": "display_data"
    },
    {
     "data": {
      "text/html": [
       "<table>\n",
       "<thead><tr><th scope=col>prediction.23</th><th scope=col>prediction.31</th><th scope=col>prediction.39</th><th scope=col>prediction.47</th><th scope=col>prediction.55</th><th scope=col>prediction.63</th><th scope=col>prediction.71</th><th scope=col>prediction.79</th><th scope=col>prediction.87</th><th scope=col>prediction.95</th><th scope=col>⋯</th><th scope=col>prediction.22</th><th scope=col>prediction.30</th><th scope=col>prediction.38</th><th scope=col>prediction.46</th><th scope=col>prediction.54</th><th scope=col>prediction.62</th><th scope=col>prediction.70</th><th scope=col>prediction.78</th><th scope=col>prediction.86</th><th scope=col>prediction.94</th></tr></thead>\n",
       "<tbody>\n",
       "\t<tr><td> 0.05615517 </td><td> 0.05082076 </td><td> 0.06403974 </td><td> 0.05592159 </td><td> 0.07090876 </td><td> 0.07509875 </td><td> 0.06514550 </td><td> 0.06219769 </td><td> 0.04497261 </td><td> 0.04565288 </td><td>⋯           </td><td> 0.05321580 </td><td> 0.06336978 </td><td> 0.04320074 </td><td> 0.05839832 </td><td> 0.06448778 </td><td> 0.008848512</td><td> 0.08261795 </td><td> 0.06133762 </td><td> 0.04567208 </td><td> 0.07872505 </td></tr>\n",
       "\t<tr><td> 0.05128326 </td><td> 0.05463702 </td><td> 0.05056295 </td><td> 0.05184392 </td><td> 0.05631911 </td><td> 0.07034279 </td><td> 0.05510811 </td><td> 0.06191062 </td><td> 0.04839879 </td><td> 0.05671285 </td><td>⋯           </td><td> 0.07401517 </td><td> 0.06400310 </td><td> 0.05332178 </td><td> 0.05572774 </td><td> 0.09465183 </td><td> 0.007892246</td><td> 0.07317279 </td><td> 0.05108503 </td><td> 0.05028581 </td><td> 0.06874856 </td></tr>\n",
       "\t<tr><td>-0.06081278 </td><td>-0.06642985 </td><td>-0.05876690 </td><td>-0.06176578 </td><td>-0.06613295 </td><td>-0.08501925 </td><td>-0.06540196 </td><td>-0.07493825 </td><td>-0.05844760 </td><td>-0.06992200 </td><td>⋯           </td><td>-0.09326705 </td><td>-0.07779347 </td><td>-0.06538142 </td><td>-0.06665988 </td><td>-0.12135659 </td><td>-0.009430147</td><td>-0.08865504 </td><td>-0.06048110 </td><td>-0.06136044 </td><td>-0.08302406 </td></tr>\n",
       "\t<tr><td> 0.07101019 </td><td> 0.07278206 </td><td> 0.07309171 </td><td> 0.07162258 </td><td> 0.08175793 </td><td> 0.09779701 </td><td> 0.07858922 </td><td> 0.08434819 </td><td> 0.06412922 </td><td> 0.07301992 </td><td>⋯           </td><td> 0.09395625 </td><td> 0.08702207 </td><td> 0.06849197 </td><td> 0.07640637 </td><td> 0.12017187 </td><td> 0.011082107</td><td> 0.10400355 </td><td> 0.07317577 </td><td> 0.06665094 </td><td> 0.09801082 </td></tr>\n",
       "\t<tr><td>-0.07178781 </td><td>-0.07322251 </td><td>-0.07419791 </td><td>-0.07235932 </td><td>-0.08291574 </td><td>-0.09866697 </td><td>-0.07955003 </td><td>-0.08500013 </td><td>-0.06455377 </td><td>-0.07319944 </td><td>⋯           </td><td>-0.09383835 </td><td>-0.08764000 </td><td>-0.06870005 </td><td>-0.07712889 </td><td>-0.11973710 </td><td>-0.011201037</td><td>-0.10501070 </td><td>-0.07410499 </td><td>-0.06700680 </td><td>-0.09901130 </td></tr>\n",
       "\t<tr><td>-0.05019757 </td><td>-0.04893268 </td><td>-0.05398979 </td><td>-0.05035898 </td><td>-0.06010565 </td><td>-0.06826287 </td><td>-0.05664934 </td><td>-0.05792908 </td><td>-0.04319863 </td><td>-0.04710827 </td><td>⋯           </td><td>-0.05852740 </td><td>-0.05946356 </td><td>-0.04433725 </td><td>-0.05325322 </td><td>-0.07348292 </td><td>-0.007862659</td><td>-0.07359621 </td><td>-0.05300052 </td><td>-0.04448594 </td><td>-0.06968167 </td></tr>\n",
       "</tbody>\n",
       "</table>\n"
      ],
      "text/latex": [
       "\\begin{tabular}{r|llllllllllllllllllllllllllllllllllllllllllllllllllllllllllllllllllllllllllllllllllllllllll}\n",
       " prediction.23 & prediction.31 & prediction.39 & prediction.47 & prediction.55 & prediction.63 & prediction.71 & prediction.79 & prediction.87 & prediction.95 & ⋯ & prediction.22 & prediction.30 & prediction.38 & prediction.46 & prediction.54 & prediction.62 & prediction.70 & prediction.78 & prediction.86 & prediction.94\\\\\n",
       "\\hline\n",
       "\t  0.05615517  &  0.05082076  &  0.06403974  &  0.05592159  &  0.07090876  &  0.07509875  &  0.06514550  &  0.06219769  &  0.04497261  &  0.04565288  & ⋯            &  0.05321580  &  0.06336978  &  0.04320074  &  0.05839832  &  0.06448778  &  0.008848512 &  0.08261795  &  0.06133762  &  0.04567208  &  0.07872505 \\\\\n",
       "\t  0.05128326  &  0.05463702  &  0.05056295  &  0.05184392  &  0.05631911  &  0.07034279  &  0.05510811  &  0.06191062  &  0.04839879  &  0.05671285  & ⋯            &  0.07401517  &  0.06400310  &  0.05332178  &  0.05572774  &  0.09465183  &  0.007892246 &  0.07317279  &  0.05108503  &  0.05028581  &  0.06874856 \\\\\n",
       "\t -0.06081278  & -0.06642985  & -0.05876690  & -0.06176578  & -0.06613295  & -0.08501925  & -0.06540196  & -0.07493825  & -0.05844760  & -0.06992200  & ⋯            & -0.09326705  & -0.07779347  & -0.06538142  & -0.06665988  & -0.12135659  & -0.009430147 & -0.08865504  & -0.06048110  & -0.06136044  & -0.08302406 \\\\\n",
       "\t  0.07101019  &  0.07278206  &  0.07309171  &  0.07162258  &  0.08175793  &  0.09779701  &  0.07858922  &  0.08434819  &  0.06412922  &  0.07301992  & ⋯            &  0.09395625  &  0.08702207  &  0.06849197  &  0.07640637  &  0.12017187  &  0.011082107 &  0.10400355  &  0.07317577  &  0.06665094  &  0.09801082 \\\\\n",
       "\t -0.07178781  & -0.07322251  & -0.07419791  & -0.07235932  & -0.08291574  & -0.09866697  & -0.07955003  & -0.08500013  & -0.06455377  & -0.07319944  & ⋯            & -0.09383835  & -0.08764000  & -0.06870005  & -0.07712889  & -0.11973710  & -0.011201037 & -0.10501070  & -0.07410499  & -0.06700680  & -0.09901130 \\\\\n",
       "\t -0.05019757  & -0.04893268  & -0.05398979  & -0.05035898  & -0.06010565  & -0.06826287  & -0.05664934  & -0.05792908  & -0.04319863  & -0.04710827  & ⋯            & -0.05852740  & -0.05946356  & -0.04433725  & -0.05325322  & -0.07348292  & -0.007862659 & -0.07359621  & -0.05300052  & -0.04448594  & -0.06968167 \\\\\n",
       "\\end{tabular}\n"
      ],
      "text/markdown": [
       "\n",
       "prediction.23 | prediction.31 | prediction.39 | prediction.47 | prediction.55 | prediction.63 | prediction.71 | prediction.79 | prediction.87 | prediction.95 | ⋯ | prediction.22 | prediction.30 | prediction.38 | prediction.46 | prediction.54 | prediction.62 | prediction.70 | prediction.78 | prediction.86 | prediction.94 | \n",
       "|---|---|---|---|---|---|\n",
       "|  0.05615517  |  0.05082076  |  0.06403974  |  0.05592159  |  0.07090876  |  0.07509875  |  0.06514550  |  0.06219769  |  0.04497261  |  0.04565288  | ⋯            |  0.05321580  |  0.06336978  |  0.04320074  |  0.05839832  |  0.06448778  |  0.008848512 |  0.08261795  |  0.06133762  |  0.04567208  |  0.07872505  | \n",
       "|  0.05128326  |  0.05463702  |  0.05056295  |  0.05184392  |  0.05631911  |  0.07034279  |  0.05510811  |  0.06191062  |  0.04839879  |  0.05671285  | ⋯            |  0.07401517  |  0.06400310  |  0.05332178  |  0.05572774  |  0.09465183  |  0.007892246 |  0.07317279  |  0.05108503  |  0.05028581  |  0.06874856  | \n",
       "| -0.06081278  | -0.06642985  | -0.05876690  | -0.06176578  | -0.06613295  | -0.08501925  | -0.06540196  | -0.07493825  | -0.05844760  | -0.06992200  | ⋯            | -0.09326705  | -0.07779347  | -0.06538142  | -0.06665988  | -0.12135659  | -0.009430147 | -0.08865504  | -0.06048110  | -0.06136044  | -0.08302406  | \n",
       "|  0.07101019  |  0.07278206  |  0.07309171  |  0.07162258  |  0.08175793  |  0.09779701  |  0.07858922  |  0.08434819  |  0.06412922  |  0.07301992  | ⋯            |  0.09395625  |  0.08702207  |  0.06849197  |  0.07640637  |  0.12017187  |  0.011082107 |  0.10400355  |  0.07317577  |  0.06665094  |  0.09801082  | \n",
       "| -0.07178781  | -0.07322251  | -0.07419791  | -0.07235932  | -0.08291574  | -0.09866697  | -0.07955003  | -0.08500013  | -0.06455377  | -0.07319944  | ⋯            | -0.09383835  | -0.08764000  | -0.06870005  | -0.07712889  | -0.11973710  | -0.011201037 | -0.10501070  | -0.07410499  | -0.06700680  | -0.09901130  | \n",
       "| -0.05019757  | -0.04893268  | -0.05398979  | -0.05035898  | -0.06010565  | -0.06826287  | -0.05664934  | -0.05792908  | -0.04319863  | -0.04710827  | ⋯            | -0.05852740  | -0.05946356  | -0.04433725  | -0.05325322  | -0.07348292  | -0.007862659 | -0.07359621  | -0.05300052  | -0.04448594  | -0.06968167  | \n",
       "\n",
       "\n"
      ],
      "text/plain": [
       "  prediction.23 prediction.31 prediction.39 prediction.47 prediction.55\n",
       "1  0.05615517    0.05082076    0.06403974    0.05592159    0.07090876  \n",
       "2  0.05128326    0.05463702    0.05056295    0.05184392    0.05631911  \n",
       "3 -0.06081278   -0.06642985   -0.05876690   -0.06176578   -0.06613295  \n",
       "4  0.07101019    0.07278206    0.07309171    0.07162258    0.08175793  \n",
       "5 -0.07178781   -0.07322251   -0.07419791   -0.07235932   -0.08291574  \n",
       "6 -0.05019757   -0.04893268   -0.05398979   -0.05035898   -0.06010565  \n",
       "  prediction.63 prediction.71 prediction.79 prediction.87 prediction.95 ⋯\n",
       "1  0.07509875    0.06514550    0.06219769    0.04497261    0.04565288   ⋯\n",
       "2  0.07034279    0.05510811    0.06191062    0.04839879    0.05671285   ⋯\n",
       "3 -0.08501925   -0.06540196   -0.07493825   -0.05844760   -0.06992200   ⋯\n",
       "4  0.09779701    0.07858922    0.08434819    0.06412922    0.07301992   ⋯\n",
       "5 -0.09866697   -0.07955003   -0.08500013   -0.06455377   -0.07319944   ⋯\n",
       "6 -0.06826287   -0.05664934   -0.05792908   -0.04319863   -0.04710827   ⋯\n",
       "  prediction.22 prediction.30 prediction.38 prediction.46 prediction.54\n",
       "1  0.05321580    0.06336978    0.04320074    0.05839832    0.06448778  \n",
       "2  0.07401517    0.06400310    0.05332178    0.05572774    0.09465183  \n",
       "3 -0.09326705   -0.07779347   -0.06538142   -0.06665988   -0.12135659  \n",
       "4  0.09395625    0.08702207    0.06849197    0.07640637    0.12017187  \n",
       "5 -0.09383835   -0.08764000   -0.06870005   -0.07712889   -0.11973710  \n",
       "6 -0.05852740   -0.05946356   -0.04433725   -0.05325322   -0.07348292  \n",
       "  prediction.62 prediction.70 prediction.78 prediction.86 prediction.94\n",
       "1  0.008848512   0.08261795    0.06133762    0.04567208    0.07872505  \n",
       "2  0.007892246   0.07317279    0.05108503    0.05028581    0.06874856  \n",
       "3 -0.009430147  -0.08865504   -0.06048110   -0.06136044   -0.08302406  \n",
       "4  0.011082107   0.10400355    0.07317577    0.06665094    0.09801082  \n",
       "5 -0.011201037  -0.10501070   -0.07410499   -0.06700680   -0.09901130  \n",
       "6 -0.007862659  -0.07359621   -0.05300052   -0.04448594   -0.06968167  "
      ]
     },
     "metadata": {},
     "output_type": "display_data"
    }
   ],
   "source": [
    "mypredsub <- subset(mypred, select = -c(rating) )\n",
    "predWide <- reshape(mypredsub, idvar = \"user\", timevar = \"item\", direction = \"wide\") %>%\n",
    "    arrange(user)\n",
    "predWide <- predWide[,2:ncol(predWide)]\n",
    "dim(predWide)\n",
    "head(predWide)"
   ]
  },
  {
   "cell_type": "markdown",
   "metadata": {},
   "source": [
    "## Get Joke Helper Function"
   ]
  },
  {
   "cell_type": "code",
   "execution_count": 21,
   "metadata": {
    "collapsed": true
   },
   "outputs": [],
   "source": [
    "getJoke <- function(recnum) {\n",
    "    # get a recommended joke from the zip file w/o unzipping only in mem\n",
    "    recnum <- as.numeric(gsub(\"prediction.\", \"\", recnum))\n",
    "    filename <- paste0('jokes/init', recnum, '.html')\n",
    "    joke <- readLines(unz('../Project2/jester_dataset_1_joke_texts.zip', filename))\n",
    "    # inspired by: http://www.quantumforest.com/2011/10/reading-html-pages-in-r-for-text-processing/\n",
    "    html <- htmlTreeParse(joke,useInternal = TRUE)\n",
    "    text <- unlist(xpathApply(html, '//td', xmlValue))\n",
    "    text <- gsub('\\n', ' ', text)\n",
    "    text <- sub(\"^[^a-zA-Z]*\", \"\", text)\n",
    "    text <- gsub('  ', ' ', text)\n",
    "    text <- gsub(\"\\\\\\\"\", \"'\", text)\n",
    "    text <- paste(text, collapse = ' ')\n",
    "}"
   ]
  },
  {
   "cell_type": "markdown",
   "metadata": {},
   "source": [
    "## Get Sample User"
   ]
  },
  {
   "cell_type": "code",
   "execution_count": 22,
   "metadata": {},
   "outputs": [
    {
     "data": {
      "text/html": [
       "<table>\n",
       "<thead><tr><th></th><th scope=col>rating</th><th scope=col>item</th></tr></thead>\n",
       "<tbody>\n",
       "\t<tr><th scope=row>prediction.23</th><td>0.01502153   </td><td>prediction.23</td></tr>\n",
       "\t<tr><th scope=row>prediction.31</th><td>0.01717474   </td><td>prediction.31</td></tr>\n",
       "\t<tr><th scope=row>prediction.39</th><td>0.01384922   </td><td>prediction.39</td></tr>\n",
       "\t<tr><th scope=row>prediction.47</th><td>0.01535112   </td><td>prediction.47</td></tr>\n",
       "\t<tr><th scope=row>prediction.55</th><td>0.01573117   </td><td>prediction.55</td></tr>\n",
       "\t<tr><th scope=row>prediction.63</th><td>0.02138688   </td><td>prediction.63</td></tr>\n",
       "</tbody>\n",
       "</table>\n"
      ],
      "text/latex": [
       "\\begin{tabular}{r|ll}\n",
       "  & rating & item\\\\\n",
       "\\hline\n",
       "\tprediction.23 & 0.01502153    & prediction.23\\\\\n",
       "\tprediction.31 & 0.01717474    & prediction.31\\\\\n",
       "\tprediction.39 & 0.01384922    & prediction.39\\\\\n",
       "\tprediction.47 & 0.01535112    & prediction.47\\\\\n",
       "\tprediction.55 & 0.01573117    & prediction.55\\\\\n",
       "\tprediction.63 & 0.02138688    & prediction.63\\\\\n",
       "\\end{tabular}\n"
      ],
      "text/markdown": [
       "\n",
       "| <!--/--> | rating | item | \n",
       "|---|---|---|---|---|---|\n",
       "| prediction.23 | 0.01502153    | prediction.23 | \n",
       "| prediction.31 | 0.01717474    | prediction.31 | \n",
       "| prediction.39 | 0.01384922    | prediction.39 | \n",
       "| prediction.47 | 0.01535112    | prediction.47 | \n",
       "| prediction.55 | 0.01573117    | prediction.55 | \n",
       "| prediction.63 | 0.02138688    | prediction.63 | \n",
       "\n",
       "\n"
      ],
      "text/plain": [
       "              rating     item         \n",
       "prediction.23 0.01502153 prediction.23\n",
       "prediction.31 0.01717474 prediction.31\n",
       "prediction.39 0.01384922 prediction.39\n",
       "prediction.47 0.01535112 prediction.47\n",
       "prediction.55 0.01573117 prediction.55\n",
       "prediction.63 0.02138688 prediction.63"
      ]
     },
     "metadata": {},
     "output_type": "display_data"
    }
   ],
   "source": [
    "usertopredict <- as.data.frame(t(predWide[sample(1:nrow(predWide),1), ]))\n",
    "names(usertopredict) <- 'rating'\n",
    "usertopredict$item<-rownames(usertopredict)\n",
    "head(usertopredict)"
   ]
  },
  {
   "cell_type": "markdown",
   "metadata": {},
   "source": [
    "## Make Predictions for Sample User"
   ]
  },
  {
   "cell_type": "code",
   "execution_count": 23,
   "metadata": {},
   "outputs": [
    {
     "data": {
      "text/html": [
       "'prediction.16'"
      ],
      "text/latex": [
       "'prediction.16'"
      ],
      "text/markdown": [
       "'prediction.16'"
      ],
      "text/plain": [
       "[1] \"prediction.16\""
      ]
     },
     "metadata": {},
     "output_type": "display_data"
    },
    {
     "data": {
      "text/html": [
       "<table>\n",
       "<thead><tr><th scope=col>rating</th><th scope=col>item</th></tr></thead>\n",
       "<tbody>\n",
       "\t<tr><td>0.2505300    </td><td>prediction.16</td></tr>\n",
       "\t<tr><td>0.2416209    </td><td>prediction.19</td></tr>\n",
       "\t<tr><td>0.2376796    </td><td>prediction.17</td></tr>\n",
       "\t<tr><td>0.2273580    </td><td>prediction.9 </td></tr>\n",
       "\t<tr><td>0.2251453    </td><td>prediction.14</td></tr>\n",
       "</tbody>\n",
       "</table>\n"
      ],
      "text/latex": [
       "\\begin{tabular}{r|ll}\n",
       " rating & item\\\\\n",
       "\\hline\n",
       "\t 0.2505300     & prediction.16\\\\\n",
       "\t 0.2416209     & prediction.19\\\\\n",
       "\t 0.2376796     & prediction.17\\\\\n",
       "\t 0.2273580     & prediction.9 \\\\\n",
       "\t 0.2251453     & prediction.14\\\\\n",
       "\\end{tabular}\n"
      ],
      "text/markdown": [
       "\n",
       "rating | item | \n",
       "|---|---|---|---|---|\n",
       "| 0.2505300     | prediction.16 | \n",
       "| 0.2416209     | prediction.19 | \n",
       "| 0.2376796     | prediction.17 | \n",
       "| 0.2273580     | prediction.9  | \n",
       "| 0.2251453     | prediction.14 | \n",
       "\n",
       "\n"
      ],
      "text/plain": [
       "  rating    item         \n",
       "1 0.2505300 prediction.16\n",
       "2 0.2416209 prediction.19\n",
       "3 0.2376796 prediction.17\n",
       "4 0.2273580 prediction.9 \n",
       "5 0.2251453 prediction.14"
      ]
     },
     "metadata": {},
     "output_type": "display_data"
    }
   ],
   "source": [
    "n <- 5\n",
    "usertopredict <- arrange(usertopredict, desc(rating))\n",
    "top_rec <- usertopredict[1,2]\n",
    "top_rec\n",
    "head(usertopredict, n)"
   ]
  },
  {
   "cell_type": "markdown",
   "metadata": {},
   "source": [
    "## Get Joke"
   ]
  },
  {
   "cell_type": "code",
   "execution_count": 24,
   "metadata": {},
   "outputs": [
    {
     "name": "stdout",
     "output_type": "stream",
     "text": [
      "[1] \"Recommended Joke: prediction.16\"\n",
      "[1] \" Q. What is orange and sounds like a parrot?  A. A carrot.    \"\n"
     ]
    }
   ],
   "source": [
    "print(paste0(\"Recommended Joke: \", top_rec))\n",
    "print(getJoke(top_rec))"
   ]
  },
  {
   "cell_type": "markdown",
   "metadata": {},
   "source": [
    "# Stop Timer"
   ]
  },
  {
   "cell_type": "code",
   "execution_count": 25,
   "metadata": {},
   "outputs": [
    {
     "data": {
      "text/plain": [
       "   user  system elapsed \n",
       " 15.443   0.279  79.956 "
      ]
     },
     "metadata": {},
     "output_type": "display_data"
    }
   ],
   "source": [
    "finaltime <- proc.time() - ptm\n",
    "finaltime "
   ]
  },
  {
   "cell_type": "markdown",
   "metadata": {},
   "source": [
    "# Spark Disconnect"
   ]
  },
  {
   "cell_type": "code",
   "execution_count": 26,
   "metadata": {},
   "outputs": [],
   "source": [
    "spark_disconnect(sc)"
   ]
  },
  {
   "cell_type": "markdown",
   "metadata": {},
   "source": [
    "# References\n",
    "\n",
    "* [Building a Recommendation System with R by Suresh K. Gorakala, Michele Usuelli](https://www.amazon.com/dp/B012O8S1YM/ref=dp-kindle-redirect?_encoding=UTF8&btkr=1)\n",
    "* https://github.com/wwells/CUNY_DATA_643/\n",
    "* [Mining of Massive Datasets, Anand Rajaraman and Jeffrey Ullman, Chapter 11.3](http://infolab.stanford.edu/~ullman/mmds/book.pdf)\n",
    "* https://rpubs.com/chezou/sparklyr-als\n",
    "* https://blog.insightdatascience.com/explicit-matrix-factorization-als-sgd-and-all-that-jazz-b00e4d9b21ea"
   ]
  },
  {
   "cell_type": "code",
   "execution_count": null,
   "metadata": {
    "collapsed": true
   },
   "outputs": [],
   "source": []
  }
 ],
 "metadata": {
  "kernelspec": {
   "display_name": "R",
   "language": "R",
   "name": "ir"
  },
  "language_info": {
   "codemirror_mode": "r",
   "file_extension": ".r",
   "mimetype": "text/x-r-source",
   "name": "R",
   "pygments_lexer": "r",
   "version": "3.3.2"
  }
 },
 "nbformat": 4,
 "nbformat_minor": 2
}
