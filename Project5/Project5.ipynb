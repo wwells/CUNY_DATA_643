{
 "cells": [
  {
   "cell_type": "markdown",
   "metadata": {},
   "source": [
    "# DATA 643: Recommender Systems\n",
    "## Walt Wells, Summer 2017\n",
    "Project 5: Implementing a Recommender System on Spark"
   ]
  },
  {
   "cell_type": "markdown",
   "metadata": {},
   "source": [
    "# Assignment Requirements\n",
    "\n",
    "_The goal of this project is give you practice beginning to work with a distributed recommender system. It is sufficient for this assignment to build out your application on a single node._\n",
    "\n",
    "Adapt one of your recommendation systems to work with Apache Spark and compare the performance with your previous iteration. Consider the efficiency of the system and the added complexity of using Spark. You may complete the assignment using PySpark (Python), SparkR (R) , sparklyr (R), or Scala.\n",
    "\n",
    "Please include in your conclusion: For your given recommender system’s data, algorithm(s), and (envisioned) implementation, at what point would you see moving to a distributed platform such as Spark becoming necessary?\n",
    "\n",
    "You may work on any platform of your choosing, including Databricks Community Edition or in local mode. You are encouraged but not required to work in a small group on this project."
   ]
  },
  {
   "cell_type": "markdown",
   "metadata": {},
   "source": [
    "# Environment Prep"
   ]
  },
  {
   "cell_type": "code",
   "execution_count": 5,
   "metadata": {},
   "outputs": [],
   "source": [
    "if (!require('sparklyr')) install.packages('sparklyr')\n",
    "if (!require('dplyr')) install.packages('dplyr')\n",
    "if (!require('recommenderlab')) install.packages('recommenderlab')\n",
    "if (!require('ggplot2')) install.packages('ggplot2')\n",
    "if (!require('XML')) install.packages('XML')"
   ]
  },
  {
   "cell_type": "markdown",
   "metadata": {},
   "source": [
    "# Data Import\n",
    "\n",
    "For this project we will use a subset of Dataset 2+ of the [Jester dataset](http://eigentaste.berkeley.edu/dataset/). \n",
    "\n",
    "This dataset is used courtesy of Dr. Ken Goldberg.  \n",
    "\n",
    "__Publication Citation:__\n",
    "Eigentaste: A Constant Time Collaborative Filtering Algorithm. Ken Goldberg, Theresa Roeder, Dhruv Gupta, and Chris Perkins. Information Retrieval, 4(2), 133-151. July 2001. \n",
    "\n",
    "To make it easier to import, the .zip file has been downloaded and the resulting .xls converted to a simple csv.  We also utilize the [joke .zip](http://eigentaste.berkeley.edu/dataset/jester_dataset_1_joke_texts.zip) in the final step. "
   ]
  },
  {
   "cell_type": "code",
   "execution_count": 2,
   "metadata": {
    "collapsed": true
   },
   "outputs": [],
   "source": [
    "jester <- read.csv(\"https://raw.githubusercontent.com/wwells/CUNY_DATA_643/master/Project2/jesterfinal151cols.csv\", header=F)\n",
    "jester <- jester[,1:101]# remove last 50 so it matches with our available joke text"
   ]
  },
  {
   "cell_type": "markdown",
   "metadata": {},
   "source": [
    "## Set Timing "
   ]
  },
  {
   "cell_type": "code",
   "execution_count": 3,
   "metadata": {},
   "outputs": [
    {
     "data": {
      "text/plain": [
       "   user  system elapsed \n",
       " 12.850   0.354  14.404 "
      ]
     },
     "metadata": {},
     "output_type": "display_data"
    }
   ],
   "source": [
    "ptm <- proc.time()\n",
    "ptm"
   ]
  },
  {
   "cell_type": "code",
   "execution_count": 4,
   "metadata": {},
   "outputs": [
    {
     "data": {
      "text/plain": [
       "   user  system elapsed \n",
       "   0.04    0.00    0.04 "
      ]
     },
     "metadata": {},
     "output_type": "display_data"
    }
   ],
   "source": [
    "# Stop Timer\n",
    "\n",
    "finaltime <- proc.time() - ptm\n",
    "finaltime \n"
   ]
  }
 ],
 "metadata": {
  "kernelspec": {
   "display_name": "R",
   "language": "R",
   "name": "ir"
  },
  "language_info": {
   "codemirror_mode": "r",
   "file_extension": ".r",
   "mimetype": "text/x-r-source",
   "name": "R",
   "pygments_lexer": "r",
   "version": "3.3.2"
  }
 },
 "nbformat": 4,
 "nbformat_minor": 2
}
